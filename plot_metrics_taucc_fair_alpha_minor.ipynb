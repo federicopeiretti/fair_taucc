{
 "cells": [
  {
   "cell_type": "code",
   "execution_count": 1,
   "id": "cabfc1bd",
   "metadata": {},
   "outputs": [],
   "source": [
    "import os\n",
    "import pandas as pd\n",
    "import numpy as np\n",
    "import matplotlib.pyplot as plt"
   ]
  },
  {
   "cell_type": "code",
   "execution_count": 2,
   "id": "24e6f7a9",
   "metadata": {},
   "outputs": [
    {
     "data": {
      "text/plain": [
       "'./fair_taucc'"
      ]
     },
     "execution_count": 2,
     "metadata": {},
     "output_type": "execute_result"
    }
   ],
   "source": [
    "root = os.getcwd()\n",
    "root "
   ]
  },
  {
   "cell_type": "code",
   "execution_count": 3,
   "id": "0099e343",
   "metadata": {},
   "outputs": [],
   "source": [
    "dataset = \"amazon\"\n",
    "sensitive = \"gender\"\n",
    "alpha = 1.0"
   ]
  },
  {
   "cell_type": "code",
   "execution_count": 4,
   "id": "69418ad2",
   "metadata": {},
   "outputs": [
    {
     "data": {
      "text/html": [
       "<div>\n",
       "<style scoped>\n",
       "    .dataframe tbody tr th:only-of-type {\n",
       "        vertical-align: middle;\n",
       "    }\n",
       "\n",
       "    .dataframe tbody tr th {\n",
       "        vertical-align: top;\n",
       "    }\n",
       "\n",
       "    .dataframe thead th {\n",
       "        text-align: right;\n",
       "    }\n",
       "</style>\n",
       "<table border=\"1\" class=\"dataframe\">\n",
       "  <thead>\n",
       "    <tr style=\"text-align: right;\">\n",
       "      <th></th>\n",
       "      <th>fair_major</th>\n",
       "      <th>fair_minor</th>\n",
       "      <th>tau_x_mean</th>\n",
       "      <th>tau_y_mean</th>\n",
       "      <th>NMI_true_labels_mean</th>\n",
       "      <th>AMI_true_labels_mean</th>\n",
       "      <th>ARI_true_labels_mean</th>\n",
       "      <th>NMI_rows_mean</th>\n",
       "      <th>AMI_rows_mean</th>\n",
       "      <th>ARI_rows_mean</th>\n",
       "      <th>...</th>\n",
       "      <th>NMI_rows_var</th>\n",
       "      <th>AMI_rows_var</th>\n",
       "      <th>ARI_rows_var</th>\n",
       "      <th>NMI_cols_var</th>\n",
       "      <th>AMI_cols_var</th>\n",
       "      <th>ARI_cols_var</th>\n",
       "      <th>balance_chierichetti_var</th>\n",
       "      <th>balance_bera_var</th>\n",
       "      <th>KL_fairness_error_var</th>\n",
       "      <th>time_var</th>\n",
       "    </tr>\n",
       "  </thead>\n",
       "  <tbody>\n",
       "    <tr>\n",
       "      <th>10</th>\n",
       "      <td>0.0</td>\n",
       "      <td>1.0</td>\n",
       "      <td>0.051251</td>\n",
       "      <td>0.052363</td>\n",
       "      <td>0.033544</td>\n",
       "      <td>0.033298</td>\n",
       "      <td>0.039441</td>\n",
       "      <td>0.110241</td>\n",
       "      <td>0.104424</td>\n",
       "      <td>0.147462</td>\n",
       "      <td>...</td>\n",
       "      <td>0.004584</td>\n",
       "      <td>0.004702</td>\n",
       "      <td>0.011529</td>\n",
       "      <td>0.003171</td>\n",
       "      <td>0.003177</td>\n",
       "      <td>0.005312</td>\n",
       "      <td>0.006114</td>\n",
       "      <td>0.007629</td>\n",
       "      <td>2.038353e-02</td>\n",
       "      <td>39.724663</td>\n",
       "    </tr>\n",
       "    <tr>\n",
       "      <th>21</th>\n",
       "      <td>0.1</td>\n",
       "      <td>1.0</td>\n",
       "      <td>0.057622</td>\n",
       "      <td>0.060049</td>\n",
       "      <td>0.048425</td>\n",
       "      <td>0.048212</td>\n",
       "      <td>0.057603</td>\n",
       "      <td>0.140382</td>\n",
       "      <td>0.135385</td>\n",
       "      <td>0.196358</td>\n",
       "      <td>...</td>\n",
       "      <td>0.003756</td>\n",
       "      <td>0.003747</td>\n",
       "      <td>0.011335</td>\n",
       "      <td>0.003596</td>\n",
       "      <td>0.003598</td>\n",
       "      <td>0.005758</td>\n",
       "      <td>0.010661</td>\n",
       "      <td>0.014299</td>\n",
       "      <td>2.043960e-02</td>\n",
       "      <td>1156.868804</td>\n",
       "    </tr>\n",
       "    <tr>\n",
       "      <th>32</th>\n",
       "      <td>0.2</td>\n",
       "      <td>1.0</td>\n",
       "      <td>0.053660</td>\n",
       "      <td>0.056184</td>\n",
       "      <td>0.041557</td>\n",
       "      <td>0.041314</td>\n",
       "      <td>0.047835</td>\n",
       "      <td>0.146044</td>\n",
       "      <td>0.140422</td>\n",
       "      <td>0.209446</td>\n",
       "      <td>...</td>\n",
       "      <td>0.005111</td>\n",
       "      <td>0.005165</td>\n",
       "      <td>0.013536</td>\n",
       "      <td>0.005334</td>\n",
       "      <td>0.005340</td>\n",
       "      <td>0.008899</td>\n",
       "      <td>0.007592</td>\n",
       "      <td>0.012472</td>\n",
       "      <td>2.731433e-02</td>\n",
       "      <td>2091.885645</td>\n",
       "    </tr>\n",
       "    <tr>\n",
       "      <th>43</th>\n",
       "      <td>0.3</td>\n",
       "      <td>1.0</td>\n",
       "      <td>0.056647</td>\n",
       "      <td>0.061112</td>\n",
       "      <td>0.046983</td>\n",
       "      <td>0.046758</td>\n",
       "      <td>0.056640</td>\n",
       "      <td>0.168753</td>\n",
       "      <td>0.163483</td>\n",
       "      <td>0.245282</td>\n",
       "      <td>...</td>\n",
       "      <td>0.004294</td>\n",
       "      <td>0.004382</td>\n",
       "      <td>0.010998</td>\n",
       "      <td>0.003381</td>\n",
       "      <td>0.003387</td>\n",
       "      <td>0.007328</td>\n",
       "      <td>0.003114</td>\n",
       "      <td>0.005771</td>\n",
       "      <td>1.360653e-02</td>\n",
       "      <td>1838.763288</td>\n",
       "    </tr>\n",
       "    <tr>\n",
       "      <th>54</th>\n",
       "      <td>0.4</td>\n",
       "      <td>1.0</td>\n",
       "      <td>0.048987</td>\n",
       "      <td>0.050734</td>\n",
       "      <td>0.032341</td>\n",
       "      <td>0.032082</td>\n",
       "      <td>0.036256</td>\n",
       "      <td>0.105950</td>\n",
       "      <td>0.099791</td>\n",
       "      <td>0.147669</td>\n",
       "      <td>...</td>\n",
       "      <td>0.004624</td>\n",
       "      <td>0.004710</td>\n",
       "      <td>0.012456</td>\n",
       "      <td>0.002422</td>\n",
       "      <td>0.002427</td>\n",
       "      <td>0.003945</td>\n",
       "      <td>0.009381</td>\n",
       "      <td>0.009004</td>\n",
       "      <td>1.588807e-02</td>\n",
       "      <td>94.367569</td>\n",
       "    </tr>\n",
       "    <tr>\n",
       "      <th>65</th>\n",
       "      <td>0.5</td>\n",
       "      <td>1.0</td>\n",
       "      <td>0.051444</td>\n",
       "      <td>0.054750</td>\n",
       "      <td>0.041602</td>\n",
       "      <td>0.041320</td>\n",
       "      <td>0.047031</td>\n",
       "      <td>0.119290</td>\n",
       "      <td>0.112602</td>\n",
       "      <td>0.166241</td>\n",
       "      <td>...</td>\n",
       "      <td>0.001511</td>\n",
       "      <td>0.001567</td>\n",
       "      <td>0.004143</td>\n",
       "      <td>0.002669</td>\n",
       "      <td>0.002676</td>\n",
       "      <td>0.005248</td>\n",
       "      <td>0.004851</td>\n",
       "      <td>0.009210</td>\n",
       "      <td>8.584560e-03</td>\n",
       "      <td>1809.575751</td>\n",
       "    </tr>\n",
       "    <tr>\n",
       "      <th>76</th>\n",
       "      <td>0.6</td>\n",
       "      <td>1.0</td>\n",
       "      <td>0.050355</td>\n",
       "      <td>0.056597</td>\n",
       "      <td>0.045400</td>\n",
       "      <td>0.045111</td>\n",
       "      <td>0.053131</td>\n",
       "      <td>0.114305</td>\n",
       "      <td>0.107299</td>\n",
       "      <td>0.158933</td>\n",
       "      <td>...</td>\n",
       "      <td>0.001773</td>\n",
       "      <td>0.001851</td>\n",
       "      <td>0.005347</td>\n",
       "      <td>0.003018</td>\n",
       "      <td>0.003022</td>\n",
       "      <td>0.006000</td>\n",
       "      <td>0.002595</td>\n",
       "      <td>0.007016</td>\n",
       "      <td>7.466729e-03</td>\n",
       "      <td>2076.944196</td>\n",
       "    </tr>\n",
       "    <tr>\n",
       "      <th>87</th>\n",
       "      <td>0.7</td>\n",
       "      <td>1.0</td>\n",
       "      <td>0.046230</td>\n",
       "      <td>0.048886</td>\n",
       "      <td>0.034893</td>\n",
       "      <td>0.034546</td>\n",
       "      <td>0.035914</td>\n",
       "      <td>0.077307</td>\n",
       "      <td>0.069004</td>\n",
       "      <td>0.094586</td>\n",
       "      <td>...</td>\n",
       "      <td>0.000920</td>\n",
       "      <td>0.000975</td>\n",
       "      <td>0.002712</td>\n",
       "      <td>0.004757</td>\n",
       "      <td>0.004772</td>\n",
       "      <td>0.009524</td>\n",
       "      <td>0.004141</td>\n",
       "      <td>0.009162</td>\n",
       "      <td>1.733065e-03</td>\n",
       "      <td>38.774424</td>\n",
       "    </tr>\n",
       "    <tr>\n",
       "      <th>98</th>\n",
       "      <td>0.8</td>\n",
       "      <td>1.0</td>\n",
       "      <td>0.039590</td>\n",
       "      <td>0.044285</td>\n",
       "      <td>0.031398</td>\n",
       "      <td>0.031022</td>\n",
       "      <td>0.029087</td>\n",
       "      <td>0.065460</td>\n",
       "      <td>0.056212</td>\n",
       "      <td>0.065496</td>\n",
       "      <td>...</td>\n",
       "      <td>0.000425</td>\n",
       "      <td>0.000452</td>\n",
       "      <td>0.000709</td>\n",
       "      <td>0.000835</td>\n",
       "      <td>0.000839</td>\n",
       "      <td>0.001088</td>\n",
       "      <td>0.002626</td>\n",
       "      <td>0.005347</td>\n",
       "      <td>8.525039e-04</td>\n",
       "      <td>1627.373600</td>\n",
       "    </tr>\n",
       "    <tr>\n",
       "      <th>109</th>\n",
       "      <td>0.9</td>\n",
       "      <td>1.0</td>\n",
       "      <td>0.032257</td>\n",
       "      <td>0.036850</td>\n",
       "      <td>0.016538</td>\n",
       "      <td>0.016100</td>\n",
       "      <td>0.012087</td>\n",
       "      <td>0.036051</td>\n",
       "      <td>0.024886</td>\n",
       "      <td>0.020465</td>\n",
       "      <td>...</td>\n",
       "      <td>0.000199</td>\n",
       "      <td>0.000185</td>\n",
       "      <td>0.000137</td>\n",
       "      <td>0.000376</td>\n",
       "      <td>0.000376</td>\n",
       "      <td>0.000481</td>\n",
       "      <td>0.005735</td>\n",
       "      <td>0.008864</td>\n",
       "      <td>3.912457e-04</td>\n",
       "      <td>1905.911883</td>\n",
       "    </tr>\n",
       "    <tr>\n",
       "      <th>120</th>\n",
       "      <td>1.0</td>\n",
       "      <td>1.0</td>\n",
       "      <td>0.026507</td>\n",
       "      <td>0.035286</td>\n",
       "      <td>0.013297</td>\n",
       "      <td>0.012854</td>\n",
       "      <td>0.011115</td>\n",
       "      <td>0.025118</td>\n",
       "      <td>0.012825</td>\n",
       "      <td>0.006508</td>\n",
       "      <td>...</td>\n",
       "      <td>0.000015</td>\n",
       "      <td>0.000015</td>\n",
       "      <td>0.000006</td>\n",
       "      <td>0.000108</td>\n",
       "      <td>0.000108</td>\n",
       "      <td>0.000097</td>\n",
       "      <td>0.000000</td>\n",
       "      <td>0.000250</td>\n",
       "      <td>3.103778e-07</td>\n",
       "      <td>517.945685</td>\n",
       "    </tr>\n",
       "  </tbody>\n",
       "</table>\n",
       "<p>11 rows × 47 columns</p>\n",
       "</div>"
      ],
      "text/plain": [
       "     fair_major  fair_minor  tau_x_mean  tau_y_mean  NMI_true_labels_mean  \\\n",
       "10          0.0         1.0    0.051251    0.052363              0.033544   \n",
       "21          0.1         1.0    0.057622    0.060049              0.048425   \n",
       "32          0.2         1.0    0.053660    0.056184              0.041557   \n",
       "43          0.3         1.0    0.056647    0.061112              0.046983   \n",
       "54          0.4         1.0    0.048987    0.050734              0.032341   \n",
       "65          0.5         1.0    0.051444    0.054750              0.041602   \n",
       "76          0.6         1.0    0.050355    0.056597              0.045400   \n",
       "87          0.7         1.0    0.046230    0.048886              0.034893   \n",
       "98          0.8         1.0    0.039590    0.044285              0.031398   \n",
       "109         0.9         1.0    0.032257    0.036850              0.016538   \n",
       "120         1.0         1.0    0.026507    0.035286              0.013297   \n",
       "\n",
       "     AMI_true_labels_mean  ARI_true_labels_mean  NMI_rows_mean  AMI_rows_mean  \\\n",
       "10               0.033298              0.039441       0.110241       0.104424   \n",
       "21               0.048212              0.057603       0.140382       0.135385   \n",
       "32               0.041314              0.047835       0.146044       0.140422   \n",
       "43               0.046758              0.056640       0.168753       0.163483   \n",
       "54               0.032082              0.036256       0.105950       0.099791   \n",
       "65               0.041320              0.047031       0.119290       0.112602   \n",
       "76               0.045111              0.053131       0.114305       0.107299   \n",
       "87               0.034546              0.035914       0.077307       0.069004   \n",
       "98               0.031022              0.029087       0.065460       0.056212   \n",
       "109              0.016100              0.012087       0.036051       0.024886   \n",
       "120              0.012854              0.011115       0.025118       0.012825   \n",
       "\n",
       "     ARI_rows_mean  ...  NMI_rows_var  AMI_rows_var  ARI_rows_var  \\\n",
       "10        0.147462  ...      0.004584      0.004702      0.011529   \n",
       "21        0.196358  ...      0.003756      0.003747      0.011335   \n",
       "32        0.209446  ...      0.005111      0.005165      0.013536   \n",
       "43        0.245282  ...      0.004294      0.004382      0.010998   \n",
       "54        0.147669  ...      0.004624      0.004710      0.012456   \n",
       "65        0.166241  ...      0.001511      0.001567      0.004143   \n",
       "76        0.158933  ...      0.001773      0.001851      0.005347   \n",
       "87        0.094586  ...      0.000920      0.000975      0.002712   \n",
       "98        0.065496  ...      0.000425      0.000452      0.000709   \n",
       "109       0.020465  ...      0.000199      0.000185      0.000137   \n",
       "120       0.006508  ...      0.000015      0.000015      0.000006   \n",
       "\n",
       "     NMI_cols_var  AMI_cols_var  ARI_cols_var  balance_chierichetti_var  \\\n",
       "10       0.003171      0.003177      0.005312                  0.006114   \n",
       "21       0.003596      0.003598      0.005758                  0.010661   \n",
       "32       0.005334      0.005340      0.008899                  0.007592   \n",
       "43       0.003381      0.003387      0.007328                  0.003114   \n",
       "54       0.002422      0.002427      0.003945                  0.009381   \n",
       "65       0.002669      0.002676      0.005248                  0.004851   \n",
       "76       0.003018      0.003022      0.006000                  0.002595   \n",
       "87       0.004757      0.004772      0.009524                  0.004141   \n",
       "98       0.000835      0.000839      0.001088                  0.002626   \n",
       "109      0.000376      0.000376      0.000481                  0.005735   \n",
       "120      0.000108      0.000108      0.000097                  0.000000   \n",
       "\n",
       "     balance_bera_var  KL_fairness_error_var     time_var  \n",
       "10           0.007629           2.038353e-02    39.724663  \n",
       "21           0.014299           2.043960e-02  1156.868804  \n",
       "32           0.012472           2.731433e-02  2091.885645  \n",
       "43           0.005771           1.360653e-02  1838.763288  \n",
       "54           0.009004           1.588807e-02    94.367569  \n",
       "65           0.009210           8.584560e-03  1809.575751  \n",
       "76           0.007016           7.466729e-03  2076.944196  \n",
       "87           0.009162           1.733065e-03    38.774424  \n",
       "98           0.005347           8.525039e-04  1627.373600  \n",
       "109          0.008864           3.912457e-04  1905.911883  \n",
       "120          0.000250           3.103778e-07   517.945685  \n",
       "\n",
       "[11 rows x 47 columns]"
      ]
     },
     "execution_count": 4,
     "metadata": {},
     "output_type": "execute_result"
    }
   ],
   "source": [
    "df = pd.read_csv(root + f\"/results/{dataset}/{sensitive}/taucc_fair/init_random/aggregated.csv\")\n",
    "df = df[df[\"fair_minor\"] == alpha]\n",
    "df"
   ]
  },
  {
   "cell_type": "code",
   "execution_count": 5,
   "id": "2bf6e07c",
   "metadata": {},
   "outputs": [
    {
     "data": {
      "text/html": [
       "<div>\n",
       "<style scoped>\n",
       "    .dataframe tbody tr th:only-of-type {\n",
       "        vertical-align: middle;\n",
       "    }\n",
       "\n",
       "    .dataframe tbody tr th {\n",
       "        vertical-align: top;\n",
       "    }\n",
       "\n",
       "    .dataframe thead th {\n",
       "        text-align: right;\n",
       "    }\n",
       "</style>\n",
       "<table border=\"1\" class=\"dataframe\">\n",
       "  <thead>\n",
       "    <tr style=\"text-align: right;\">\n",
       "      <th></th>\n",
       "      <th>tau_x_mean</th>\n",
       "      <th>tau_x_std</th>\n",
       "      <th>tau_x_var</th>\n",
       "      <th>tau_y_mean</th>\n",
       "      <th>tau_y_std</th>\n",
       "      <th>tau_y_var</th>\n",
       "      <th>NMI_mean</th>\n",
       "      <th>NMI_std</th>\n",
       "      <th>NMI_var</th>\n",
       "      <th>AMI_mean</th>\n",
       "      <th>...</th>\n",
       "      <th>balance_chierichetti_var</th>\n",
       "      <th>balance_bera_mean</th>\n",
       "      <th>balance_bera_std</th>\n",
       "      <th>balance_bera_var</th>\n",
       "      <th>KL_fairness_error_mean</th>\n",
       "      <th>KL_fairness_error_std</th>\n",
       "      <th>KL_fairness_error_var</th>\n",
       "      <th>time_mean</th>\n",
       "      <th>time_std</th>\n",
       "      <th>time_var</th>\n",
       "    </tr>\n",
       "  </thead>\n",
       "  <tbody>\n",
       "    <tr>\n",
       "      <th>0</th>\n",
       "      <td>0.075193</td>\n",
       "      <td>0.010562</td>\n",
       "      <td>0.000112</td>\n",
       "      <td>0.079584</td>\n",
       "      <td>0.009769</td>\n",
       "      <td>0.000095</td>\n",
       "      <td>0.083629</td>\n",
       "      <td>0.014294</td>\n",
       "      <td>0.000204</td>\n",
       "      <td>0.08337</td>\n",
       "      <td>...</td>\n",
       "      <td>0.001807</td>\n",
       "      <td>0.365045</td>\n",
       "      <td>0.074519</td>\n",
       "      <td>0.005553</td>\n",
       "      <td>inf</td>\n",
       "      <td>NaN</td>\n",
       "      <td>NaN</td>\n",
       "      <td>1.193182</td>\n",
       "      <td>0.84301</td>\n",
       "      <td>0.710667</td>\n",
       "    </tr>\n",
       "  </tbody>\n",
       "</table>\n",
       "<p>1 rows × 27 columns</p>\n",
       "</div>"
      ],
      "text/plain": [
       "   tau_x_mean  tau_x_std  tau_x_var  tau_y_mean  tau_y_std  tau_y_var  \\\n",
       "0    0.075193   0.010562   0.000112    0.079584   0.009769   0.000095   \n",
       "\n",
       "   NMI_mean   NMI_std   NMI_var  AMI_mean  ...  balance_chierichetti_var  \\\n",
       "0  0.083629  0.014294  0.000204   0.08337  ...                  0.001807   \n",
       "\n",
       "   balance_bera_mean  balance_bera_std  balance_bera_var  \\\n",
       "0           0.365045          0.074519          0.005553   \n",
       "\n",
       "   KL_fairness_error_mean  KL_fairness_error_std  KL_fairness_error_var  \\\n",
       "0                     inf                    NaN                    NaN   \n",
       "\n",
       "   time_mean  time_std  time_var  \n",
       "0   1.193182   0.84301  0.710667  \n",
       "\n",
       "[1 rows x 27 columns]"
      ]
     },
     "execution_count": 5,
     "metadata": {},
     "output_type": "execute_result"
    }
   ],
   "source": [
    "df_vanilla = pd.read_csv(root + f\"/results/{dataset}/{sensitive}/taucc_vanilla/init_random/results_aggregated.csv\")\n",
    "df_vanilla"
   ]
  },
  {
   "cell_type": "code",
   "execution_count": 6,
   "id": "c95643d6",
   "metadata": {},
   "outputs": [
    {
     "data": {
      "text/plain": [
       "array([1.])"
      ]
     },
     "execution_count": 6,
     "metadata": {},
     "output_type": "execute_result"
    }
   ],
   "source": [
    "values = np.unique(df[\"fair_minor\"])\n",
    "values"
   ]
  },
  {
   "cell_type": "code",
   "execution_count": 7,
   "id": "b7236d5e",
   "metadata": {},
   "outputs": [],
   "source": [
    "def create_path(path):\n",
    "    if not os.path.exists(path):\n",
    "        os.makedirs(path)"
   ]
  },
  {
   "cell_type": "code",
   "execution_count": 8,
   "id": "640d7a9a",
   "metadata": {},
   "outputs": [
    {
     "data": {
      "text/plain": [
       "'./fair_taucc/plots/paper'"
      ]
     },
     "execution_count": 8,
     "metadata": {},
     "output_type": "execute_result"
    }
   ],
   "source": [
    "plot_path = root + f\"/plots/paper\"\n",
    "#create_path(plot_path)\n",
    "plot_path"
   ]
  },
  {
   "cell_type": "markdown",
   "id": "3821abd5",
   "metadata": {},
   "source": [
    "## Plot of Results (only balance, ARI e taus)"
   ]
  },
  {
   "cell_type": "code",
   "execution_count": 9,
   "id": "dd5b7f49",
   "metadata": {},
   "outputs": [
    {
     "data": {
      "text/plain": [
       "array([0. , 0.1, 0.2, 0.3, 0.4, 0.5, 0.6, 0.7, 0.8, 0.9, 1. ])"
      ]
     },
     "execution_count": 9,
     "metadata": {},
     "output_type": "execute_result"
    }
   ],
   "source": [
    "x = np.array(df[\"fair_major\"].values)\n",
    "x"
   ]
  },
  {
   "cell_type": "markdown",
   "id": "4b1fa57f",
   "metadata": {},
   "source": [
    "Balance"
   ]
  },
  {
   "cell_type": "code",
   "execution_count": 10,
   "id": "3d353f9d",
   "metadata": {},
   "outputs": [
    {
     "data": {
      "image/png": "[encoded data removed]",
      "text/plain": [
       "<Figure size 432x288 with 1 Axes>"
      ]
     },
     "metadata": {
      "needs_background": "light"
     },
     "output_type": "display_data"
    }
   ],
   "source": [
    "# Vanilla TauCC\n",
    "vanilla_bera_mean = np.full(len(x), df_vanilla[\"balance_bera_mean\"].values[0])\n",
    "vanilla_bera_std = np.full(len(x), df_vanilla[\"balance_bera_std\"].values[0])\n",
    "\n",
    "# Fair TauCC\n",
    "balance_bera_mean = np.array(df[\"balance_bera_mean\"].values)\n",
    "balance_bera_std = np.array(df[\"balance_bera_std\"].values)\n",
    "\n",
    "plt.plot(x, balance_bera_mean, label='fair')\n",
    "plt.fill_between(x, balance_bera_mean - balance_bera_std, balance_bera_mean + balance_bera_std, alpha=0.2, color='g')\n",
    "plt.plot(x, vanilla_bera_mean, label='vanilla')\n",
    "plt.fill_between(x, vanilla_bera_mean - vanilla_bera_std, vanilla_bera_mean + vanilla_bera_std, alpha=0.2)\n",
    "plt.ylim(0.0, 1.0)\n",
    "plt.xlim(0.0, 1.0)\n",
    "plt.legend()\n",
    "plt.xlabel('$\\\\alpha$ majority group')\n",
    "plt.ylabel('balance')\n",
    "plt.title(f'Balance [Bera et al.] \\n $\\\\alpha$ minority group = {alpha}')\n",
    "plt.grid(True)\n",
    "plt.tight_layout()\n",
    "#plt.show()\n",
    "plt.savefig(plot_path + f\"/{dataset}_fairness_min.png\", dpi=300)"
   ]
  },
  {
   "cell_type": "markdown",
   "id": "80890db8",
   "metadata": {},
   "source": [
    "ARI w.r.t. true labels"
   ]
  },
  {
   "cell_type": "code",
   "execution_count": 11,
   "id": "60734bc3",
   "metadata": {},
   "outputs": [
    {
     "data": {
      "image/png": "[encoded data removed]",
      "text/plain": [
       "<Figure size 432x288 with 1 Axes>"
      ]
     },
     "metadata": {
      "needs_background": "light"
     },
     "output_type": "display_data"
    }
   ],
   "source": [
    "vanilla_ARI_mean = np.full(len(x), df_vanilla[\"ARI_mean\"].values[0])\n",
    "vanilla_ARI_std = np.full(len(x), df_vanilla[\"ARI_std\"].values[0])\n",
    "\n",
    "ARI_mean = np.array(df[\"ARI_true_labels_mean\"].values)\n",
    "ARI_std = np.array(df[\"ARI_true_labels_std\"].values)\n",
    "\n",
    "plt.plot(x, ARI_mean, label='fair')\n",
    "plt.fill_between(x, ARI_mean - ARI_std, ARI_mean + ARI_std, alpha=0.2, color='g')\n",
    "plt.plot(x, vanilla_ARI_mean, label='vanilla')\n",
    "plt.fill_between(x, vanilla_ARI_mean - vanilla_ARI_std, vanilla_ARI_mean + vanilla_ARI_std, alpha=0.2)\n",
    "#plt.ylim(0.0, 0.15)\n",
    "plt.xlim(0.0, 1.0)\n",
    "plt.legend()\n",
    "plt.xlabel('$\\\\alpha$ majority group')\n",
    "plt.ylabel('ARI')\n",
    "plt.title(f'ARI w.r.t. true labels \\n $\\\\alpha$ minority group = {alpha}')\n",
    "plt.grid(True)\n",
    "plt.tight_layout()\n",
    "#plt.show()\n",
    "plt.savefig(plot_path + f\"/{dataset}_ARI_true_min.png\", dpi=300)"
   ]
  },
  {
   "cell_type": "markdown",
   "id": "9263e3db",
   "metadata": {},
   "source": [
    "ARI w.r.t. vanilla TauCC"
   ]
  },
  {
   "cell_type": "code",
   "execution_count": 12,
   "id": "5c93ab62",
   "metadata": {},
   "outputs": [
    {
     "data": {
      "image/png": "[encoded data removed]",
      "text/plain": [
       "<Figure size 432x288 with 1 Axes>"
      ]
     },
     "metadata": {
      "needs_background": "light"
     },
     "output_type": "display_data"
    }
   ],
   "source": [
    "ARIrows_mean = np.array(df[\"ARI_rows_mean\"].values)\n",
    "ARIrows_std = np.array(df[\"ARI_rows_std\"].values)\n",
    "ARI_mean = np.array(df[\"ARI_cols_mean\"].values)\n",
    "ARI_std = np.array(df[\"ARI_cols_std\"].values)\n",
    "\n",
    "plt.plot(x, ARIrows_mean, label='ARI w.r.t. rows', color=\"green\")\n",
    "plt.fill_between(x, ARIrows_mean - ARIrows_std, ARIrows_mean + ARIrows_std, alpha=0.2, color=\"green\")\n",
    "plt.plot(x, ARI_mean, label='ARI w.r.t. cols')\n",
    "plt.fill_between(x, ARI_mean - ARI_std, ARI_mean + ARI_std, alpha=0.2)\n",
    "#plt.ylim(-1.0, 1.0)\n",
    "plt.xlim(0.0, 1.0)\n",
    "plt.legend()\n",
    "plt.xlabel('$\\\\alpha$ majority group')\n",
    "plt.ylabel('ARI')\n",
    "plt.title(f'ARI w.r.t. $\\\\tau$CC rows and columns \\n $\\\\alpha$ minority group = {alpha}')\n",
    "plt.grid(True)\n",
    "plt.tight_layout()\n",
    "#plt.show()\n",
    "plt.savefig(plot_path + f\"/{dataset}_ARI_min.png\", dpi=300)"
   ]
  },
  {
   "cell_type": "markdown",
   "id": "75974274",
   "metadata": {},
   "source": [
    "tau x and tau y"
   ]
  },
  {
   "cell_type": "code",
   "execution_count": 13,
   "id": "a02edb13",
   "metadata": {},
   "outputs": [],
   "source": [
    "vanilla_taux_mean = np.full(len(x), df_vanilla[\"tau_x_mean\"].values[0])\n",
    "vanilla_taux_std = np.full(len(x), df_vanilla[\"tau_x_std\"].values[0])\n",
    "vanilla_tauy_mean = np.full(len(x), df_vanilla[\"tau_y_mean\"].values[0])\n",
    "vanilla_tauy_std = np.full(len(x), df_vanilla[\"tau_y_std\"].values[0])\n",
    "\n",
    "taux_mean = np.array(df[\"tau_x_mean\"].values)\n",
    "taux_std = np.array(df[\"tau_x_std\"].values)\n",
    "tauy_mean = np.array(df[\"tau_y_mean\"].values)\n",
    "tauy_std = np.array(df[\"tau_y_std\"].values)"
   ]
  },
  {
   "cell_type": "code",
   "execution_count": 14,
   "id": "230e03b4",
   "metadata": {},
   "outputs": [
    {
     "data": {
      "image/png": "[encoded data removed]",
      "text/plain": [
       "<Figure size 432x288 with 1 Axes>"
      ]
     },
     "metadata": {
      "needs_background": "light"
     },
     "output_type": "display_data"
    }
   ],
   "source": [
    "# fair\n",
    "plt.plot(x, taux_mean, label='tau x (fair)')\n",
    "plt.fill_between(x, taux_mean - taux_std, taux_mean + taux_std, alpha=0.2)\n",
    "plt.plot(x, tauy_mean, label='tau y (fair)')\n",
    "plt.fill_between(x, tauy_mean - tauy_std, tauy_mean + tauy_std, alpha=0.2)\n",
    "\n",
    "# vanilla\n",
    "plt.plot(x, vanilla_taux_mean, label='tau x (vanilla)')\n",
    "plt.fill_between(x, vanilla_taux_mean - vanilla_taux_std, vanilla_taux_mean + vanilla_taux_std, alpha=0.2)\n",
    "plt.plot(x, vanilla_tauy_mean, label='tau y (vanilla)')\n",
    "plt.fill_between(x, vanilla_tauy_mean - vanilla_tauy_std, vanilla_tauy_mean + vanilla_tauy_std, alpha=0.2) \n",
    "\n",
    "plt.legend()\n",
    "plt.xlabel('$\\\\alpha$ majority group')\n",
    "plt.ylabel('tau_x, tau_y')\n",
    "plt.title(f'tau_x and tau_y \\n $\\\\alpha$ minority group = {alpha}')\n",
    "\n",
    "plt.xlim(0.0, 1.0)\n",
    "\n",
    "plt.grid(True)\n",
    "plt.tight_layout()\n",
    "#plt.show()\n",
    "plt.savefig(plot_path + f\"/{dataset}_tau_min.png\", dpi=300)"
   ]
  },
  {
   "cell_type": "code",
   "execution_count": null,
   "id": "a72da3dc",
   "metadata": {},
   "outputs": [],
   "source": []
  },
  {
   "cell_type": "code",
   "execution_count": null,
   "id": "3ca30c98",
   "metadata": {},
   "outputs": [],
   "source": []
  },
  {
   "cell_type": "code",
   "execution_count": null,
   "id": "130eed4c",
   "metadata": {},
   "outputs": [],
   "source": []
  },
  {
   "cell_type": "code",
   "execution_count": null,
   "id": "391f4821",
   "metadata": {},
   "outputs": [],
   "source": []
  },
  {
   "cell_type": "code",
   "execution_count": null,
   "id": "79e39dd0",
   "metadata": {},
   "outputs": [],
   "source": []
  },
  {
   "cell_type": "code",
   "execution_count": null,
   "id": "f4c0a718",
   "metadata": {},
   "outputs": [],
   "source": []
  },
  {
   "cell_type": "code",
   "execution_count": null,
   "id": "b034ef1e",
   "metadata": {},
   "outputs": [],
   "source": []
  },
  {
   "cell_type": "code",
   "execution_count": null,
   "id": "ef239e86",
   "metadata": {},
   "outputs": [],
   "source": []
  },
  {
   "cell_type": "code",
   "execution_count": null,
   "id": "5c0d5306",
   "metadata": {},
   "outputs": [],
   "source": []
  },
  {
   "cell_type": "code",
   "execution_count": null,
   "id": "32c2c743",
   "metadata": {},
   "outputs": [],
   "source": []
  },
  {
   "cell_type": "code",
   "execution_count": null,
   "id": "202e5377",
   "metadata": {},
   "outputs": [],
   "source": []
  }
 ],
 "metadata": {
  "kernelspec": {
   "display_name": "coclus",
   "language": "python",
   "name": "coclus"
  },
  "language_info": {
   "codemirror_mode": {
    "name": "ipython",
    "version": 3
   },
   "file_extension": ".py",
   "mimetype": "text/x-python",
   "name": "python",
   "nbconvert_exporter": "python",
   "pygments_lexer": "ipython3",
   "version": "3.8.10"
  }
 },
 "nbformat": 4,
 "nbformat_minor": 5
}
