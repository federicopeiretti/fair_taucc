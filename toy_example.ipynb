{
 "cells": [
  {
   "cell_type": "code",
   "execution_count": 342,
   "id": "63992b6d",
   "metadata": {},
   "outputs": [],
   "source": [
    "import numpy as np\n",
    "import os\n",
    "\n",
    "import sys\n",
    "sys.path.append('./fair_taucc/tauCC/src')\n",
    "from fairness_metrics import balance_gen, balance_chierichetti, KL_fairness_error"
   ]
  },
  {
   "cell_type": "code",
   "execution_count": 343,
   "id": "b98afb27",
   "metadata": {},
   "outputs": [],
   "source": [
    "matrix = np.array([\n",
    "    [5,0,0,0,4],\n",
    "    [4,0,0,0,0],\n",
    "    [0,2,0,5,0],\n",
    "    [0,5,4,0,0],\n",
    "    [0,0,5,0,0],\n",
    "    [0,0,0,4,5]\n",
    "])"
   ]
  },
  {
   "cell_type": "code",
   "execution_count": 344,
   "id": "3d5b5f82",
   "metadata": {},
   "outputs": [],
   "source": [
    "sensitive = np.array([0,0,1,1,0,1])"
   ]
  },
  {
   "cell_type": "code",
   "execution_count": 350,
   "id": "ff6a877a",
   "metadata": {},
   "outputs": [
    {
     "name": "stdout",
     "output_type": "stream",
     "text": [
      "Initialization step for (6,5)-siezed input matrix.\n",
      "iteration 0, moving rows, n_clusters: (3, 3), n_moves: 3\n",
      "Values of tau_x: 0.4650 and tau_y: 0.4209, for (3,3)-sized T at iteration: 0 (on rows).\n",
      "iteration 1, moving rows, n_clusters: (3, 3), n_moves: 0\n",
      "Values of tau_x: 0.4650 and tau_y: 0.4209, for (3,3)-sized T at iteration: 0 (on rows).\n",
      "iteration 2, moving columns, n_clusters: (3, 3), n_moves: 1\n",
      "Values of tau_x: 0.6245 and tau_y: 0.6697, for (3,3)-sized T at iteration: 0 (on columns).\n",
      "iteration 3, moving columns, n_clusters: (3, 3), n_moves: 0\n",
      "Values of tau_x: 0.6245 and tau_y: 0.6697, for (3,3)-sized T at iteration: 0 (on columns).\n",
      "iteration 4, moving rows, n_clusters: (3, 3), n_moves: 0\n",
      "Values of tau_x: 0.6245 and tau_y: 0.6697, for (3,3)-sized T at iteration: 1 (on rows).\n",
      "iteration 5, moving columns, n_clusters: (3, 3), n_moves: 0\n",
      "Values of tau_x: 0.6245 and tau_y: 0.6697, for (3,3)-sized T at iteration: 1 (on columns).\n",
      "Final values of tau_x: 0.6245 and tau_y: 0.6697, for (3,3)-sized T.\n",
      "Runtime: 0.0104 seconds.\n"
     ]
    },
    {
     "data": {
      "text/plain": [
       "<tauCC.src.taucc.taucc.CoClust at 0x7f1dfa780220>"
      ]
     },
     "execution_count": 350,
     "metadata": {},
     "output_type": "execute_result"
    }
   ],
   "source": [
    "from tauCC.src.taucc.taucc import CoClust\n",
    "model = CoClust(initialization='random', verbose=True, random_state=40, k=3, l=4)\n",
    "model.fit(matrix)"
   ]
  },
  {
   "cell_type": "code",
   "execution_count": 351,
   "id": "483bd975",
   "metadata": {},
   "outputs": [
    {
     "data": {
      "text/plain": [
       "[0.1304444444444445,\n",
       " 0.46495114006514643,\n",
       " 0.46495114006514643,\n",
       " 0.6245475931958014,\n",
       " 0.6245475931958014,\n",
       " 0.6245475931958014,\n",
       " 0.6245475931958014]"
      ]
     },
     "execution_count": 351,
     "metadata": {},
     "output_type": "execute_result"
    }
   ],
   "source": [
    "model.tau_x"
   ]
  },
  {
   "cell_type": "code",
   "execution_count": 352,
   "id": "4ddb0a38",
   "metadata": {},
   "outputs": [
    {
     "data": {
      "text/plain": [
       "[0.15287255117763607,\n",
       " 0.4208535108958838,\n",
       " 0.4208535108958838,\n",
       " 0.6697180134680134,\n",
       " 0.6697180134680134,\n",
       " 0.6697180134680134,\n",
       " 0.6697180134680134]"
      ]
     },
     "execution_count": 352,
     "metadata": {},
     "output_type": "execute_result"
    }
   ],
   "source": [
    "model.tau_y"
   ]
  },
  {
   "cell_type": "code",
   "execution_count": 353,
   "id": "0ba3f29f",
   "metadata": {},
   "outputs": [
    {
     "data": {
      "text/plain": [
       "[0, 1, 1, 2, 0]"
      ]
     },
     "execution_count": 353,
     "metadata": {},
     "output_type": "execute_result"
    }
   ],
   "source": [
    "model.column_labels_"
   ]
  },
  {
   "cell_type": "code",
   "execution_count": 354,
   "id": "7c327b70",
   "metadata": {},
   "outputs": [
    {
     "data": {
      "text/plain": [
       "[2, 2, 0, 1, 1, 0]"
      ]
     },
     "execution_count": 354,
     "metadata": {},
     "output_type": "execute_result"
    }
   ],
   "source": [
    "row_labels_vanilla = model.row_labels_\n",
    "row_labels_vanilla"
   ]
  },
  {
   "cell_type": "code",
   "execution_count": 355,
   "id": "78b7a7f3",
   "metadata": {},
   "outputs": [
    {
     "data": {
      "text/plain": [
       "0.0"
      ]
     },
     "execution_count": 355,
     "metadata": {},
     "output_type": "execute_result"
    }
   ],
   "source": [
    "balance_gen(sensitive, row_labels_vanilla)"
   ]
  },
  {
   "cell_type": "code",
   "execution_count": 356,
   "id": "03ce04d5",
   "metadata": {},
   "outputs": [
    {
     "data": {
      "text/plain": [
       "0"
      ]
     },
     "execution_count": 356,
     "metadata": {},
     "output_type": "execute_result"
    }
   ],
   "source": [
    "balance_chierichetti(sensitive, row_labels_vanilla)"
   ]
  },
  {
   "cell_type": "code",
   "execution_count": 321,
   "id": "2dc96eb5",
   "metadata": {},
   "outputs": [
    {
     "name": "stdout",
     "output_type": "stream",
     "text": [
      "ratio groups in dataset: [0.5, 0.5]\n",
      "Initialization step for (6,5)-sized input matrix.\n",
      "fair row assignment: \n",
      "[0 2 2 1 1 0]\n",
      "iteration 0, moving rows, n_clusters: (3, 4), n_moves: 2\n",
      "Values of tau_x: 0.4725 and tau_y: 0.2756, for (3,4)-sized T at iteration: 0 (on rows).\n",
      "iteration 1, moving rows, n_clusters: (3, 4), n_moves: 0\n",
      "Values of tau_x: 0.4725 and tau_y: 0.2756, for (3,4)-sized T at iteration: 0 (on rows).\n",
      "iteration 2, moving columns, n_clusters: (3, 3), n_moves: 2\n",
      "Values of tau_x: 0.5550 and tau_y: 0.5558, for (3,3)-sized T at iteration: 0 (on columns).\n",
      "iteration 3, moving columns, n_clusters: (3, 3), n_moves: 0\n",
      "Values of tau_x: 0.5550 and tau_y: 0.5558, for (3,3)-sized T at iteration: 0 (on columns).\n",
      "iteration 4, moving rows, n_clusters: (3, 3), n_moves: 0\n",
      "Values of tau_x: 0.5550 and tau_y: 0.5558, for (3,3)-sized T at iteration: 1 (on rows).\n",
      "iteration 5, moving columns, n_clusters: (3, 3), n_moves: 0\n",
      "Values of tau_x: 0.5550 and tau_y: 0.5558, for (3,3)-sized T at iteration: 1 (on columns).\n",
      "Final values of tau_x: 0.5550 and tau_y: 0.5558, for (3,3)-sized T.\n",
      "Runtime: 0.0144 seconds.\n"
     ]
    },
    {
     "data": {
      "text/plain": [
       "<tauCC.src.taucc.taucc_fair_v3_tau_fairness.FairCoclusRows at 0x7f1dfa7800d0>"
      ]
     },
     "execution_count": 321,
     "metadata": {},
     "output_type": "execute_result"
    }
   ],
   "source": [
    "from tauCC.src.taucc.taucc_fair_v3_tau_fairness import FairCoclusRows\n",
    "model = FairCoclusRows(initialization='random', verbose=True, k=3, l=4)\n",
    "model.fit(matrix, sensitive, fair_parameters=np.array([1.0,1.0]))"
   ]
  },
  {
   "cell_type": "code",
   "execution_count": 322,
   "id": "99f39fba",
   "metadata": {},
   "outputs": [
    {
     "data": {
      "text/plain": [
       "[0.5192957249445451,\n",
       " 0.47248666298749065,\n",
       " 0.47248666298749065,\n",
       " 0.555049668874172,\n",
       " 0.555049668874172,\n",
       " 0.555049668874172,\n",
       " 0.555049668874172]"
      ]
     },
     "execution_count": 322,
     "metadata": {},
     "output_type": "execute_result"
    }
   ],
   "source": [
    "model.tau_x"
   ]
  },
  {
   "cell_type": "code",
   "execution_count": 323,
   "id": "aa88a823",
   "metadata": {},
   "outputs": [
    {
     "data": {
      "text/plain": [
       "[0.3499665551839463,\n",
       " 0.27563465341243115,\n",
       " 0.27563465341243115,\n",
       " 0.555785123966942,\n",
       " 0.555785123966942,\n",
       " 0.555785123966942,\n",
       " 0.555785123966942]"
      ]
     },
     "execution_count": 323,
     "metadata": {},
     "output_type": "execute_result"
    }
   ],
   "source": [
    "model.tau_y"
   ]
  },
  {
   "cell_type": "code",
   "execution_count": 324,
   "id": "58633c01",
   "metadata": {},
   "outputs": [
    {
     "data": {
      "text/plain": [
       "[2, 1, 1, 2, 0]"
      ]
     },
     "execution_count": 324,
     "metadata": {},
     "output_type": "execute_result"
    }
   ],
   "source": [
    "model.column_labels_"
   ]
  },
  {
   "cell_type": "code",
   "execution_count": 325,
   "id": "63c25712",
   "metadata": {},
   "outputs": [
    {
     "name": "stdout",
     "output_type": "stream",
     "text": [
      "index:  [0, 1, 2, 3, 4, 5]\n",
      "clust:  [0, 2, 2, 1, 1, 0]\n",
      "sensi:  [0, 0, 1, 1, 0, 1]\n"
     ]
    }
   ],
   "source": [
    "row_labels = model.row_labels_\n",
    "print(\"index: \", list(range(len(row_labels))))\n",
    "print(\"clust: \", row_labels)\n",
    "print(\"sensi: \", list(sensitive))"
   ]
  },
  {
   "cell_type": "code",
   "execution_count": 326,
   "id": "f39f043a",
   "metadata": {},
   "outputs": [
    {
     "data": {
      "text/plain": [
       "1.0"
      ]
     },
     "execution_count": 326,
     "metadata": {},
     "output_type": "execute_result"
    }
   ],
   "source": [
    "balance_gen(sensitive, row_labels)"
   ]
  },
  {
   "cell_type": "code",
   "execution_count": 327,
   "id": "69477a3c",
   "metadata": {},
   "outputs": [
    {
     "data": {
      "text/plain": [
       "1.0"
      ]
     },
     "execution_count": 327,
     "metadata": {},
     "output_type": "execute_result"
    }
   ],
   "source": [
    "balance_chierichetti(sensitive, row_labels)"
   ]
  },
  {
   "cell_type": "code",
   "execution_count": 335,
   "id": "4554617e",
   "metadata": {},
   "outputs": [
    {
     "name": "stdout",
     "output_type": "stream",
     "text": [
      "ratio groups in dataset: [0.5, 0.5]\n",
      "Initialization step for (6,5)-sized input matrix.\n",
      "fair row assignment: \n",
      "[2 0 0 1 1 2]\n",
      "iteration 0, moving rows, n_clusters: (3, 3), n_moves: 3\n",
      "Values of tau_x: 0.3178 and tau_y: 0.2669, for (3,3)-sized T at iteration: 0 (on rows).\n",
      "fair row assignment: \n",
      "[2 0 0 1 1 2]\n",
      "iteration 1, moving rows, n_clusters: (3, 3), n_moves: 0\n",
      "Values of tau_x: 0.3178 and tau_y: 0.2669, for (3,3)-sized T at iteration: 0 (on rows).\n",
      "iteration 2, moving columns, n_clusters: (3, 3), n_moves: 2\n",
      "Values of tau_x: 0.5550 and tau_y: 0.5558, for (3,3)-sized T at iteration: 0 (on columns).\n",
      "iteration 3, moving columns, n_clusters: (3, 3), n_moves: 0\n",
      "Values of tau_x: 0.5550 and tau_y: 0.5558, for (3,3)-sized T at iteration: 0 (on columns).\n",
      "iteration 4, moving rows, n_clusters: (3, 3), n_moves: 0\n",
      "Values of tau_x: 0.5550 and tau_y: 0.5558, for (3,3)-sized T at iteration: 1 (on rows).\n",
      "iteration 5, moving columns, n_clusters: (3, 3), n_moves: 0\n",
      "Values of tau_x: 0.5550 and tau_y: 0.5558, for (3,3)-sized T at iteration: 1 (on columns).\n",
      "Final values of tau_x: 0.5550 and tau_y: 0.5558, for (3,3)-sized T.\n",
      "Runtime: 0.0219 seconds.\n"
     ]
    },
    {
     "data": {
      "text/plain": [
       "<tauCC.src.taucc.taucc_fair_v3_tau_fairness.FairCoclusRows at 0x7f1dfa7807f0>"
      ]
     },
     "execution_count": 335,
     "metadata": {},
     "output_type": "execute_result"
    }
   ],
   "source": [
    "from tauCC.src.taucc.taucc_fair_v3_tau_fairness import FairCoclusRows\n",
    "model = FairCoclusRows(initialization='random', verbose=True, random_state=40, k=3, l=4)\n",
    "model.fit(matrix, sensitive, fair_parameters=np.array([1.0,1.0]))"
   ]
  },
  {
   "cell_type": "code",
   "execution_count": 336,
   "id": "1bf8a42a",
   "metadata": {},
   "outputs": [
    {
     "data": {
      "text/plain": [
       "[0.1304444444444445,\n",
       " 0.317821927888153,\n",
       " 0.317821927888153,\n",
       " 0.555049668874172,\n",
       " 0.555049668874172,\n",
       " 0.555049668874172,\n",
       " 0.555049668874172]"
      ]
     },
     "execution_count": 336,
     "metadata": {},
     "output_type": "execute_result"
    }
   ],
   "source": [
    "model.tau_x"
   ]
  },
  {
   "cell_type": "code",
   "execution_count": 337,
   "id": "c0aeaf0a",
   "metadata": {},
   "outputs": [
    {
     "data": {
      "text/plain": [
       "[0.15287255117763607,\n",
       " 0.26692129799474446,\n",
       " 0.26692129799474446,\n",
       " 0.555785123966942,\n",
       " 0.555785123966942,\n",
       " 0.555785123966942,\n",
       " 0.555785123966942]"
      ]
     },
     "execution_count": 337,
     "metadata": {},
     "output_type": "execute_result"
    }
   ],
   "source": [
    "model.tau_y"
   ]
  },
  {
   "cell_type": "code",
   "execution_count": 338,
   "id": "98bb9706",
   "metadata": {},
   "outputs": [
    {
     "data": {
      "text/plain": [
       "[2, 1, 1, 2, 0]"
      ]
     },
     "execution_count": 338,
     "metadata": {},
     "output_type": "execute_result"
    }
   ],
   "source": [
    "model.column_labels_"
   ]
  },
  {
   "cell_type": "code",
   "execution_count": 339,
   "id": "938232b2",
   "metadata": {},
   "outputs": [
    {
     "name": "stdout",
     "output_type": "stream",
     "text": [
      "index:  [0, 1, 2, 3, 4, 5]\n",
      "clust:  [2, 0, 0, 1, 1, 2]\n",
      "sensi:  [0, 0, 1, 1, 0, 1]\n"
     ]
    }
   ],
   "source": [
    "row_labels = model.row_labels_\n",
    "print(\"index: \", list(range(len(row_labels))))\n",
    "print(\"clust: \", row_labels)\n",
    "print(\"sensi: \", list(sensitive))"
   ]
  },
  {
   "cell_type": "code",
   "execution_count": 340,
   "id": "37c3c02e",
   "metadata": {},
   "outputs": [
    {
     "data": {
      "text/plain": [
       "1.0"
      ]
     },
     "execution_count": 340,
     "metadata": {},
     "output_type": "execute_result"
    }
   ],
   "source": [
    "balance_gen(sensitive, row_labels)"
   ]
  },
  {
   "cell_type": "code",
   "execution_count": 341,
   "id": "4b9469e2",
   "metadata": {},
   "outputs": [
    {
     "data": {
      "text/plain": [
       "1.0"
      ]
     },
     "execution_count": 341,
     "metadata": {},
     "output_type": "execute_result"
    }
   ],
   "source": [
    "balance_chierichetti(sensitive, row_labels)"
   ]
  }
 ],
 "metadata": {
  "kernelspec": {
   "display_name": "coclus",
   "language": "python",
   "name": "coclus"
  },
  "language_info": {
   "codemirror_mode": {
    "name": "ipython",
    "version": 3
   },
   "file_extension": ".py",
   "mimetype": "text/x-python",
   "name": "python",
   "nbconvert_exporter": "python",
   "pygments_lexer": "ipython3",
   "version": "3.8.10"
  }
 },
 "nbformat": 4,
 "nbformat_minor": 5
}
