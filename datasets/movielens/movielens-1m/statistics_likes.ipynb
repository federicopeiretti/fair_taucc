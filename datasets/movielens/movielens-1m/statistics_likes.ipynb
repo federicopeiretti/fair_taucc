{
 "cells": [
  {
   "cell_type": "code",
   "execution_count": 1,
   "id": "1a8e921a",
   "metadata": {},
   "outputs": [],
   "source": [
    "import os\n",
    "import numpy as np\n",
    "import pickle\n",
    "import pandas as pd"
   ]
  },
  {
   "cell_type": "code",
   "execution_count": 2,
   "id": "8d47058e",
   "metadata": {},
   "outputs": [
    {
     "data": {
      "text/plain": [
       "'./fair_taucc/datasets/movielens/movielens-1m'"
      ]
     },
     "execution_count": 2,
     "metadata": {},
     "output_type": "execute_result"
    }
   ],
   "source": [
    "root = os.getcwd()\n",
    "root"
   ]
  },
  {
   "cell_type": "code",
   "execution_count": 3,
   "id": "cb3e6668",
   "metadata": {},
   "outputs": [],
   "source": [
    "matrix = np.load(root + \"/matrix.npy\").astype(int)\n",
    "Sx = np.load(root + \"/gender.npy\").astype(int)\n",
    "genres = np.load(root + \"/genres.npy\").astype(int)"
   ]
  },
  {
   "cell_type": "code",
   "execution_count": 4,
   "id": "b89d3712",
   "metadata": {},
   "outputs": [
    {
     "data": {
      "text/plain": [
       "array([4, 1, 4, ..., 7, 7, 7])"
      ]
     },
     "execution_count": 4,
     "metadata": {},
     "output_type": "execute_result"
    }
   ],
   "source": [
    "genres"
   ]
  },
  {
   "cell_type": "code",
   "execution_count": 5,
   "id": "22364721",
   "metadata": {},
   "outputs": [
    {
     "data": {
      "text/plain": [
       "(6040, 3706)"
      ]
     },
     "execution_count": 5,
     "metadata": {},
     "output_type": "execute_result"
    }
   ],
   "source": [
    "matrix.shape"
   ]
  },
  {
   "cell_type": "code",
   "execution_count": 6,
   "id": "5bdeb00a",
   "metadata": {},
   "outputs": [
    {
     "data": {
      "text/plain": [
       "(array([0, 1]), array([4331, 1709]))"
      ]
     },
     "execution_count": 6,
     "metadata": {},
     "output_type": "execute_result"
    }
   ],
   "source": [
    "np.unique(Sx, return_counts=True)"
   ]
  },
  {
   "cell_type": "code",
   "execution_count": 7,
   "id": "fef07393",
   "metadata": {},
   "outputs": [
    {
     "data": {
      "text/plain": [
       "array([ 0,  1,  2,  3,  4,  5,  6,  7,  8,  9, 10, 11, 12, 13, 14, 15, 16,\n",
       "       17])"
      ]
     },
     "execution_count": 7,
     "metadata": {},
     "output_type": "execute_result"
    }
   ],
   "source": [
    "unique_genres = np.unique(genres)\n",
    "unique_genres"
   ]
  },
  {
   "cell_type": "code",
   "execution_count": 8,
   "id": "0552c8b5",
   "metadata": {},
   "outputs": [],
   "source": [
    "dict_genres = {\n",
    "    'Action': 0,\n",
    "    'Adventure': 1,\n",
    "    'Animation': 2,\n",
    "    \"Children's\": 3,\n",
    "    'Comedy': 4,\n",
    "    'Crime': 5,\n",
    "    'Documentary': 6,\n",
    "    'Drama': 7,\n",
    "    'Fantasy': 8,\n",
    "    'Film-Noir': 9,\n",
    "    'Horror': 10,\n",
    "    'Musical': 11,\n",
    "    'Mystery': 12,\n",
    "    'Romance': 13,\n",
    "    'Sci-Fi': 14,\n",
    "    'Thriller': 15,\n",
    "    'War': 16,\n",
    "    'Western': 17\n",
    "}"
   ]
  },
  {
   "cell_type": "code",
   "execution_count": 9,
   "id": "e1d9f0e2",
   "metadata": {},
   "outputs": [
    {
     "data": {
      "text/plain": [
       "{'Action': 0,\n",
       " 'Adventure': 1,\n",
       " 'Animation': 2,\n",
       " \"Children's\": 3,\n",
       " 'Comedy': 4,\n",
       " 'Crime': 5,\n",
       " 'Documentary': 6,\n",
       " 'Drama': 7,\n",
       " 'Fantasy': 8,\n",
       " 'Film-Noir': 9,\n",
       " 'Horror': 10,\n",
       " 'Musical': 11,\n",
       " 'Mystery': 12,\n",
       " 'Romance': 13,\n",
       " 'Sci-Fi': 14,\n",
       " 'Thriller': 15,\n",
       " 'War': 16,\n",
       " 'Western': 17}"
      ]
     },
     "execution_count": 9,
     "metadata": {},
     "output_type": "execute_result"
    }
   ],
   "source": [
    "dict_genres"
   ]
  },
  {
   "cell_type": "code",
   "execution_count": 10,
   "id": "e4afc9dc",
   "metadata": {},
   "outputs": [
    {
     "data": {
      "text/plain": [
       "['Action',\n",
       " 'Adventure',\n",
       " 'Animation',\n",
       " \"Children's\",\n",
       " 'Comedy',\n",
       " 'Crime',\n",
       " 'Documentary',\n",
       " 'Drama',\n",
       " 'Fantasy',\n",
       " 'Film-Noir',\n",
       " 'Horror',\n",
       " 'Musical',\n",
       " 'Mystery',\n",
       " 'Romance',\n",
       " 'Sci-Fi',\n",
       " 'Thriller',\n",
       " 'War',\n",
       " 'Western']"
      ]
     },
     "execution_count": 10,
     "metadata": {},
     "output_type": "execute_result"
    }
   ],
   "source": [
    "genre_names = list(dict_genres.keys())\n",
    "genre_names"
   ]
  },
  {
   "cell_type": "markdown",
   "id": "79bce2b8",
   "metadata": {},
   "source": [
    "## Stats per gender"
   ]
  },
  {
   "cell_type": "code",
   "execution_count": 17,
   "id": "18ba3ff2",
   "metadata": {},
   "outputs": [
    {
     "name": "stdout",
     "output_type": "stream",
     "text": [
      "{0: {0: 1431, 1: 409, 2: 241, 3: 42, 4: 125, 5: 754, 6: 209, 7: 24, 8: 53, 9: 671, 10: 599, 11: 54, 12: 52, 13: 110, 14: 59, 15: 514, 16: 383, 17: 107}, 1: {0: 569, 1: 142, 2: 98, 3: 60, 4: 89, 5: 114, 6: 182, 7: 25, 8: 4, 9: 115, 10: 361, 11: 17, 12: 27, 13: 27, 14: 15, 15: 119, 16: 408, 17: 22}}\n"
     ]
    }
   ],
   "source": [
    "gender_likes = {gender: {int(genre): 0 for genre in unique_genres} for gender in [0, 1]}\n",
    "\n",
    "for i, gender in enumerate(Sx):\n",
    "    for j, genre in enumerate(genres):\n",
    "        if matrix[i, j] >= 3:\n",
    "            gender_likes[gender][genre] += 1\n",
    "\n",
    "print(gender_likes)"
   ]
  },
  {
   "cell_type": "code",
   "execution_count": 18,
   "id": "df8875e3",
   "metadata": {},
   "outputs": [
    {
     "data": {
      "text/plain": [
       "<Figure size 432x288 with 0 Axes>"
      ]
     },
     "metadata": {},
     "output_type": "display_data"
    },
    {
     "data": {
      "image/png": "[encoded data removed]",
      "text/plain": [
       "<Figure size 432x288 with 1 Axes>"
      ]
     },
     "metadata": {
      "needs_background": "light"
     },
     "output_type": "display_data"
    }
   ],
   "source": [
    "import matplotlib.pyplot as plt\n",
    "\n",
    "# genre_names\n",
    "genres = list(gender_likes[1].keys())\n",
    "male_counts = [gender_likes[0][genre] for genre in genres]\n",
    "female_counts = [gender_likes[1][genre] for genre in genres]\n",
    "\n",
    "x = np.arange(len(genres))\n",
    "width = 0.35\n",
    "\n",
    "plt.figure()\n",
    "fig, ax = plt.subplots()\n",
    "ax.bar(x - width/2, male_counts, width, label='Male')\n",
    "ax.bar(x + width/2, female_counts, width, label='Female')\n",
    "\n",
    "ax.set_xlabel('Genres')\n",
    "ax.set_ylabel('Number of Likes')\n",
    "ax.set_title('MovieLens 1M - Movie Likes by Gender and Genre')\n",
    "ax.set_xticks(x)\n",
    "ax.set_xticklabels(genre_names)\n",
    "plt.xticks(rotation=90)\n",
    "ax.legend()\n",
    "plt.show()"
   ]
  },
  {
   "cell_type": "markdown",
   "id": "372ca75d",
   "metadata": {},
   "source": [
    "## Stats per age"
   ]
  },
  {
   "cell_type": "code",
   "execution_count": 19,
   "id": "aee33cf8",
   "metadata": {},
   "outputs": [
    {
     "data": {
      "text/plain": [
       "array([0, 2, 0, ..., 2, 1, 0])"
      ]
     },
     "execution_count": 19,
     "metadata": {},
     "output_type": "execute_result"
    }
   ],
   "source": [
    "Sx_age = np.load(root + \"/age.npy\").astype(int)\n",
    "Sx_age"
   ]
  },
  {
   "cell_type": "code",
   "execution_count": 23,
   "id": "805209c2",
   "metadata": {},
   "outputs": [
    {
     "name": "stdout",
     "output_type": "stream",
     "text": [
      "[3421 1743  876]\n",
      "[0.56639073 0.28857616 0.14503311]\n"
     ]
    }
   ],
   "source": [
    "age_value, age_count = np.unique(Sx_age, return_counts=True)\n",
    "print(age_count)\n",
    "print(age_count/np.sum(age_count))"
   ]
  },
  {
   "cell_type": "code",
   "execution_count": 20,
   "id": "cf100db2",
   "metadata": {},
   "outputs": [
    {
     "name": "stdout",
     "output_type": "stream",
     "text": [
      "{0: {0: 1293, 1: 345, 2: 216, 3: 67, 4: 138, 5: 610, 6: 228, 7: 32, 8: 40, 9: 546, 10: 547, 11: 43, 12: 41, 13: 81, 14: 40, 15: 455, 16: 400, 17: 112}, 1: {0: 554, 1: 162, 2: 78, 3: 27, 4: 59, 5: 185, 6: 116, 7: 13, 8: 13, 9: 178, 10: 285, 11: 20, 12: 33, 13: 43, 14: 26, 15: 130, 16: 262, 17: 14}, 2: {0: 153, 1: 44, 2: 45, 3: 8, 4: 17, 5: 73, 6: 47, 7: 4, 8: 4, 9: 62, 10: 128, 11: 8, 12: 5, 13: 13, 14: 8, 15: 48, 16: 129, 17: 3}}\n"
     ]
    }
   ],
   "source": [
    "age_likes = {age : {int(genre): 0 for genre in unique_genres} for age  in [0, 1, 2]}\n",
    "\n",
    "for i, age in enumerate(Sx_age):\n",
    "    for j, genre in enumerate(genres):\n",
    "        if matrix[i, j] >= 3:\n",
    "            age_likes[age][genre] += 1\n",
    "\n",
    "print(age_likes)"
   ]
  },
  {
   "cell_type": "code",
   "execution_count": 21,
   "id": "3de85bb4",
   "metadata": {},
   "outputs": [
    {
     "data": {
      "text/plain": [
       "<Figure size 432x288 with 0 Axes>"
      ]
     },
     "metadata": {},
     "output_type": "display_data"
    },
    {
     "data": {
      "image/png": "[encoded data removed]",
      "text/plain": [
       "<Figure size 432x288 with 1 Axes>"
      ]
     },
     "metadata": {
      "needs_background": "light"
     },
     "output_type": "display_data"
    }
   ],
   "source": [
    "import matplotlib.pyplot as plt\n",
    "\n",
    "# genre_names\n",
    "genres = list(age_likes[1].keys())\n",
    "young_counts = [age_likes[0][genre] for genre in genres]\n",
    "middle_counts = [age_likes[1][genre] for genre in genres]\n",
    "old_counts = [age_likes[2][genre] for genre in genres]\n",
    "\n",
    "x = np.arange(len(genres))\n",
    "width = 0.25\n",
    "multiplier = 0\n",
    "\n",
    "plt.figure()\n",
    "fig, ax = plt.subplots()\n",
    "\n",
    "offset = width * multiplier \n",
    "ax.bar(x + offset, young_counts, width, label='0-34')\n",
    "multiplier += 1\n",
    "\n",
    "offset = width * multiplier \n",
    "ax.bar(x + offset, middle_counts, width, label='35-49')\n",
    "multiplier += 1\n",
    "\n",
    "offset = width * multiplier \n",
    "ax.bar(x + offset, old_counts, width, label='50+')\n",
    "multiplier += 1\n",
    "\n",
    "ax.set_xlabel('Genres')\n",
    "ax.set_ylabel('Number of Likes')\n",
    "ax.set_title('MovieLens 1M - Movie Likes by Age and Genre')\n",
    "ax.set_xticks(x)\n",
    "ax.set_xticklabels(genre_names)\n",
    "plt.xticks(rotation=90)\n",
    "ax.legend()\n",
    "plt.show()"
   ]
  },
  {
   "cell_type": "code",
   "execution_count": null,
   "id": "a03b9fbb",
   "metadata": {},
   "outputs": [],
   "source": []
  }
 ],
 "metadata": {
  "kernelspec": {
   "display_name": "Python 3 (ipykernel)",
   "language": "python",
   "name": "python3"
  },
  "language_info": {
   "codemirror_mode": {
    "name": "ipython",
    "version": 3
   },
   "file_extension": ".py",
   "mimetype": "text/x-python",
   "name": "python",
   "nbconvert_exporter": "python",
   "pygments_lexer": "ipython3",
   "version": "3.8.10"
  }
 },
 "nbformat": 4,
 "nbformat_minor": 5
}
