{
 "cells": [
  {
   "cell_type": "code",
   "execution_count": 1,
   "id": "1a8e921a",
   "metadata": {},
   "outputs": [],
   "source": [
    "import os\n",
    "import numpy as np\n",
    "import pickle\n",
    "import pandas as pd"
   ]
  },
  {
   "cell_type": "code",
   "execution_count": 2,
   "id": "8d47058e",
   "metadata": {},
   "outputs": [
    {
     "data": {
      "text/plain": [
       "'./fair_taucc/datasets/movielens/movielens-1m'"
      ]
     },
     "execution_count": 2,
     "metadata": {},
     "output_type": "execute_result"
    }
   ],
   "source": [
    "root = os.getcwd()\n",
    "root"
   ]
  },
  {
   "cell_type": "code",
   "execution_count": 3,
   "id": "cb3e6668",
   "metadata": {},
   "outputs": [],
   "source": [
    "matrix = np.load(root + \"/matrix.npy\").astype(int)\n",
    "Sx = np.load(root + \"/gender.npy\").astype(int)\n",
    "genres = np.load(root + \"/genres.npy\").astype(int)"
   ]
  },
  {
   "cell_type": "code",
   "execution_count": 4,
   "id": "b89d3712",
   "metadata": {},
   "outputs": [
    {
     "data": {
      "text/plain": [
       "array([4, 1, 4, ..., 7, 7, 7])"
      ]
     },
     "execution_count": 4,
     "metadata": {},
     "output_type": "execute_result"
    }
   ],
   "source": [
    "genres"
   ]
  },
  {
   "cell_type": "code",
   "execution_count": 5,
   "id": "22364721",
   "metadata": {},
   "outputs": [
    {
     "data": {
      "text/plain": [
       "(6040, 3706)"
      ]
     },
     "execution_count": 5,
     "metadata": {},
     "output_type": "execute_result"
    }
   ],
   "source": [
    "matrix.shape"
   ]
  },
  {
   "cell_type": "code",
   "execution_count": 6,
   "id": "5bdeb00a",
   "metadata": {},
   "outputs": [
    {
     "data": {
      "text/plain": [
       "(array([0, 1]), array([4331, 1709]))"
      ]
     },
     "execution_count": 6,
     "metadata": {},
     "output_type": "execute_result"
    }
   ],
   "source": [
    "np.unique(Sx, return_counts=True)"
   ]
  },
  {
   "cell_type": "code",
   "execution_count": 7,
   "id": "fef07393",
   "metadata": {},
   "outputs": [
    {
     "data": {
      "text/plain": [
       "array([ 0,  1,  2,  3,  4,  5,  6,  7,  8,  9, 10, 11, 12, 13, 14, 15, 16,\n",
       "       17])"
      ]
     },
     "execution_count": 7,
     "metadata": {},
     "output_type": "execute_result"
    }
   ],
   "source": [
    "unique_genres = np.unique(genres)\n",
    "unique_genres"
   ]
  },
  {
   "cell_type": "code",
   "execution_count": 8,
   "id": "0552c8b5",
   "metadata": {},
   "outputs": [],
   "source": [
    "dict_genres = {\n",
    "    'Action': 0,\n",
    "    'Adventure': 1,\n",
    "    'Animation': 2,\n",
    "    \"Children's\": 3,\n",
    "    'Comedy': 4,\n",
    "    'Crime': 5,\n",
    "    'Documentary': 6,\n",
    "    'Drama': 7,\n",
    "    'Fantasy': 8,\n",
    "    'Film-Noir': 9,\n",
    "    'Horror': 10,\n",
    "    'Musical': 11,\n",
    "    'Mystery': 12,\n",
    "    'Romance': 13,\n",
    "    'Sci-Fi': 14,\n",
    "    'Thriller': 15,\n",
    "    'War': 16,\n",
    "    'Western': 17\n",
    "}"
   ]
  },
  {
   "cell_type": "code",
   "execution_count": 9,
   "id": "e1d9f0e2",
   "metadata": {},
   "outputs": [
    {
     "data": {
      "text/plain": [
       "{'Action': 0,\n",
       " 'Adventure': 1,\n",
       " 'Animation': 2,\n",
       " \"Children's\": 3,\n",
       " 'Comedy': 4,\n",
       " 'Crime': 5,\n",
       " 'Documentary': 6,\n",
       " 'Drama': 7,\n",
       " 'Fantasy': 8,\n",
       " 'Film-Noir': 9,\n",
       " 'Horror': 10,\n",
       " 'Musical': 11,\n",
       " 'Mystery': 12,\n",
       " 'Romance': 13,\n",
       " 'Sci-Fi': 14,\n",
       " 'Thriller': 15,\n",
       " 'War': 16,\n",
       " 'Western': 17}"
      ]
     },
     "execution_count": 9,
     "metadata": {},
     "output_type": "execute_result"
    }
   ],
   "source": [
    "dict_genres"
   ]
  },
  {
   "cell_type": "code",
   "execution_count": 10,
   "id": "e4afc9dc",
   "metadata": {},
   "outputs": [
    {
     "data": {
      "text/plain": [
       "['Action',\n",
       " 'Adventure',\n",
       " 'Animation',\n",
       " \"Children's\",\n",
       " 'Comedy',\n",
       " 'Crime',\n",
       " 'Documentary',\n",
       " 'Drama',\n",
       " 'Fantasy',\n",
       " 'Film-Noir',\n",
       " 'Horror',\n",
       " 'Musical',\n",
       " 'Mystery',\n",
       " 'Romance',\n",
       " 'Sci-Fi',\n",
       " 'Thriller',\n",
       " 'War',\n",
       " 'Western']"
      ]
     },
     "execution_count": 10,
     "metadata": {},
     "output_type": "execute_result"
    }
   ],
   "source": [
    "genre_names = list(dict_genres.keys())\n",
    "genre_names"
   ]
  },
  {
   "cell_type": "markdown",
   "id": "79bce2b8",
   "metadata": {},
   "source": [
    "## Stats per gender"
   ]
  },
  {
   "cell_type": "code",
   "execution_count": 23,
   "id": "18ba3ff2",
   "metadata": {},
   "outputs": [],
   "source": [
    "gender_ratings = {gender: {int(genre): [] for genre in unique_genres} for gender in [0, 1]}\n",
    "\n",
    "for i, gender in enumerate(Sx):\n",
    "    for j, genre in enumerate(genres):\n",
    "        if matrix[i, j] != 0:\n",
    "            gender_ratings[gender][genre].append(matrix[i, j])\n"
   ]
  },
  {
   "cell_type": "code",
   "execution_count": 25,
   "id": "01c6e597",
   "metadata": {},
   "outputs": [],
   "source": [
    "ratings_mean = {gender: {int(genre): 0 for genre in unique_genres} for gender in [0,1]}"
   ]
  },
  {
   "cell_type": "code",
   "execution_count": 26,
   "id": "351b10ff",
   "metadata": {},
   "outputs": [],
   "source": [
    "for gender in gender_ratings:\n",
    "    for genre in gender_ratings[gender]:\n",
    "        ratings_mean[gender][genre] = np.mean(gender_ratings[gender][genre])"
   ]
  },
  {
   "cell_type": "code",
   "execution_count": 28,
   "id": "df8875e3",
   "metadata": {},
   "outputs": [
    {
     "data": {
      "text/plain": [
       "<Figure size 432x288 with 0 Axes>"
      ]
     },
     "metadata": {},
     "output_type": "display_data"
    },
    {
     "data": {
      "image/png": "[encoded data removed]",
      "text/plain": [
       "<Figure size 432x288 with 1 Axes>"
      ]
     },
     "metadata": {
      "needs_background": "light"
     },
     "output_type": "display_data"
    }
   ],
   "source": [
    "import matplotlib.pyplot as plt\n",
    "\n",
    "# genre_names\n",
    "male_counts = [ratings_mean[0][genre] for genre in unique_genres]\n",
    "female_counts = [ratings_mean[1][genre] for genre in unique_genres]\n",
    "\n",
    "x = np.arange(len(unique_genres))\n",
    "width = 0.35\n",
    "\n",
    "plt.figure()\n",
    "fig, ax = plt.subplots()\n",
    "ax.bar(x - width/2, male_counts, width, label='Male')\n",
    "ax.bar(x + width/2, female_counts, width, label='Female')\n",
    "\n",
    "ax.set_xlabel('Genres')\n",
    "ax.set_ylabel('Average Ratings')\n",
    "ax.set_title('MovieLens 1M - Ratings by Gender and Genre')\n",
    "ax.set_xticks(x)\n",
    "ax.set_xticklabels(genre_names)\n",
    "plt.xticks(rotation=90)\n",
    "ax.legend()\n",
    "plt.show()"
   ]
  },
  {
   "cell_type": "markdown",
   "id": "372ca75d",
   "metadata": {},
   "source": [
    "## Stats per age"
   ]
  },
  {
   "cell_type": "code",
   "execution_count": 43,
   "id": "aee33cf8",
   "metadata": {},
   "outputs": [
    {
     "data": {
      "text/plain": [
       "array([0, 2, 0, ..., 2, 1, 0])"
      ]
     },
     "execution_count": 43,
     "metadata": {},
     "output_type": "execute_result"
    }
   ],
   "source": [
    "Sx_age = np.load(root + \"/age.npy\").astype(int)\n",
    "Sx_age"
   ]
  },
  {
   "cell_type": "code",
   "execution_count": 44,
   "id": "805209c2",
   "metadata": {},
   "outputs": [
    {
     "name": "stdout",
     "output_type": "stream",
     "text": [
      "[3421 1743  876]\n",
      "[0.56639073 0.28857616 0.14503311]\n"
     ]
    }
   ],
   "source": [
    "age_value, age_count = np.unique(Sx_age, return_counts=True)\n",
    "print(age_count)\n",
    "print(age_count/np.sum(age_count))"
   ]
  },
  {
   "cell_type": "code",
   "execution_count": 45,
   "id": "cf100db2",
   "metadata": {},
   "outputs": [],
   "source": [
    "age_ratings = {age : {int(genre): [] for genre in unique_genres} for age in [0, 1, 2]}\n",
    "\n",
    "for i, age in enumerate(Sx_age):\n",
    "    for j, genre in enumerate(genres):\n",
    "        if matrix[i, j] != 0:\n",
    "            age_ratings[age][genre].append(matrix[i, j])\n"
   ]
  },
  {
   "cell_type": "code",
   "execution_count": 47,
   "id": "ac05e60b",
   "metadata": {},
   "outputs": [],
   "source": [
    "age_ratings_mean = {age : {int(genre): 0 for genre in unique_genres} for age in [0, 1, 2]}\n",
    "\n",
    "for age in age_ratings:\n",
    "    for genre in age_ratings[age]:\n",
    "        age_ratings_mean[age][genre] = np.mean(age_ratings[gender][genre])"
   ]
  },
  {
   "cell_type": "code",
   "execution_count": 48,
   "id": "3de85bb4",
   "metadata": {},
   "outputs": [
    {
     "data": {
      "text/plain": [
       "<Figure size 432x288 with 0 Axes>"
      ]
     },
     "metadata": {},
     "output_type": "display_data"
    },
    {
     "data": {
      "image/png": "[encoded data removed]",
      "text/plain": [
       "<Figure size 432x288 with 1 Axes>"
      ]
     },
     "metadata": {
      "needs_background": "light"
     },
     "output_type": "display_data"
    }
   ],
   "source": [
    "import matplotlib.pyplot as plt\n",
    "\n",
    "# genre_names\n",
    "young_counts = [age_ratings_mean[0][genre] for genre in unique_genres]\n",
    "middle_counts = [age_ratings_mean[1][genre] for genre in unique_genres]\n",
    "old_counts = [age_ratings_mean[2][genre] for genre in unique_genres]\n",
    "\n",
    "x = np.arange(len(unique_genres))\n",
    "width = 0.25\n",
    "multiplier = 0\n",
    "\n",
    "plt.figure()\n",
    "fig, ax = plt.subplots()\n",
    "\n",
    "offset = width * multiplier \n",
    "ax.bar(x + offset, young_counts, width, label='0-34')\n",
    "multiplier += 1\n",
    "\n",
    "offset = width * multiplier \n",
    "ax.bar(x + offset, middle_counts, width, label='35-49')\n",
    "multiplier += 1\n",
    "\n",
    "offset = width * multiplier \n",
    "ax.bar(x + offset, old_counts, width, label='50+')\n",
    "multiplier += 1\n",
    "\n",
    "ax.set_xlabel('Genres')\n",
    "ax.set_ylabel('Average Ratings')\n",
    "ax.set_title('MovieLens 1M - Ratings by Age and Genre')\n",
    "ax.set_xticks(x)\n",
    "ax.set_xticklabels(genre_names)\n",
    "plt.xticks(rotation=90)\n",
    "ax.legend()\n",
    "plt.show()"
   ]
  },
  {
   "cell_type": "code",
   "execution_count": null,
   "id": "a03b9fbb",
   "metadata": {},
   "outputs": [],
   "source": []
  }
 ],
 "metadata": {
  "kernelspec": {
   "display_name": "Python 3 (ipykernel)",
   "language": "python",
   "name": "python3"
  },
  "language_info": {
   "codemirror_mode": {
    "name": "ipython",
    "version": 3
   },
   "file_extension": ".py",
   "mimetype": "text/x-python",
   "name": "python",
   "nbconvert_exporter": "python",
   "pygments_lexer": "ipython3",
   "version": "3.8.10"
  }
 },
 "nbformat": 4,
 "nbformat_minor": 5
}
