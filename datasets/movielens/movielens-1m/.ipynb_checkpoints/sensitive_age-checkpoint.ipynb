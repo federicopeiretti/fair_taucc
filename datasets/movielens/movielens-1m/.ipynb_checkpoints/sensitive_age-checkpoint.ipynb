{
 "cells": [
  {
   "cell_type": "code",
   "execution_count": 7,
   "id": "44cd1523",
   "metadata": {},
   "outputs": [],
   "source": [
    "import pandas as pd\n",
    "import os\n",
    "import numpy as np"
   ]
  },
  {
   "cell_type": "markdown",
   "id": "9515c6c8",
   "metadata": {},
   "source": [
    "### Sensitive attribute: Age\n",
    "\n",
    "\t*  1:  \"Under 18\" --> 0\n",
    "\t* 18:  \"18-24\"    --> 0\n",
    "\t* 25:  \"25-34\"    --> 0\n",
    "\t* 35:  \"35-44\"    --> 1\n",
    "\t* 45:  \"45-49\"    --> 1\n",
    "\t* 50:  \"50-55\"    --> 2\n",
    "\t* 56:  \"56+\"      --> 2\n",
    "    \n",
    "    "
   ]
  },
  {
   "cell_type": "code",
   "execution_count": 8,
   "id": "e113e3c5",
   "metadata": {},
   "outputs": [
    {
     "data": {
      "text/plain": [
       "'./fair_taucc/datasets/movielens/movielens-1m'"
      ]
     },
     "execution_count": 8,
     "metadata": {},
     "output_type": "execute_result"
    }
   ],
   "source": [
    "root = os.getcwd()\n",
    "root"
   ]
  },
  {
   "cell_type": "code",
   "execution_count": 9,
   "id": "11c2fff3",
   "metadata": {},
   "outputs": [
    {
     "name": "stderr",
     "output_type": "stream",
     "text": [
      "/tmp/ipykernel_4032651/2972028389.py:1: ParserWarning: Falling back to the 'python' engine because the 'c' engine does not support regex separators (separators > 1 char and different from '\\s+' are interpreted as regex); you can avoid this warning by specifying engine='python'.\n",
      "  users = pd.read_csv(root + \"/users.dat\", sep=\"::\", header=None, names=[\"userID\", \"gender\", \"age\", \"occupation\", \"zipcode\"])\n"
     ]
    },
    {
     "data": {
      "text/html": [
       "<div>\n",
       "<style scoped>\n",
       "    .dataframe tbody tr th:only-of-type {\n",
       "        vertical-align: middle;\n",
       "    }\n",
       "\n",
       "    .dataframe tbody tr th {\n",
       "        vertical-align: top;\n",
       "    }\n",
       "\n",
       "    .dataframe thead th {\n",
       "        text-align: right;\n",
       "    }\n",
       "</style>\n",
       "<table border=\"1\" class=\"dataframe\">\n",
       "  <thead>\n",
       "    <tr style=\"text-align: right;\">\n",
       "      <th></th>\n",
       "      <th>userID</th>\n",
       "      <th>gender</th>\n",
       "      <th>age</th>\n",
       "      <th>occupation</th>\n",
       "      <th>zipcode</th>\n",
       "    </tr>\n",
       "  </thead>\n",
       "  <tbody>\n",
       "    <tr>\n",
       "      <th>0</th>\n",
       "      <td>1</td>\n",
       "      <td>F</td>\n",
       "      <td>1</td>\n",
       "      <td>10</td>\n",
       "      <td>48067</td>\n",
       "    </tr>\n",
       "    <tr>\n",
       "      <th>1</th>\n",
       "      <td>2</td>\n",
       "      <td>M</td>\n",
       "      <td>56</td>\n",
       "      <td>16</td>\n",
       "      <td>70072</td>\n",
       "    </tr>\n",
       "    <tr>\n",
       "      <th>2</th>\n",
       "      <td>3</td>\n",
       "      <td>M</td>\n",
       "      <td>25</td>\n",
       "      <td>15</td>\n",
       "      <td>55117</td>\n",
       "    </tr>\n",
       "    <tr>\n",
       "      <th>3</th>\n",
       "      <td>4</td>\n",
       "      <td>M</td>\n",
       "      <td>45</td>\n",
       "      <td>7</td>\n",
       "      <td>02460</td>\n",
       "    </tr>\n",
       "    <tr>\n",
       "      <th>4</th>\n",
       "      <td>5</td>\n",
       "      <td>M</td>\n",
       "      <td>25</td>\n",
       "      <td>20</td>\n",
       "      <td>55455</td>\n",
       "    </tr>\n",
       "    <tr>\n",
       "      <th>...</th>\n",
       "      <td>...</td>\n",
       "      <td>...</td>\n",
       "      <td>...</td>\n",
       "      <td>...</td>\n",
       "      <td>...</td>\n",
       "    </tr>\n",
       "    <tr>\n",
       "      <th>6035</th>\n",
       "      <td>6036</td>\n",
       "      <td>F</td>\n",
       "      <td>25</td>\n",
       "      <td>15</td>\n",
       "      <td>32603</td>\n",
       "    </tr>\n",
       "    <tr>\n",
       "      <th>6036</th>\n",
       "      <td>6037</td>\n",
       "      <td>F</td>\n",
       "      <td>45</td>\n",
       "      <td>1</td>\n",
       "      <td>76006</td>\n",
       "    </tr>\n",
       "    <tr>\n",
       "      <th>6037</th>\n",
       "      <td>6038</td>\n",
       "      <td>F</td>\n",
       "      <td>56</td>\n",
       "      <td>1</td>\n",
       "      <td>14706</td>\n",
       "    </tr>\n",
       "    <tr>\n",
       "      <th>6038</th>\n",
       "      <td>6039</td>\n",
       "      <td>F</td>\n",
       "      <td>45</td>\n",
       "      <td>0</td>\n",
       "      <td>01060</td>\n",
       "    </tr>\n",
       "    <tr>\n",
       "      <th>6039</th>\n",
       "      <td>6040</td>\n",
       "      <td>M</td>\n",
       "      <td>25</td>\n",
       "      <td>6</td>\n",
       "      <td>11106</td>\n",
       "    </tr>\n",
       "  </tbody>\n",
       "</table>\n",
       "<p>6040 rows × 5 columns</p>\n",
       "</div>"
      ],
      "text/plain": [
       "      userID gender  age  occupation zipcode\n",
       "0          1      F    1          10   48067\n",
       "1          2      M   56          16   70072\n",
       "2          3      M   25          15   55117\n",
       "3          4      M   45           7   02460\n",
       "4          5      M   25          20   55455\n",
       "...      ...    ...  ...         ...     ...\n",
       "6035    6036      F   25          15   32603\n",
       "6036    6037      F   45           1   76006\n",
       "6037    6038      F   56           1   14706\n",
       "6038    6039      F   45           0   01060\n",
       "6039    6040      M   25           6   11106\n",
       "\n",
       "[6040 rows x 5 columns]"
      ]
     },
     "execution_count": 9,
     "metadata": {},
     "output_type": "execute_result"
    }
   ],
   "source": [
    "users = pd.read_csv(root + \"/users.dat\", sep=\"::\", header=None, names=[\"userID\", \"gender\", \"age\", \"occupation\", \"zipcode\"])\n",
    "users"
   ]
  },
  {
   "cell_type": "code",
   "execution_count": 16,
   "id": "4f551e3b",
   "metadata": {},
   "outputs": [
    {
     "data": {
      "text/plain": [
       "array([ 1, 56, 25, 45, 25, 50, 35, 25, 25, 35, 25, 25, 45, 35, 25, 35, 50,\n",
       "       18,  1, 25])"
      ]
     },
     "execution_count": 16,
     "metadata": {},
     "output_type": "execute_result"
    }
   ],
   "source": [
    "age = users[\"age\"].to_numpy()\n",
    "age[:20]"
   ]
  },
  {
   "cell_type": "code",
   "execution_count": 19,
   "id": "5319f8d0",
   "metadata": {},
   "outputs": [
    {
     "data": {
      "text/plain": [
       "array([ 0, 56,  0, 45,  0, 50, 35,  0,  0, 35,  0,  0, 45, 35,  0, 35, 50,\n",
       "        0,  0,  0])"
      ]
     },
     "execution_count": 19,
     "metadata": {},
     "output_type": "execute_result"
    }
   ],
   "source": [
    "age = np.where(age <= 25, 0, age)\n",
    "age[:20]"
   ]
  },
  {
   "cell_type": "code",
   "execution_count": 20,
   "id": "a4ef38fb",
   "metadata": {},
   "outputs": [],
   "source": [
    "age = np.where((age == 35) | (age == 45), 1, age)"
   ]
  },
  {
   "cell_type": "code",
   "execution_count": 21,
   "id": "2adbd728",
   "metadata": {},
   "outputs": [
    {
     "data": {
      "text/plain": [
       "array([ 0, 56,  0,  1,  0, 50,  1,  0,  0,  1,  0,  0,  1,  1,  0,  1, 50,\n",
       "        0,  0,  0])"
      ]
     },
     "execution_count": 21,
     "metadata": {},
     "output_type": "execute_result"
    }
   ],
   "source": [
    "age[:20]"
   ]
  },
  {
   "cell_type": "code",
   "execution_count": 24,
   "id": "385117bf",
   "metadata": {},
   "outputs": [],
   "source": [
    "over50 = np.where(age > 45)[0]\n",
    "age[over50] = 2"
   ]
  },
  {
   "cell_type": "code",
   "execution_count": 25,
   "id": "01cc33e1",
   "metadata": {},
   "outputs": [
    {
     "data": {
      "text/plain": [
       "array([0, 2, 0, 1, 0, 2, 1, 0, 0, 1, 0, 0, 1, 1, 0, 1, 2, 0, 0, 0])"
      ]
     },
     "execution_count": 25,
     "metadata": {},
     "output_type": "execute_result"
    }
   ],
   "source": [
    "age[:20]"
   ]
  },
  {
   "cell_type": "code",
   "execution_count": 26,
   "id": "7bab62a1",
   "metadata": {},
   "outputs": [],
   "source": [
    "np.save(f\"{root}/age.npy\", age)"
   ]
  },
  {
   "cell_type": "code",
   "execution_count": 28,
   "id": "c7a81536",
   "metadata": {},
   "outputs": [
    {
     "data": {
      "text/plain": [
       "(array([0, 1, 2]), array([3421, 1743,  876]))"
      ]
     },
     "execution_count": 28,
     "metadata": {},
     "output_type": "execute_result"
    }
   ],
   "source": [
    "np.unique(age, return_counts=True)"
   ]
  },
  {
   "cell_type": "code",
   "execution_count": null,
   "id": "0573d5fe",
   "metadata": {},
   "outputs": [],
   "source": []
  }
 ],
 "metadata": {
  "kernelspec": {
   "display_name": "coclus",
   "language": "python",
   "name": "coclus"
  },
  "language_info": {
   "codemirror_mode": {
    "name": "ipython",
    "version": 3
   },
   "file_extension": ".py",
   "mimetype": "text/x-python",
   "name": "python",
   "nbconvert_exporter": "python",
   "pygments_lexer": "ipython3",
   "version": "3.8.10"
  }
 },
 "nbformat": 4,
 "nbformat_minor": 5
}
