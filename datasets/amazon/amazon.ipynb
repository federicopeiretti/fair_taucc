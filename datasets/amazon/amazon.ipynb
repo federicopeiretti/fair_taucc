{
 "cells": [
  {
   "cell_type": "code",
   "execution_count": 1,
   "metadata": {},
   "outputs": [
    {
     "name": "stdout",
     "output_type": "stream",
     "text": [
      "Defaulting to user installation because normal site-packages is not writeable\n",
      "Requirement already satisfied: nltk in ./.local/lib/python3.8/site-packages (3.9.1)\n",
      "Requirement already satisfied: tqdm in ./.local/lib/python3.8/site-packages (from nltk) (4.62.3)\n",
      "Requirement already satisfied: joblib in ./.local/lib/python3.8/site-packages (from nltk) (1.1.0)\n",
      "Requirement already satisfied: click in ./.local/lib/python3.8/site-packages (from nltk) (8.0.3)\n",
      "Requirement already satisfied: regex>=2021.8.3 in ./.local/lib/python3.8/site-packages (from nltk) (2022.1.18)\n",
      "\n",
      "\u001b[1m[\u001b[0m\u001b[34;49mnotice\u001b[0m\u001b[1;39;49m]\u001b[0m\u001b[39;49m A new release of pip is available: \u001b[0m\u001b[31;49m23.0.1\u001b[0m\u001b[39;49m -> \u001b[0m\u001b[32;49m25.0.1\u001b[0m\n",
      "\u001b[1m[\u001b[0m\u001b[34;49mnotice\u001b[0m\u001b[1;39;49m]\u001b[0m\u001b[39;49m To update, run: \u001b[0m\u001b[32;49mpython3 -m pip install --upgrade pip\u001b[0m\n",
      "Defaulting to user installation because normal site-packages is not writeable\n",
      "Requirement already satisfied: wordcloud in ./.local/lib/python3.8/site-packages (1.9.4)\n",
      "Requirement already satisfied: matplotlib in ./.local/lib/python3.8/site-packages (from wordcloud) (3.5.1)\n",
      "Requirement already satisfied: numpy>=1.6.1 in ./.local/lib/python3.8/site-packages (from wordcloud) (1.24.4)\n",
      "Requirement already satisfied: pillow in ./.local/lib/python3.8/site-packages (from wordcloud) (10.4.0)\n",
      "Requirement already satisfied: packaging>=20.0 in ./.local/lib/python3.8/site-packages (from matplotlib->wordcloud) (21.3)\n",
      "Requirement already satisfied: fonttools>=4.22.0 in ./.local/lib/python3.8/site-packages (from matplotlib->wordcloud) (4.29.0)\n",
      "Requirement already satisfied: cycler>=0.10 in ./.local/lib/python3.8/site-packages (from matplotlib->wordcloud) (0.11.0)\n",
      "Requirement already satisfied: kiwisolver>=1.0.1 in ./.local/lib/python3.8/site-packages (from matplotlib->wordcloud) (1.3.2)\n",
      "Requirement already satisfied: pyparsing>=2.2.1 in ./.local/lib/python3.8/site-packages (from matplotlib->wordcloud) (3.0.7)\n",
      "Requirement already satisfied: python-dateutil>=2.7 in ./.local/lib/python3.8/site-packages (from matplotlib->wordcloud) (2.8.2)\n",
      "Requirement already satisfied: six>=1.5 in /usr/lib/python3/dist-packages (from python-dateutil>=2.7->matplotlib->wordcloud) (1.14.0)\n",
      "\n",
      "\u001b[1m[\u001b[0m\u001b[34;49mnotice\u001b[0m\u001b[1;39;49m]\u001b[0m\u001b[39;49m A new release of pip is available: \u001b[0m\u001b[31;49m23.0.1\u001b[0m\u001b[39;49m -> \u001b[0m\u001b[32;49m25.0.1\u001b[0m\n",
      "\u001b[1m[\u001b[0m\u001b[34;49mnotice\u001b[0m\u001b[1;39;49m]\u001b[0m\u001b[39;49m To update, run: \u001b[0m\u001b[32;49mpython3 -m pip install --upgrade pip\u001b[0m\n"
     ]
    }
   ],
   "source": [
    "!pip install nltk\n",
    "!pip install wordcloud"
   ]
  },
  {
   "cell_type": "code",
   "execution_count": 2,
   "metadata": {},
   "outputs": [],
   "source": [
    "import numpy as np\n",
    "import pandas as pd\n",
    "import os\n",
    "import nltk\n",
    "import re\n",
    "import pandas as pd\n",
    "from nltk.corpus import stopwords\n",
    "from nltk.stem import SnowballStemmer\n",
    "import matplotlib.pyplot as plt\n",
    "from wordcloud import WordCloud"
   ]
  },
  {
   "cell_type": "code",
   "execution_count": 3,
   "metadata": {},
   "outputs": [
    {
     "name": "stderr",
     "output_type": "stream",
     "text": [
      "[nltk_data] Downloading package stopwords to\n",
      "[nltk_data]     ./nltk_data...\n",
      "[nltk_data]   Package stopwords is already up-to-date!\n",
      "[nltk_data] Downloading package punkt to ./nltk_data...\n",
      "[nltk_data]   Package punkt is already up-to-date!\n",
      "[nltk_data] Downloading package punkt_tab to\n",
      "[nltk_data]     ./nltk_data...\n",
      "[nltk_data]   Package punkt_tab is already up-to-date!\n"
     ]
    },
    {
     "data": {
      "text/plain": [
       "True"
      ]
     },
     "execution_count": 3,
     "metadata": {},
     "output_type": "execute_result"
    }
   ],
   "source": [
    "nltk.download('stopwords')\n",
    "nltk.download('punkt')\n",
    "nltk.download('punkt_tab')"
   ]
  },
  {
   "cell_type": "code",
   "execution_count": 4,
   "metadata": {},
   "outputs": [],
   "source": [
    "stop_words = set(stopwords.words('english'))\n",
    "stemmer = SnowballStemmer(\"english\")"
   ]
  },
  {
   "cell_type": "code",
   "execution_count": 5,
   "metadata": {},
   "outputs": [],
   "source": [
    "def preprocess_and_tokenize(review):\n",
    "    review = re.sub(r'[^\\w\\s]', '', review.lower())\n",
    "    tokens = nltk.word_tokenize(review)\n",
    "    normalized_tokens = [stemmer.stem(token) for token in tokens]\n",
    "    filtered_tokens = [token for token in normalized_tokens if token not in stop_words and not token.isdigit()]\n",
    "    return filtered_tokens"
   ]
  },
  {
   "cell_type": "code",
   "execution_count": 6,
   "metadata": {},
   "outputs": [],
   "source": [
    "root = os.getcwd()\n",
    "dataset = root + \"/AmazonData.csv\""
   ]
  },
  {
   "cell_type": "code",
   "execution_count": 7,
   "metadata": {},
   "outputs": [
    {
     "data": {
      "text/plain": [
       "'./fair_taucc/datasets/amazon'"
      ]
     },
     "execution_count": 7,
     "metadata": {},
     "output_type": "execute_result"
    }
   ],
   "source": [
    "root"
   ]
  },
  {
   "cell_type": "code",
   "execution_count": 8,
   "metadata": {},
   "outputs": [],
   "source": [
    "df = pd.read_csv(dataset)"
   ]
  },
  {
   "cell_type": "code",
   "execution_count": 9,
   "metadata": {},
   "outputs": [
    {
     "data": {
      "text/html": [
       "<div>\n",
       "<style scoped>\n",
       "    .dataframe tbody tr th:only-of-type {\n",
       "        vertical-align: middle;\n",
       "    }\n",
       "\n",
       "    .dataframe tbody tr th {\n",
       "        vertical-align: top;\n",
       "    }\n",
       "\n",
       "    .dataframe thead th {\n",
       "        text-align: right;\n",
       "    }\n",
       "</style>\n",
       "<table border=\"1\" class=\"dataframe\">\n",
       "  <thead>\n",
       "    <tr style=\"text-align: right;\">\n",
       "      <th></th>\n",
       "      <th>RevId</th>\n",
       "      <th>firstname</th>\n",
       "      <th>helpfulVotes</th>\n",
       "      <th>totalVotes</th>\n",
       "      <th>RevText</th>\n",
       "      <th>rating</th>\n",
       "      <th>RevTitle</th>\n",
       "      <th>Unix.RevTime</th>\n",
       "      <th>month</th>\n",
       "      <th>year</th>\n",
       "      <th>Category</th>\n",
       "      <th>gender</th>\n",
       "      <th>genderprobability</th>\n",
       "      <th>female</th>\n",
       "      <th>male</th>\n",
       "      <th>helpfulnessT</th>\n",
       "      <th>reviewwords</th>\n",
       "      <th>titlewords</th>\n",
       "    </tr>\n",
       "  </thead>\n",
       "  <tbody>\n",
       "    <tr>\n",
       "      <th>0</th>\n",
       "      <td>AIWIEN0F9YDRZ</td>\n",
       "      <td>amy</td>\n",
       "      <td>0</td>\n",
       "      <td>1</td>\n",
       "      <td>MY son works on the railroad and these gloves ...</td>\n",
       "      <td>5</td>\n",
       "      <td>good looking and functional</td>\n",
       "      <td>1389398400</td>\n",
       "      <td>1</td>\n",
       "      <td>2014</td>\n",
       "      <td>Home and Tools</td>\n",
       "      <td>female</td>\n",
       "      <td>0.99</td>\n",
       "      <td>1</td>\n",
       "      <td>0</td>\n",
       "      <td>0.0</td>\n",
       "      <td>30</td>\n",
       "      <td>4</td>\n",
       "    </tr>\n",
       "    <tr>\n",
       "      <th>1</th>\n",
       "      <td>A3PNHWIMESAO1O</td>\n",
       "      <td>ann</td>\n",
       "      <td>0</td>\n",
       "      <td>1</td>\n",
       "      <td>I just decided to go with the Moen DN6718ORB D...</td>\n",
       "      <td>3</td>\n",
       "      <td>this product was fine</td>\n",
       "      <td>1389139200</td>\n",
       "      <td>1</td>\n",
       "      <td>2014</td>\n",
       "      <td>Home and Tools</td>\n",
       "      <td>female</td>\n",
       "      <td>0.99</td>\n",
       "      <td>1</td>\n",
       "      <td>0</td>\n",
       "      <td>0.0</td>\n",
       "      <td>23</td>\n",
       "      <td>4</td>\n",
       "    </tr>\n",
       "    <tr>\n",
       "      <th>2</th>\n",
       "      <td>AU2FLCLW8W04P</td>\n",
       "      <td>liz</td>\n",
       "      <td>0</td>\n",
       "      <td>1</td>\n",
       "      <td>Fit well into our sparkling grape juice bottle...</td>\n",
       "      <td>5</td>\n",
       "      <td>Fit Well</td>\n",
       "      <td>1389052800</td>\n",
       "      <td>1</td>\n",
       "      <td>2014</td>\n",
       "      <td>Home and Tools</td>\n",
       "      <td>female</td>\n",
       "      <td>1.00</td>\n",
       "      <td>1</td>\n",
       "      <td>0</td>\n",
       "      <td>0.0</td>\n",
       "      <td>42</td>\n",
       "      <td>2</td>\n",
       "    </tr>\n",
       "    <tr>\n",
       "      <th>3</th>\n",
       "      <td>A1C6HTWGSMORUB</td>\n",
       "      <td>beth</td>\n",
       "      <td>0</td>\n",
       "      <td>6</td>\n",
       "      <td>I thought that my teenagers would like these k...</td>\n",
       "      <td>1</td>\n",
       "      <td>The Product was good, but customer service not...</td>\n",
       "      <td>1389398400</td>\n",
       "      <td>1</td>\n",
       "      <td>2014</td>\n",
       "      <td>Home and Tools</td>\n",
       "      <td>female</td>\n",
       "      <td>1.00</td>\n",
       "      <td>1</td>\n",
       "      <td>0</td>\n",
       "      <td>0.0</td>\n",
       "      <td>193</td>\n",
       "      <td>10</td>\n",
       "    </tr>\n",
       "    <tr>\n",
       "      <th>4</th>\n",
       "      <td>AZ7OW7KDTEHCG</td>\n",
       "      <td>judy</td>\n",
       "      <td>0</td>\n",
       "      <td>1</td>\n",
       "      <td>with this thing , It might be good for getting...</td>\n",
       "      <td>1</td>\n",
       "      <td>I ruined my sinks</td>\n",
       "      <td>1389744000</td>\n",
       "      <td>1</td>\n",
       "      <td>2014</td>\n",
       "      <td>Home and Tools</td>\n",
       "      <td>female</td>\n",
       "      <td>1.00</td>\n",
       "      <td>1</td>\n",
       "      <td>0</td>\n",
       "      <td>0.0</td>\n",
       "      <td>23</td>\n",
       "      <td>4</td>\n",
       "    </tr>\n",
       "    <tr>\n",
       "      <th>5</th>\n",
       "      <td>A326T7B8O4EFS3</td>\n",
       "      <td>lara</td>\n",
       "      <td>0</td>\n",
       "      <td>2</td>\n",
       "      <td>as a steel ruler it's ok, but it is not what I...</td>\n",
       "      <td>3</td>\n",
       "      <td>I was looking for a slide rule</td>\n",
       "      <td>1389052800</td>\n",
       "      <td>1</td>\n",
       "      <td>2014</td>\n",
       "      <td>Home and Tools</td>\n",
       "      <td>female</td>\n",
       "      <td>1.00</td>\n",
       "      <td>1</td>\n",
       "      <td>0</td>\n",
       "      <td>0.0</td>\n",
       "      <td>28</td>\n",
       "      <td>7</td>\n",
       "    </tr>\n",
       "    <tr>\n",
       "      <th>6</th>\n",
       "      <td>A2WVI8BDWVX58J</td>\n",
       "      <td>lila</td>\n",
       "      <td>0</td>\n",
       "      <td>1</td>\n",
       "      <td>My husband was very happy with the quality of ...</td>\n",
       "      <td>5</td>\n",
       "      <td>Bosch drill bits</td>\n",
       "      <td>1388707200</td>\n",
       "      <td>1</td>\n",
       "      <td>2014</td>\n",
       "      <td>Home and Tools</td>\n",
       "      <td>female</td>\n",
       "      <td>0.99</td>\n",
       "      <td>1</td>\n",
       "      <td>0</td>\n",
       "      <td>0.0</td>\n",
       "      <td>27</td>\n",
       "      <td>3</td>\n",
       "    </tr>\n",
       "    <tr>\n",
       "      <th>7</th>\n",
       "      <td>A1TDJJMU3VOHPY</td>\n",
       "      <td>lisa</td>\n",
       "      <td>0</td>\n",
       "      <td>1</td>\n",
       "      <td>not what I thought I was getting.wanted meat g...</td>\n",
       "      <td>3</td>\n",
       "      <td>so-so</td>\n",
       "      <td>1390435200</td>\n",
       "      <td>1</td>\n",
       "      <td>2014</td>\n",
       "      <td>Home and Tools</td>\n",
       "      <td>female</td>\n",
       "      <td>1.00</td>\n",
       "      <td>1</td>\n",
       "      <td>0</td>\n",
       "      <td>0.0</td>\n",
       "      <td>20</td>\n",
       "      <td>1</td>\n",
       "    </tr>\n",
       "    <tr>\n",
       "      <th>8</th>\n",
       "      <td>A3AEQWXRLJ4D5E</td>\n",
       "      <td>lisa</td>\n",
       "      <td>0</td>\n",
       "      <td>1</td>\n",
       "      <td>My husband has had one for years and my son in...</td>\n",
       "      <td>5</td>\n",
       "      <td>Self igniting torch</td>\n",
       "      <td>1390694400</td>\n",
       "      <td>1</td>\n",
       "      <td>2014</td>\n",
       "      <td>Home and Tools</td>\n",
       "      <td>female</td>\n",
       "      <td>1.00</td>\n",
       "      <td>1</td>\n",
       "      <td>0</td>\n",
       "      <td>0.0</td>\n",
       "      <td>119</td>\n",
       "      <td>3</td>\n",
       "    </tr>\n",
       "    <tr>\n",
       "      <th>9</th>\n",
       "      <td>A2G2S9E76XL3Y9</td>\n",
       "      <td>mary</td>\n",
       "      <td>0</td>\n",
       "      <td>1</td>\n",
       "      <td>The attachment for scanning negative film is v...</td>\n",
       "      <td>1</td>\n",
       "      <td>Unsatisfied</td>\n",
       "      <td>1390521600</td>\n",
       "      <td>1</td>\n",
       "      <td>2014</td>\n",
       "      <td>Home and Tools</td>\n",
       "      <td>female</td>\n",
       "      <td>1.00</td>\n",
       "      <td>1</td>\n",
       "      <td>0</td>\n",
       "      <td>0.0</td>\n",
       "      <td>29</td>\n",
       "      <td>1</td>\n",
       "    </tr>\n",
       "  </tbody>\n",
       "</table>\n",
       "</div>"
      ],
      "text/plain": [
       "            RevId firstname  helpfulVotes  totalVotes  \\\n",
       "0   AIWIEN0F9YDRZ       amy             0           1   \n",
       "1  A3PNHWIMESAO1O       ann             0           1   \n",
       "2   AU2FLCLW8W04P       liz             0           1   \n",
       "3  A1C6HTWGSMORUB      beth             0           6   \n",
       "4   AZ7OW7KDTEHCG      judy             0           1   \n",
       "5  A326T7B8O4EFS3      lara             0           2   \n",
       "6  A2WVI8BDWVX58J      lila             0           1   \n",
       "7  A1TDJJMU3VOHPY      lisa             0           1   \n",
       "8  A3AEQWXRLJ4D5E      lisa             0           1   \n",
       "9  A2G2S9E76XL3Y9      mary             0           1   \n",
       "\n",
       "                                             RevText  rating  \\\n",
       "0  MY son works on the railroad and these gloves ...       5   \n",
       "1  I just decided to go with the Moen DN6718ORB D...       3   \n",
       "2  Fit well into our sparkling grape juice bottle...       5   \n",
       "3  I thought that my teenagers would like these k...       1   \n",
       "4  with this thing , It might be good for getting...       1   \n",
       "5  as a steel ruler it's ok, but it is not what I...       3   \n",
       "6  My husband was very happy with the quality of ...       5   \n",
       "7  not what I thought I was getting.wanted meat g...       3   \n",
       "8  My husband has had one for years and my son in...       5   \n",
       "9  The attachment for scanning negative film is v...       1   \n",
       "\n",
       "                                            RevTitle  Unix.RevTime  month  \\\n",
       "0                        good looking and functional    1389398400      1   \n",
       "1                              this product was fine    1389139200      1   \n",
       "2                                           Fit Well    1389052800      1   \n",
       "3  The Product was good, but customer service not...    1389398400      1   \n",
       "4                                  I ruined my sinks    1389744000      1   \n",
       "5                     I was looking for a slide rule    1389052800      1   \n",
       "6                                   Bosch drill bits    1388707200      1   \n",
       "7                                              so-so    1390435200      1   \n",
       "8                                Self igniting torch    1390694400      1   \n",
       "9                                        Unsatisfied    1390521600      1   \n",
       "\n",
       "   year        Category  gender  genderprobability  female  male  \\\n",
       "0  2014  Home and Tools  female               0.99       1     0   \n",
       "1  2014  Home and Tools  female               0.99       1     0   \n",
       "2  2014  Home and Tools  female               1.00       1     0   \n",
       "3  2014  Home and Tools  female               1.00       1     0   \n",
       "4  2014  Home and Tools  female               1.00       1     0   \n",
       "5  2014  Home and Tools  female               1.00       1     0   \n",
       "6  2014  Home and Tools  female               0.99       1     0   \n",
       "7  2014  Home and Tools  female               1.00       1     0   \n",
       "8  2014  Home and Tools  female               1.00       1     0   \n",
       "9  2014  Home and Tools  female               1.00       1     0   \n",
       "\n",
       "   helpfulnessT  reviewwords  titlewords  \n",
       "0           0.0           30           4  \n",
       "1           0.0           23           4  \n",
       "2           0.0           42           2  \n",
       "3           0.0          193          10  \n",
       "4           0.0           23           4  \n",
       "5           0.0           28           7  \n",
       "6           0.0           27           3  \n",
       "7           0.0           20           1  \n",
       "8           0.0          119           3  \n",
       "9           0.0           29           1  "
      ]
     },
     "execution_count": 9,
     "metadata": {},
     "output_type": "execute_result"
    }
   ],
   "source": [
    "df.head(10)"
   ]
  },
  {
   "cell_type": "code",
   "execution_count": 10,
   "metadata": {},
   "outputs": [
    {
     "data": {
      "text/plain": [
       "Index(['RevId', 'firstname', 'helpfulVotes', 'totalVotes', 'RevText', 'rating',\n",
       "       'RevTitle', 'Unix.RevTime', 'month', 'year', 'Category', 'gender',\n",
       "       'genderprobability', 'female', 'male', 'helpfulnessT', 'reviewwords',\n",
       "       'titlewords'],\n",
       "      dtype='object')"
      ]
     },
     "execution_count": 10,
     "metadata": {},
     "output_type": "execute_result"
    }
   ],
   "source": [
    "df.keys()"
   ]
  },
  {
   "cell_type": "code",
   "execution_count": 11,
   "metadata": {},
   "outputs": [],
   "source": [
    "columns = [\"firstname\", \"RevText\", \"RevTitle\", \"rating\", \"Category\", \"gender\"]"
   ]
  },
  {
   "cell_type": "code",
   "execution_count": 12,
   "metadata": {},
   "outputs": [],
   "source": [
    "df = df[columns]"
   ]
  },
  {
   "cell_type": "code",
   "execution_count": 13,
   "metadata": {},
   "outputs": [],
   "source": [
    "df[\"text_tokens\"] = df[\"RevText\"].apply(preprocess_and_tokenize)\n",
    "df[\"title_tokens\"] = df[\"RevTitle\"].apply(preprocess_and_tokenize)"
   ]
  },
  {
   "cell_type": "code",
   "execution_count": 14,
   "metadata": {},
   "outputs": [
    {
     "data": {
      "text/plain": [
       "0       [son, work, railroad, glove, perfect, job, lik...\n",
       "1       [decid, go, moen, dn6718orb, danburi, 18inch, ...\n",
       "2       [fit, well, sparkl, grape, juic, bottl, use, r...\n",
       "3       [thought, teenag, would, like, kit, uniqu, chr...\n",
       "4       [thing, might, good, get, rust, car, someth, r...\n",
       "                              ...                        \n",
       "3257    [slather, mayb, recommend, onli, week, befor, ...\n",
       "3258    [use, mask, water, appl, cider, vinegar, defin...\n",
       "3259    [made, hair, grow, stop, break, realli, thin, ...\n",
       "3260    [wrinkl, even, seem, wors, revitoli, quit, use...\n",
       "3261    [hair, look, like, cotton, curl, pattern, ever...\n",
       "Name: tokens, Length: 3262, dtype: object"
      ]
     },
     "execution_count": 14,
     "metadata": {},
     "output_type": "execute_result"
    }
   ],
   "source": [
    "df[\"tokens\"] = df[\"text_tokens\"] + df[\"title_tokens\"]\n",
    "df[\"tokens\"]"
   ]
  },
  {
   "cell_type": "markdown",
   "metadata": {},
   "source": [
    "## Statistiche\n",
    "\n",
    "### 1. Lunghezza media delle review per genere e categoria (numero di parole usate nella review, anche duplicati)\n",
    "\n",
    "### 2. Numero medio di parole uniche diverse per maschi e femmine (numero parole uniche / lunghezza review)\n"
   ]
  },
  {
   "cell_type": "code",
   "execution_count": 20,
   "metadata": {},
   "outputs": [],
   "source": [
    "STATS = 1"
   ]
  },
  {
   "cell_type": "code",
   "execution_count": 21,
   "metadata": {},
   "outputs": [],
   "source": [
    "def create_stats():\n",
    "\n",
    "    stats_dict = {\n",
    "        \"male\": {\"Home and Tools\": [], \"Beauty\": []},\n",
    "        \"female\": {\"Home and Tools\": [], \"Beauty\": []}\n",
    "    }\n",
    "\n",
    "    for idx, row in enumerate(df[\"tokens\"]):\n",
    "        review_length = len(row)\n",
    "        gender = df[\"gender\"][idx]\n",
    "        category = df[\"Category\"][idx]\n",
    "\n",
    "        if STATS == 1:\n",
    "            stats_dict[gender][category].append(review_length)\n",
    "\n",
    "        elif STATS == 2:\n",
    "            unique_words_len = np.unique(row).shape[0]\n",
    "            stats_dict[gender][category].append(review_length/unique_words_len)\n",
    "\n",
    "        else:\n",
    "            raise ValueError(\"STATS = 1 or STATS = 2\")\n",
    "            \n",
    "    mean_length = {}\n",
    "\n",
    "    for gender in stats_dict:\n",
    "        mean_length[gender] = {}\n",
    "        for cat in stats_dict[gender]:\n",
    "            mean_length[gender][cat] = np.round(np.mean(stats_dict[gender][cat]),2)\n",
    "\n",
    "    return mean_length"
   ]
  },
  {
   "cell_type": "code",
   "execution_count": 22,
   "metadata": {},
   "outputs": [
    {
     "data": {
      "text/plain": [
       "{'male': {'Home and Tools': 38.4, 'Beauty': 34.37},\n",
       " 'female': {'Home and Tools': 31.31, 'Beauty': 33.05}}"
      ]
     },
     "execution_count": 22,
     "metadata": {},
     "output_type": "execute_result"
    }
   ],
   "source": [
    "stats_dict = create_stats()\n",
    "stats_dict"
   ]
  },
  {
   "cell_type": "code",
   "execution_count": 23,
   "metadata": {},
   "outputs": [],
   "source": [
    "def plot_stats():\n",
    "    \n",
    "    categories = np.unique(df[\"Category\"])\n",
    "\n",
    "    counts = {\n",
    "        \"Male\": [stats_dict[\"male\"][categories[0]], stats_dict[\"male\"][categories[1]]],\n",
    "        \"Female\": [stats_dict[\"female\"][categories[0]], stats_dict[\"female\"][categories[1]]]\n",
    "    }\n",
    "\n",
    "    x = np.arange(len(categories))  # the label locations\n",
    "    width = 0.40  # the width of the bars\n",
    "    multiplier = 0\n",
    "\n",
    "    fig, ax = plt.subplots(layout='constrained')\n",
    "\n",
    "    for attribute, measurement in counts.items():\n",
    "        offset = width * multiplier\n",
    "        rects = ax.bar(x + offset, measurement, width, label=attribute)\n",
    "        ax.bar_label(rects)\n",
    "        multiplier += 1\n",
    "\n",
    "    # Add some text for labels, title and custom x-axis tick labels, etc.\n",
    "    ax.set_ylabel('mean')\n",
    "\n",
    "    if STATS == 1:\n",
    "        ax.set_title('Avg length of reviews by Gender and Category')\n",
    "    elif STATS == 2:\n",
    "        ax.set_title('Avg number of unique words by Gender and Category')\n",
    "\n",
    "    ax.set_xticks(x + width/2, categories)\n",
    "    ax.legend(loc='upper right')\n",
    "    plt.show()"
   ]
  },
  {
   "cell_type": "code",
   "execution_count": 24,
   "metadata": {},
   "outputs": [
    {
     "data": {
      "image/png": "[encoded data removed]",
      "text/plain": [
       "<Figure size 432x288 with 1 Axes>"
      ]
     },
     "metadata": {
      "needs_background": "light"
     },
     "output_type": "display_data"
    }
   ],
   "source": [
    "plot_stats()"
   ]
  },
  {
   "cell_type": "code",
   "execution_count": 19,
   "metadata": {},
   "outputs": [
    {
     "data": {
      "image/png": "[encoded data removed]",
      "text/plain": [
       "<Figure size 432x288 with 1 Axes>"
      ]
     },
     "metadata": {
      "needs_background": "light"
     },
     "output_type": "display_data"
    }
   ],
   "source": [
    "plot_stats()"
   ]
  },
  {
   "cell_type": "markdown",
   "metadata": {},
   "source": [
    "### Words by User"
   ]
  },
  {
   "cell_type": "code",
   "execution_count": null,
   "metadata": {},
   "outputs": [],
   "source": [
    "# tokens grouped by users and gender\n",
    "grouped_df = df[[\"firstname\", \"gender\", \"tokens\"]].groupby([\"firstname\", \"gender\"])"
   ]
  },
  {
   "cell_type": "code",
   "execution_count": null,
   "metadata": {},
   "outputs": [],
   "source": [
    "new_data = {\n",
    "    \"firstname\": [],\n",
    "    \"gender\": [],\n",
    "    \"tokens\": []\n",
    "}\n",
    "\n",
    "word_count_dict = dict()\n",
    "\n",
    "words = set()"
   ]
  },
  {
   "cell_type": "code",
   "execution_count": null,
   "metadata": {},
   "outputs": [],
   "source": [
    "for group in grouped_df:\n",
    "    firstname = group[0][0]\n",
    "    gender = group[0][1]\n",
    "    new_data[\"firstname\"].append(firstname)\n",
    "    new_data[\"gender\"].append(gender)\n",
    "    lists_to_union = group[1][\"tokens\"].reset_index(drop=True)\n",
    "    word_array = [item for sublist in lists_to_union for item in sublist]\n",
    "    word_npy = np.array(word_array)\n",
    "    unique_words, word_counts = np.unique(word_npy, return_counts=True)\n",
    "    word_count_dict[firstname] = dict(zip(unique_words, word_counts))\n",
    "    words.update(unique_words)\n",
    "    # word_count_dict.update(dict(zip(unique_words, word_counts)))\n",
    "    new_data[\"tokens\"].append(word_array)"
   ]
  },
  {
   "cell_type": "code",
   "execution_count": null,
   "metadata": {},
   "outputs": [],
   "source": [
    "word_count_dict"
   ]
  },
  {
   "cell_type": "code",
   "execution_count": null,
   "metadata": {},
   "outputs": [],
   "source": [
    "new_df = pd.DataFrame(new_data)\n",
    "display(new_df)"
   ]
  },
  {
   "cell_type": "code",
   "execution_count": null,
   "metadata": {},
   "outputs": [],
   "source": [
    "new_df.to_csv(root + \"\\\\tokens.csv\", index=False)"
   ]
  },
  {
   "cell_type": "code",
   "execution_count": null,
   "metadata": {},
   "outputs": [],
   "source": [
    "words_list = list(words)\n",
    "words_list = np.sort(words_list)"
   ]
  },
  {
   "cell_type": "code",
   "execution_count": null,
   "metadata": {},
   "outputs": [],
   "source": [
    "np.save(root + \"\\\\words.npy\", words_list)\n",
    "np.save(root + \"\\\\dict.npy\", word_count_dict)"
   ]
  },
  {
   "cell_type": "code",
   "execution_count": null,
   "metadata": {},
   "outputs": [],
   "source": [
    "words_list"
   ]
  },
  {
   "cell_type": "code",
   "execution_count": null,
   "metadata": {},
   "outputs": [],
   "source": [
    "users = new_df[\"firstname\"].tolist()\n",
    "np.save(root + \"\\\\users.npy\", users)\n",
    "\n",
    "gender = new_df[\"gender\"].tolist()\n",
    "gender = np.array(gender)\n",
    "mapping = {\"male\": 0, \"female\": 1}\n",
    "gender = np.vectorize(mapping.get)(gender)\n",
    "print(gender)\n",
    "np.save(root + \"\\\\gender.npy\", gender)"
   ]
  },
  {
   "cell_type": "code",
   "execution_count": null,
   "metadata": {},
   "outputs": [],
   "source": [
    "num_users = len(users)\n",
    "num_words = len(words_list)\n",
    "\n",
    "users_id = np.arange(num_users)\n",
    "males_id = np.where(gender[users_id] == 0)[0]\n",
    "females_id = np.where(gender[users_id] == 1)[0]"
   ]
  },
  {
   "cell_type": "code",
   "execution_count": null,
   "metadata": {},
   "outputs": [],
   "source": [
    "users = np.array(users)"
   ]
  },
  {
   "cell_type": "code",
   "execution_count": null,
   "metadata": {},
   "outputs": [],
   "source": [
    "males = users[males_id]\n",
    "females = users[females_id]"
   ]
  },
  {
   "cell_type": "code",
   "execution_count": null,
   "metadata": {},
   "outputs": [],
   "source": [
    "print(f\"Number of users: {num_users}\")\n",
    "print(f\"- Males: {len(males)}\")\n",
    "print(f\"- Females: {len(females)}\")\n",
    "print(f\"- Total: {len(gender)}\")\n",
    "print()\n",
    "print(f\"Number of words: {num_words}\")"
   ]
  },
  {
   "cell_type": "code",
   "execution_count": null,
   "metadata": {},
   "outputs": [],
   "source": [
    "matrix = np.zeros((num_users, num_words), dtype=int)\n",
    "\n",
    "for user in word_count_dict:\n",
    "    user_id = np.where(users == user)[0][0]\n",
    "    user_dict = word_count_dict[user]\n",
    "    user_words = list(user_dict.keys())\n",
    "    user_values = list(user_dict.values())\n",
    "    word_ids = list(np.where(np.isin(words_list, user_words))[0])\n",
    "    if list(words_list[word_ids]) == user_words:\n",
    "        matrix[user_id, word_ids] = user_values\n",
    "    else:\n",
    "        raise ValueError(\"Matching error index-value\")"
   ]
  },
  {
   "cell_type": "code",
   "execution_count": null,
   "metadata": {},
   "outputs": [],
   "source": [
    "non_zero_indices = np.nonzero(matrix)\n",
    "non_zero_values = matrix[non_zero_indices]\n",
    "print(\"Non-zero values:\")\n",
    "print(non_zero_values)\n",
    "print(\"Indices:\")\n",
    "print(non_zero_indices)"
   ]
  },
  {
   "cell_type": "code",
   "execution_count": null,
   "metadata": {},
   "outputs": [],
   "source": [
    "np.save(root + \"\\\\amazon.npy\", matrix)"
   ]
  },
  {
   "cell_type": "markdown",
   "metadata": {},
   "source": [
    "#### Stats about words used by Males and Females"
   ]
  },
  {
   "cell_type": "code",
   "execution_count": null,
   "metadata": {},
   "outputs": [],
   "source": [
    "male_words = {}\n",
    "female_words = {}\n",
    "\n",
    "for male in males:\n",
    "    for word, freq in word_count_dict[male].items():\n",
    "        male_words[word] = male_words.get(word, 0) + freq\n",
    "\n",
    "for female in females:\n",
    "    for word, freq in word_count_dict[female].items():\n",
    "        female_words[word] = female_words.get(word, 0) + freq"
   ]
  },
  {
   "cell_type": "code",
   "execution_count": null,
   "metadata": {},
   "outputs": [],
   "source": [
    "common_words = set(male_words.keys()).intersection(set(female_words.keys()))\n",
    "common_words = list(common_words)"
   ]
  },
  {
   "cell_type": "code",
   "execution_count": null,
   "metadata": {},
   "outputs": [],
   "source": [
    "male_words_no_common = []\n",
    "female_words_no_common = []\n",
    "\n",
    "for key, value in male_words.items():\n",
    "    if key not in common_words:\n",
    "        male_words_no_common.append(key)\n",
    "\n",
    "for key, value in female_words.items():\n",
    "    if key not in common_words:\n",
    "        # female_words_no_common[key] = value\n",
    "        female_words_no_common.append(key)"
   ]
  },
  {
   "cell_type": "code",
   "execution_count": null,
   "metadata": {},
   "outputs": [],
   "source": [
    "print(f\"Num words used by men: {len(male_words_no_common)}\")\n",
    "print(f\"Num words used by women: {len(female_words_no_common)}\")\n",
    "print(f\"Num common words: {len(common_words)}\")\n"
   ]
  },
  {
   "cell_type": "code",
   "execution_count": null,
   "metadata": {},
   "outputs": [],
   "source": [
    "# 0: words used by men\n",
    "# 1: words used by women\n",
    "# 2: words used by both men and women\n",
    "preferred_words = np.zeros_like(words_list, dtype=int)\n",
    "preferred_words.shape"
   ]
  },
  {
   "cell_type": "code",
   "execution_count": null,
   "metadata": {},
   "outputs": [],
   "source": [
    "preferred_words"
   ]
  },
  {
   "cell_type": "code",
   "execution_count": null,
   "metadata": {},
   "outputs": [],
   "source": [
    "word_ids_F = np.where(np.isin(words_list, female_words_no_common))[0]\n",
    "word_ids_M = np.where(np.isin(words_list, male_words_no_common))[0]\n",
    "word_ids_others = np.where(np.isin(words_list, common_words))[0]"
   ]
  },
  {
   "cell_type": "code",
   "execution_count": null,
   "metadata": {},
   "outputs": [],
   "source": [
    "preferred_words[word_ids_F] = 1\n",
    "preferred_words[word_ids_others] = 2"
   ]
  },
  {
   "cell_type": "code",
   "execution_count": null,
   "metadata": {},
   "outputs": [],
   "source": [
    "np.save(root + \"\\\\preferred_words_by_gender.npy\", preferred_words)"
   ]
  },
  {
   "cell_type": "markdown",
   "metadata": {},
   "source": [
    "#### Top words and WordCloud"
   ]
  },
  {
   "cell_type": "code",
   "execution_count": null,
   "metadata": {},
   "outputs": [],
   "source": [
    "\"\"\"\n",
    "male_top_words = {word: freq for word, freq in sorted(male_words.items(), key=lambda item: item[1], reverse=True)[:150]}\n",
    "male_wordcloud = WordCloud(width=800, height=400, background_color=\"white\").generate_from_frequencies(male_top_words)\n",
    "# Plot the word cloud\n",
    "plt.figure(figsize=(8, 4))\n",
    "plt.imshow(male_wordcloud, interpolation=\"bilinear\")\n",
    "plt.axis(\"off\")\n",
    "plt.title(\"The most frequent words used by Males\")\n",
    "plt.show()\n",
    "\"\"\"\n"
   ]
  },
  {
   "cell_type": "code",
   "execution_count": null,
   "metadata": {},
   "outputs": [],
   "source": [
    "\"\"\"\n",
    "female_top_words = {word: freq for word, freq in sorted(female_words.items(), key=lambda item: item[1], reverse=True)[:150]}\n",
    "female_wordcloud = WordCloud(width=800, height=400, background_color=\"white\").generate_from_frequencies(female_top_words)\n",
    "# Plot the word cloud\n",
    "plt.figure(figsize=(8, 4))\n",
    "plt.imshow(female_wordcloud, interpolation=\"bilinear\")\n",
    "plt.axis(\"off\")\n",
    "plt.title(\"The most frequent words used by Females\")\n",
    "plt.show()\n",
    "\"\"\""
   ]
  },
  {
   "cell_type": "code",
   "execution_count": null,
   "metadata": {},
   "outputs": [],
   "source": [
    "\"\"\"\n",
    "common_top_words = set(male_top_words.keys()).intersection(set(female_top_words.keys()))\n",
    "len(common_top_words)\n",
    "\"\"\""
   ]
  },
  {
   "cell_type": "code",
   "execution_count": null,
   "metadata": {},
   "outputs": [],
   "source": [
    "\"\"\"\n",
    "male_top_words_no_common = {}\n",
    "female_top_words_no_common = {}\n",
    "\n",
    "for key, value in male_top_words.items():\n",
    "    if key not in common_top_words:\n",
    "        male_top_words_no_common[key] = value\n",
    "\n",
    "for key, value in female_top_words.items():\n",
    "    if key not in common_top_words:\n",
    "        female_top_words_no_common[key] = value\n",
    "\"\"\"\n"
   ]
  },
  {
   "cell_type": "code",
   "execution_count": null,
   "metadata": {},
   "outputs": [],
   "source": [
    "\"\"\"\n",
    "male_wordcloud = WordCloud(width=800, height=400, background_color=\"white\").generate_from_frequencies(male_top_words_no_common)\n",
    "# Plot the word cloud\n",
    "plt.figure(figsize=(8, 4))\n",
    "plt.imshow(male_wordcloud, interpolation=\"bilinear\")\n",
    "plt.axis(\"off\")\n",
    "plt.title(\"The most frequent words used by Males\")\n",
    "plt.show()\n",
    "\"\"\""
   ]
  },
  {
   "cell_type": "code",
   "execution_count": null,
   "metadata": {},
   "outputs": [],
   "source": [
    "\"\"\"\n",
    "female_wordcloud = WordCloud(width=800, height=400, background_color=\"white\").generate_from_frequencies(female_top_words_no_common)\n",
    "# Plot the word cloud\n",
    "plt.figure(figsize=(8, 4))\n",
    "plt.imshow(female_wordcloud, interpolation=\"bilinear\")\n",
    "plt.axis(\"off\")\n",
    "plt.title(\"The most frequent words used by Females\")\n",
    "plt.show()\n",
    "\"\"\""
   ]
  },
  {
   "cell_type": "markdown",
   "metadata": {},
   "source": [
    "### Words by Product Category"
   ]
  },
  {
   "cell_type": "code",
   "execution_count": null,
   "metadata": {},
   "outputs": [],
   "source": [
    "categories = np.unique(df[\"Category\"])\n",
    "\n",
    "words_by_category = {}\n",
    "\n",
    "for cat in categories:\n",
    "    words_by_category[cat] = set()"
   ]
  },
  {
   "cell_type": "code",
   "execution_count": null,
   "metadata": {},
   "outputs": [],
   "source": [
    "# tokens grouped by category\n",
    "grouped_by_category = df[[\"Category\", \"tokens\"]].groupby([\"Category\"])\n",
    "for item in grouped_by_category:\n",
    "    category = item[0][0]\n",
    "    lists_to_union = item[1][\"tokens\"].reset_index(drop=True)\n",
    "    word_array = [item for sublist in lists_to_union for item in sublist]\n",
    "    words = set(word_array)\n",
    "    words_by_category[category] = words_by_category[category].union(set(words))"
   ]
  },
  {
   "cell_type": "code",
   "execution_count": null,
   "metadata": {},
   "outputs": [],
   "source": [
    "beauty_words = words_by_category[\"Beauty\"]\n",
    "home_words = words_by_category[\"Home and Tools\"]\n",
    "words_by_cat_common = beauty_words.intersection(home_words)\n",
    "len(words_by_cat_common)"
   ]
  },
  {
   "cell_type": "code",
   "execution_count": null,
   "metadata": {},
   "outputs": [],
   "source": [
    "beauty_words_no_common = []\n",
    "home_words_no_common = []\n",
    "\n",
    "for word in beauty_words:\n",
    "    if word not in words_by_cat_common:\n",
    "        beauty_words_no_common.append(word)\n",
    "\n",
    "for word in home_words:\n",
    "    if word not in words_by_cat_common:\n",
    "        home_words_no_common.append(word)\n"
   ]
  },
  {
   "cell_type": "code",
   "execution_count": null,
   "metadata": {},
   "outputs": [],
   "source": [
    "print(f\"Num beauty words: {len(beauty_words_no_common)}\")\n",
    "print(f\"Num home words: {len(home_words_no_common)}\")\n",
    "print(f\"Num common words: {len(words_by_cat_common)}\")"
   ]
  },
  {
   "cell_type": "code",
   "execution_count": null,
   "metadata": {},
   "outputs": [],
   "source": [
    "len(beauty_words_no_common) + len(home_words_no_common) + len(words_by_cat_common)"
   ]
  },
  {
   "cell_type": "code",
   "execution_count": null,
   "metadata": {},
   "outputs": [],
   "source": [
    "preferred_words_by_cat = np.zeros_like(words_list, dtype=int)\n",
    "preferred_words_by_cat.shape"
   ]
  },
  {
   "cell_type": "code",
   "execution_count": null,
   "metadata": {},
   "outputs": [],
   "source": [
    "beauty_word_ids = np.where(np.isin(words_list, beauty_words_no_common))[0]\n",
    "home_word_ids = np.where(np.isin(words_list, home_words_no_common))[0]\n",
    "neutral_word_ids = np.where(np.isin(words_list, list(words_by_cat_common)))[0]"
   ]
  },
  {
   "cell_type": "code",
   "execution_count": null,
   "metadata": {},
   "outputs": [],
   "source": [
    "# 0: beauty\n",
    "# 1: home\n",
    "# 2: words in common\n",
    "preferred_words_by_cat[home_word_ids] = 1\n",
    "preferred_words_by_cat[neutral_word_ids] = 2"
   ]
  },
  {
   "cell_type": "code",
   "execution_count": null,
   "metadata": {},
   "outputs": [],
   "source": [
    "np.save(root + \"\\\\preferred_words_by_category.npy\", preferred_words_by_cat)"
   ]
  },
  {
   "cell_type": "code",
   "execution_count": null,
   "metadata": {},
   "outputs": [],
   "source": []
  }
 ],
 "metadata": {
  "kernelspec": {
   "display_name": "coclus",
   "language": "python",
   "name": "coclus"
  },
  "language_info": {
   "codemirror_mode": {
    "name": "ipython",
    "version": 3
   },
   "file_extension": ".py",
   "mimetype": "text/x-python",
   "name": "python",
   "nbconvert_exporter": "python",
   "pygments_lexer": "ipython3",
   "version": "3.8.10"
  }
 },
 "nbformat": 4,
 "nbformat_minor": 2
}
