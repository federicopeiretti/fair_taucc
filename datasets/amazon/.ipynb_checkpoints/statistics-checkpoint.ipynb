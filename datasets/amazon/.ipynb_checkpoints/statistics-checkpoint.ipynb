{
 "cells": [
  {
   "cell_type": "code",
   "execution_count": 1,
   "id": "a790da93",
   "metadata": {},
   "outputs": [],
   "source": [
    "import numpy as np\n",
    "import os\n",
    "import pandas as pd\n",
    "import matplotlib.pyplot as plt\n",
    "from collections import Counter"
   ]
  },
  {
   "cell_type": "code",
   "execution_count": 2,
   "id": "683e2173",
   "metadata": {},
   "outputs": [
    {
     "data": {
      "text/plain": [
       "'./fair_taucc/datasets/amazon'"
      ]
     },
     "execution_count": 2,
     "metadata": {},
     "output_type": "execute_result"
    }
   ],
   "source": [
    "root = os.getcwd()\n",
    "root"
   ]
  },
  {
   "cell_type": "code",
   "execution_count": 42,
   "id": "ffaa4814",
   "metadata": {},
   "outputs": [
    {
     "data": {
      "text/html": [
       "<div>\n",
       "<style scoped>\n",
       "    .dataframe tbody tr th:only-of-type {\n",
       "        vertical-align: middle;\n",
       "    }\n",
       "\n",
       "    .dataframe tbody tr th {\n",
       "        vertical-align: top;\n",
       "    }\n",
       "\n",
       "    .dataframe thead th {\n",
       "        text-align: right;\n",
       "    }\n",
       "</style>\n",
       "<table border=\"1\" class=\"dataframe\">\n",
       "  <thead>\n",
       "    <tr style=\"text-align: right;\">\n",
       "      <th></th>\n",
       "      <th>RevId</th>\n",
       "      <th>firstname</th>\n",
       "      <th>helpfulVotes</th>\n",
       "      <th>totalVotes</th>\n",
       "      <th>RevText</th>\n",
       "      <th>rating</th>\n",
       "      <th>RevTitle</th>\n",
       "      <th>Unix.RevTime</th>\n",
       "      <th>month</th>\n",
       "      <th>year</th>\n",
       "      <th>Category</th>\n",
       "      <th>gender</th>\n",
       "      <th>genderprobability</th>\n",
       "      <th>female</th>\n",
       "      <th>male</th>\n",
       "      <th>helpfulnessT</th>\n",
       "      <th>reviewwords</th>\n",
       "      <th>titlewords</th>\n",
       "    </tr>\n",
       "  </thead>\n",
       "  <tbody>\n",
       "    <tr>\n",
       "      <th>0</th>\n",
       "      <td>AIWIEN0F9YDRZ</td>\n",
       "      <td>amy</td>\n",
       "      <td>0</td>\n",
       "      <td>1</td>\n",
       "      <td>MY son works on the railroad and these gloves ...</td>\n",
       "      <td>5</td>\n",
       "      <td>good looking and functional</td>\n",
       "      <td>1389398400</td>\n",
       "      <td>1</td>\n",
       "      <td>2014</td>\n",
       "      <td>Home and Tools</td>\n",
       "      <td>female</td>\n",
       "      <td>0.99</td>\n",
       "      <td>1</td>\n",
       "      <td>0</td>\n",
       "      <td>0.000000</td>\n",
       "      <td>30</td>\n",
       "      <td>4</td>\n",
       "    </tr>\n",
       "    <tr>\n",
       "      <th>1</th>\n",
       "      <td>A3PNHWIMESAO1O</td>\n",
       "      <td>ann</td>\n",
       "      <td>0</td>\n",
       "      <td>1</td>\n",
       "      <td>I just decided to go with the Moen DN6718ORB D...</td>\n",
       "      <td>3</td>\n",
       "      <td>this product was fine</td>\n",
       "      <td>1389139200</td>\n",
       "      <td>1</td>\n",
       "      <td>2014</td>\n",
       "      <td>Home and Tools</td>\n",
       "      <td>female</td>\n",
       "      <td>0.99</td>\n",
       "      <td>1</td>\n",
       "      <td>0</td>\n",
       "      <td>0.000000</td>\n",
       "      <td>23</td>\n",
       "      <td>4</td>\n",
       "    </tr>\n",
       "    <tr>\n",
       "      <th>2</th>\n",
       "      <td>AU2FLCLW8W04P</td>\n",
       "      <td>liz</td>\n",
       "      <td>0</td>\n",
       "      <td>1</td>\n",
       "      <td>Fit well into our sparkling grape juice bottle...</td>\n",
       "      <td>5</td>\n",
       "      <td>Fit Well</td>\n",
       "      <td>1389052800</td>\n",
       "      <td>1</td>\n",
       "      <td>2014</td>\n",
       "      <td>Home and Tools</td>\n",
       "      <td>female</td>\n",
       "      <td>1.00</td>\n",
       "      <td>1</td>\n",
       "      <td>0</td>\n",
       "      <td>0.000000</td>\n",
       "      <td>42</td>\n",
       "      <td>2</td>\n",
       "    </tr>\n",
       "    <tr>\n",
       "      <th>3</th>\n",
       "      <td>A1C6HTWGSMORUB</td>\n",
       "      <td>beth</td>\n",
       "      <td>0</td>\n",
       "      <td>6</td>\n",
       "      <td>I thought that my teenagers would like these k...</td>\n",
       "      <td>1</td>\n",
       "      <td>The Product was good, but customer service not...</td>\n",
       "      <td>1389398400</td>\n",
       "      <td>1</td>\n",
       "      <td>2014</td>\n",
       "      <td>Home and Tools</td>\n",
       "      <td>female</td>\n",
       "      <td>1.00</td>\n",
       "      <td>1</td>\n",
       "      <td>0</td>\n",
       "      <td>0.000000</td>\n",
       "      <td>193</td>\n",
       "      <td>10</td>\n",
       "    </tr>\n",
       "    <tr>\n",
       "      <th>4</th>\n",
       "      <td>AZ7OW7KDTEHCG</td>\n",
       "      <td>judy</td>\n",
       "      <td>0</td>\n",
       "      <td>1</td>\n",
       "      <td>with this thing , It might be good for getting...</td>\n",
       "      <td>1</td>\n",
       "      <td>I ruined my sinks</td>\n",
       "      <td>1389744000</td>\n",
       "      <td>1</td>\n",
       "      <td>2014</td>\n",
       "      <td>Home and Tools</td>\n",
       "      <td>female</td>\n",
       "      <td>1.00</td>\n",
       "      <td>1</td>\n",
       "      <td>0</td>\n",
       "      <td>0.000000</td>\n",
       "      <td>23</td>\n",
       "      <td>4</td>\n",
       "    </tr>\n",
       "    <tr>\n",
       "      <th>...</th>\n",
       "      <td>...</td>\n",
       "      <td>...</td>\n",
       "      <td>...</td>\n",
       "      <td>...</td>\n",
       "      <td>...</td>\n",
       "      <td>...</td>\n",
       "      <td>...</td>\n",
       "      <td>...</td>\n",
       "      <td>...</td>\n",
       "      <td>...</td>\n",
       "      <td>...</td>\n",
       "      <td>...</td>\n",
       "      <td>...</td>\n",
       "      <td>...</td>\n",
       "      <td>...</td>\n",
       "      <td>...</td>\n",
       "      <td>...</td>\n",
       "      <td>...</td>\n",
       "    </tr>\n",
       "    <tr>\n",
       "      <th>3257</th>\n",
       "      <td>A14KE7T0SLIY7D</td>\n",
       "      <td>rachel</td>\n",
       "      <td>6</td>\n",
       "      <td>7</td>\n",
       "      <td>I slathered this on (maybe more than recommend...</td>\n",
       "      <td>5</td>\n",
       "      <td>whoa</td>\n",
       "      <td>1391385600</td>\n",
       "      <td>2</td>\n",
       "      <td>2014</td>\n",
       "      <td>Beauty</td>\n",
       "      <td>female</td>\n",
       "      <td>1.00</td>\n",
       "      <td>1</td>\n",
       "      <td>0</td>\n",
       "      <td>0.857143</td>\n",
       "      <td>107</td>\n",
       "      <td>1</td>\n",
       "    </tr>\n",
       "    <tr>\n",
       "      <th>3258</th>\n",
       "      <td>A2DKT52VOXP3GT</td>\n",
       "      <td>nicole</td>\n",
       "      <td>16</td>\n",
       "      <td>18</td>\n",
       "      <td>Using this mask with just water or apple cider...</td>\n",
       "      <td>4</td>\n",
       "      <td>Good as-is, GREAT with additions.</td>\n",
       "      <td>1390780800</td>\n",
       "      <td>1</td>\n",
       "      <td>2014</td>\n",
       "      <td>Beauty</td>\n",
       "      <td>female</td>\n",
       "      <td>1.00</td>\n",
       "      <td>1</td>\n",
       "      <td>0</td>\n",
       "      <td>0.888889</td>\n",
       "      <td>560</td>\n",
       "      <td>5</td>\n",
       "    </tr>\n",
       "    <tr>\n",
       "      <th>3259</th>\n",
       "      <td>AOPNY16ME3MLW</td>\n",
       "      <td>danielle</td>\n",
       "      <td>9</td>\n",
       "      <td>10</td>\n",
       "      <td>This made my hair grow and stop breaking. i ha...</td>\n",
       "      <td>5</td>\n",
       "      <td>thickens hair and stops breakage</td>\n",
       "      <td>1389225600</td>\n",
       "      <td>1</td>\n",
       "      <td>2014</td>\n",
       "      <td>Beauty</td>\n",
       "      <td>female</td>\n",
       "      <td>1.00</td>\n",
       "      <td>1</td>\n",
       "      <td>0</td>\n",
       "      <td>0.900000</td>\n",
       "      <td>40</td>\n",
       "      <td>5</td>\n",
       "    </tr>\n",
       "    <tr>\n",
       "      <th>3260</th>\n",
       "      <td>A2LZN4FEW82YPM</td>\n",
       "      <td>elizabeth</td>\n",
       "      <td>10</td>\n",
       "      <td>11</td>\n",
       "      <td>Wrinkles even seemed worse with the Revitol-I ...</td>\n",
       "      <td>1</td>\n",
       "      <td>Did not help and caused more wrinkles and made...</td>\n",
       "      <td>1393113600</td>\n",
       "      <td>2</td>\n",
       "      <td>2014</td>\n",
       "      <td>Beauty</td>\n",
       "      <td>female</td>\n",
       "      <td>1.00</td>\n",
       "      <td>1</td>\n",
       "      <td>0</td>\n",
       "      <td>0.909091</td>\n",
       "      <td>37</td>\n",
       "      <td>12</td>\n",
       "    </tr>\n",
       "    <tr>\n",
       "      <th>3261</th>\n",
       "      <td>A1QDZ1GOLWL2K0</td>\n",
       "      <td>lillian</td>\n",
       "      <td>12</td>\n",
       "      <td>13</td>\n",
       "      <td>If you have hair that looks like cotton with n...</td>\n",
       "      <td>5</td>\n",
       "      <td>How to Make this Work for 4B and 4C Hair!!!</td>\n",
       "      <td>1392422400</td>\n",
       "      <td>2</td>\n",
       "      <td>2014</td>\n",
       "      <td>Beauty</td>\n",
       "      <td>female</td>\n",
       "      <td>0.99</td>\n",
       "      <td>1</td>\n",
       "      <td>0</td>\n",
       "      <td>0.923077</td>\n",
       "      <td>317</td>\n",
       "      <td>10</td>\n",
       "    </tr>\n",
       "  </tbody>\n",
       "</table>\n",
       "<p>3262 rows × 18 columns</p>\n",
       "</div>"
      ],
      "text/plain": [
       "               RevId  firstname  helpfulVotes  totalVotes  \\\n",
       "0      AIWIEN0F9YDRZ        amy             0           1   \n",
       "1     A3PNHWIMESAO1O        ann             0           1   \n",
       "2      AU2FLCLW8W04P        liz             0           1   \n",
       "3     A1C6HTWGSMORUB       beth             0           6   \n",
       "4      AZ7OW7KDTEHCG       judy             0           1   \n",
       "...              ...        ...           ...         ...   \n",
       "3257  A14KE7T0SLIY7D     rachel             6           7   \n",
       "3258  A2DKT52VOXP3GT     nicole            16          18   \n",
       "3259   AOPNY16ME3MLW   danielle             9          10   \n",
       "3260  A2LZN4FEW82YPM  elizabeth            10          11   \n",
       "3261  A1QDZ1GOLWL2K0    lillian            12          13   \n",
       "\n",
       "                                                RevText  rating  \\\n",
       "0     MY son works on the railroad and these gloves ...       5   \n",
       "1     I just decided to go with the Moen DN6718ORB D...       3   \n",
       "2     Fit well into our sparkling grape juice bottle...       5   \n",
       "3     I thought that my teenagers would like these k...       1   \n",
       "4     with this thing , It might be good for getting...       1   \n",
       "...                                                 ...     ...   \n",
       "3257  I slathered this on (maybe more than recommend...       5   \n",
       "3258  Using this mask with just water or apple cider...       4   \n",
       "3259  This made my hair grow and stop breaking. i ha...       5   \n",
       "3260  Wrinkles even seemed worse with the Revitol-I ...       1   \n",
       "3261  If you have hair that looks like cotton with n...       5   \n",
       "\n",
       "                                               RevTitle  Unix.RevTime  month  \\\n",
       "0                           good looking and functional    1389398400      1   \n",
       "1                                 this product was fine    1389139200      1   \n",
       "2                                              Fit Well    1389052800      1   \n",
       "3     The Product was good, but customer service not...    1389398400      1   \n",
       "4                                     I ruined my sinks    1389744000      1   \n",
       "...                                                 ...           ...    ...   \n",
       "3257                                               whoa    1391385600      2   \n",
       "3258                  Good as-is, GREAT with additions.    1390780800      1   \n",
       "3259                   thickens hair and stops breakage    1389225600      1   \n",
       "3260  Did not help and caused more wrinkles and made...    1393113600      2   \n",
       "3261        How to Make this Work for 4B and 4C Hair!!!    1392422400      2   \n",
       "\n",
       "      year        Category  gender  genderprobability  female  male  \\\n",
       "0     2014  Home and Tools  female               0.99       1     0   \n",
       "1     2014  Home and Tools  female               0.99       1     0   \n",
       "2     2014  Home and Tools  female               1.00       1     0   \n",
       "3     2014  Home and Tools  female               1.00       1     0   \n",
       "4     2014  Home and Tools  female               1.00       1     0   \n",
       "...    ...             ...     ...                ...     ...   ...   \n",
       "3257  2014          Beauty  female               1.00       1     0   \n",
       "3258  2014          Beauty  female               1.00       1     0   \n",
       "3259  2014          Beauty  female               1.00       1     0   \n",
       "3260  2014          Beauty  female               1.00       1     0   \n",
       "3261  2014          Beauty  female               0.99       1     0   \n",
       "\n",
       "      helpfulnessT  reviewwords  titlewords  \n",
       "0         0.000000           30           4  \n",
       "1         0.000000           23           4  \n",
       "2         0.000000           42           2  \n",
       "3         0.000000          193          10  \n",
       "4         0.000000           23           4  \n",
       "...            ...          ...         ...  \n",
       "3257      0.857143          107           1  \n",
       "3258      0.888889          560           5  \n",
       "3259      0.900000           40           5  \n",
       "3260      0.909091           37          12  \n",
       "3261      0.923077          317          10  \n",
       "\n",
       "[3262 rows x 18 columns]"
      ]
     },
     "execution_count": 42,
     "metadata": {},
     "output_type": "execute_result"
    }
   ],
   "source": [
    "df = pd.read_csv(root + \"/AmazonData.csv\")\n",
    "df"
   ]
  },
  {
   "cell_type": "code",
   "execution_count": 4,
   "id": "b0e2db8f",
   "metadata": {},
   "outputs": [
    {
     "data": {
      "text/plain": [
       "1280"
      ]
     },
     "execution_count": 4,
     "metadata": {},
     "output_type": "execute_result"
    }
   ],
   "source": [
    "len(df[(df[\"gender\"]==\"female\") & (df[\"Category\"]==\"Beauty\")])"
   ]
  },
  {
   "cell_type": "code",
   "execution_count": 5,
   "id": "ca944769",
   "metadata": {},
   "outputs": [
    {
     "data": {
      "text/plain": [
       "359"
      ]
     },
     "execution_count": 5,
     "metadata": {},
     "output_type": "execute_result"
    }
   ],
   "source": [
    "len(df[(df[\"gender\"]==\"female\") & (df[\"Category\"]==\"Home and Tools\")])"
   ]
  },
  {
   "cell_type": "code",
   "execution_count": 6,
   "id": "15ccf8c4",
   "metadata": {},
   "outputs": [
    {
     "data": {
      "text/plain": [
       "1144"
      ]
     },
     "execution_count": 6,
     "metadata": {},
     "output_type": "execute_result"
    }
   ],
   "source": [
    "len(df[(df[\"gender\"]==\"male\") & (df[\"Category\"]==\"Home and Tools\")])"
   ]
  },
  {
   "cell_type": "code",
   "execution_count": 7,
   "id": "978c379f",
   "metadata": {},
   "outputs": [
    {
     "data": {
      "text/plain": [
       "479"
      ]
     },
     "execution_count": 7,
     "metadata": {},
     "output_type": "execute_result"
    }
   ],
   "source": [
    "len(df[(df[\"gender\"]==\"male\") & (df[\"Category\"]==\"Beauty\")])"
   ]
  },
  {
   "cell_type": "code",
   "execution_count": null,
   "id": "073af062",
   "metadata": {},
   "outputs": [],
   "source": []
  },
  {
   "cell_type": "code",
   "execution_count": 8,
   "id": "bdf8b75b",
   "metadata": {},
   "outputs": [
    {
     "data": {
      "text/html": [
       "<div>\n",
       "<style scoped>\n",
       "    .dataframe tbody tr th:only-of-type {\n",
       "        vertical-align: middle;\n",
       "    }\n",
       "\n",
       "    .dataframe tbody tr th {\n",
       "        vertical-align: top;\n",
       "    }\n",
       "\n",
       "    .dataframe thead th {\n",
       "        text-align: right;\n",
       "    }\n",
       "</style>\n",
       "<table border=\"1\" class=\"dataframe\">\n",
       "  <thead>\n",
       "    <tr style=\"text-align: right;\">\n",
       "      <th></th>\n",
       "      <th>firstname</th>\n",
       "      <th>gender</th>\n",
       "      <th>tokens</th>\n",
       "    </tr>\n",
       "  </thead>\n",
       "  <tbody>\n",
       "    <tr>\n",
       "      <th>0</th>\n",
       "      <td>aaron</td>\n",
       "      <td>male</td>\n",
       "      <td>['local', 'lumber', 'yard', 'hardwar', 'dont',...</td>\n",
       "    </tr>\n",
       "    <tr>\n",
       "      <th>1</th>\n",
       "      <td>abigail</td>\n",
       "      <td>female</td>\n",
       "      <td>['realli', 'dont', 'rememb', 'need', 'product'...</td>\n",
       "    </tr>\n",
       "    <tr>\n",
       "      <th>2</th>\n",
       "      <td>adam</td>\n",
       "      <td>male</td>\n",
       "      <td>['littl', 'heater', 'plenti', 'strong', 'enoug...</td>\n",
       "    </tr>\n",
       "    <tr>\n",
       "      <th>3</th>\n",
       "      <td>adriana</td>\n",
       "      <td>female</td>\n",
       "      <td>['expect', 'bought', 'sefora', 'befor', 'dont'...</td>\n",
       "    </tr>\n",
       "    <tr>\n",
       "      <th>4</th>\n",
       "      <td>adriano</td>\n",
       "      <td>male</td>\n",
       "      <td>['realli', 'love', 'one', 'realli', 'pretti', ...</td>\n",
       "    </tr>\n",
       "    <tr>\n",
       "      <th>...</th>\n",
       "      <td>...</td>\n",
       "      <td>...</td>\n",
       "      <td>...</td>\n",
       "    </tr>\n",
       "    <tr>\n",
       "      <th>700</th>\n",
       "      <td>yesenia</td>\n",
       "      <td>female</td>\n",
       "      <td>['decid', 'buy', 'becaus', 'ouidad', 'made', '...</td>\n",
       "    </tr>\n",
       "    <tr>\n",
       "      <th>701</th>\n",
       "      <td>yolanda</td>\n",
       "      <td>female</td>\n",
       "      <td>['use', 'product', 'control', 'frizz', 'live',...</td>\n",
       "    </tr>\n",
       "    <tr>\n",
       "      <th>702</th>\n",
       "      <td>yvonne</td>\n",
       "      <td>female</td>\n",
       "      <td>['love', 'cologn', 'expens', 'everywher', 'els...</td>\n",
       "    </tr>\n",
       "    <tr>\n",
       "      <th>703</th>\n",
       "      <td>zach</td>\n",
       "      <td>male</td>\n",
       "      <td>['good', 'set', 'small', 'fault', 'know', 'siz...</td>\n",
       "    </tr>\n",
       "    <tr>\n",
       "      <th>704</th>\n",
       "      <td>zachary</td>\n",
       "      <td>male</td>\n",
       "      <td>['realli', 'like', 'moistur', 'face', 'smell',...</td>\n",
       "    </tr>\n",
       "  </tbody>\n",
       "</table>\n",
       "<p>705 rows × 3 columns</p>\n",
       "</div>"
      ],
      "text/plain": [
       "    firstname  gender                                             tokens\n",
       "0       aaron    male  ['local', 'lumber', 'yard', 'hardwar', 'dont',...\n",
       "1     abigail  female  ['realli', 'dont', 'rememb', 'need', 'product'...\n",
       "2        adam    male  ['littl', 'heater', 'plenti', 'strong', 'enoug...\n",
       "3     adriana  female  ['expect', 'bought', 'sefora', 'befor', 'dont'...\n",
       "4     adriano    male  ['realli', 'love', 'one', 'realli', 'pretti', ...\n",
       "..        ...     ...                                                ...\n",
       "700   yesenia  female  ['decid', 'buy', 'becaus', 'ouidad', 'made', '...\n",
       "701   yolanda  female  ['use', 'product', 'control', 'frizz', 'live',...\n",
       "702    yvonne  female  ['love', 'cologn', 'expens', 'everywher', 'els...\n",
       "703      zach    male  ['good', 'set', 'small', 'fault', 'know', 'siz...\n",
       "704   zachary    male  ['realli', 'like', 'moistur', 'face', 'smell',...\n",
       "\n",
       "[705 rows x 3 columns]"
      ]
     },
     "execution_count": 8,
     "metadata": {},
     "output_type": "execute_result"
    }
   ],
   "source": [
    "df = pd.read_csv(root + \"/tokens.csv\")\n",
    "df"
   ]
  },
  {
   "cell_type": "code",
   "execution_count": null,
   "id": "4d5d7c72",
   "metadata": {},
   "outputs": [],
   "source": []
  },
  {
   "cell_type": "code",
   "execution_count": null,
   "id": "6abe811a",
   "metadata": {},
   "outputs": [],
   "source": []
  },
  {
   "cell_type": "code",
   "execution_count": null,
   "id": "446069fc",
   "metadata": {},
   "outputs": [],
   "source": []
  },
  {
   "cell_type": "code",
   "execution_count": 9,
   "id": "98ea7337",
   "metadata": {},
   "outputs": [],
   "source": [
    "V = np.load(root + \"/matrix.npy\")\n",
    "Sx = np.load(root + \"/gender.npy\")"
   ]
  },
  {
   "cell_type": "code",
   "execution_count": 10,
   "id": "5d36a749",
   "metadata": {},
   "outputs": [
    {
     "data": {
      "text/plain": [
       "(705, 10152)"
      ]
     },
     "execution_count": 10,
     "metadata": {},
     "output_type": "execute_result"
    }
   ],
   "source": [
    "V.shape"
   ]
  },
  {
   "cell_type": "code",
   "execution_count": 11,
   "id": "0c6aa1ad",
   "metadata": {},
   "outputs": [
    {
     "data": {
      "text/plain": [
       "(705,)"
      ]
     },
     "execution_count": 11,
     "metadata": {},
     "output_type": "execute_result"
    }
   ],
   "source": [
    "Sx.shape"
   ]
  },
  {
   "cell_type": "code",
   "execution_count": 12,
   "id": "73929f99",
   "metadata": {},
   "outputs": [
    {
     "data": {
      "text/plain": [
       "Counter({0: 275, 1: 430})"
      ]
     },
     "execution_count": 12,
     "metadata": {},
     "output_type": "execute_result"
    }
   ],
   "source": [
    "Sx_counter = Counter(Sx)\n",
    "Sx_counter\n"
   ]
  },
  {
   "cell_type": "code",
   "execution_count": 13,
   "id": "3a261ce7",
   "metadata": {},
   "outputs": [
    {
     "data": {
      "text/plain": [
       "(array([ 0,  1,  2,  3,  4,  5,  6,  7,  8,  9, 10, 11, 12, 13, 14, 15, 16,\n",
       "        17, 18, 19, 20, 21, 22, 23, 24, 25, 26, 27, 29, 30, 32, 33, 41, 45,\n",
       "        46, 63], dtype=int32),\n",
       " array([7081562,   56455,   11369,    3920,    1622,     855,     421,\n",
       "            291,     175,     120,      88,      66,      50,      28,\n",
       "             33,      22,      12,      12,       8,       9,       7,\n",
       "              7,       3,       4,       1,       3,       3,       4,\n",
       "              1,       3,       1,       1,       1,       1,       1,\n",
       "              1]))"
      ]
     },
     "execution_count": 13,
     "metadata": {},
     "output_type": "execute_result"
    }
   ],
   "source": [
    "np.unique(V, return_counts=True)"
   ]
  },
  {
   "cell_type": "code",
   "execution_count": 14,
   "id": "98c38ac2",
   "metadata": {},
   "outputs": [],
   "source": [
    "group1 = np.where(Sx == 0)[0]\n",
    "group2 = np.where(Sx == 1)[0]"
   ]
  },
  {
   "cell_type": "code",
   "execution_count": 15,
   "id": "c784cb10",
   "metadata": {},
   "outputs": [],
   "source": [
    "V1 = V[group1, :]\n",
    "V2 = V[group2, :]"
   ]
  },
  {
   "cell_type": "code",
   "execution_count": 16,
   "id": "15c530d7",
   "metadata": {},
   "outputs": [
    {
     "data": {
      "text/plain": [
       "(275, 10152)"
      ]
     },
     "execution_count": 16,
     "metadata": {},
     "output_type": "execute_result"
    }
   ],
   "source": [
    "V1.shape"
   ]
  },
  {
   "cell_type": "code",
   "execution_count": 17,
   "id": "c51cb98c",
   "metadata": {},
   "outputs": [
    {
     "data": {
      "text/plain": [
       "(430, 10152)"
      ]
     },
     "execution_count": 17,
     "metadata": {},
     "output_type": "execute_result"
    }
   ],
   "source": [
    "V2.shape"
   ]
  },
  {
   "cell_type": "code",
   "execution_count": 18,
   "id": "d9fca872",
   "metadata": {},
   "outputs": [],
   "source": [
    "words1 = np.sum(V1, axis=0)\n",
    "words2 = np.sum(V2, axis=0)"
   ]
  },
  {
   "cell_type": "code",
   "execution_count": 19,
   "id": "06107369",
   "metadata": {},
   "outputs": [
    {
     "data": {
      "text/plain": [
       "array([1, 0, 0, ..., 1, 1, 0], dtype=int32)"
      ]
     },
     "execution_count": 19,
     "metadata": {},
     "output_type": "execute_result"
    }
   ],
   "source": [
    "# 0 male\n",
    "# 1 female\n",
    "# 2 both\n",
    "preferred_words_by_gender = np.load(root + \"/preferred_words_by_gender.npy\")\n",
    "preferred_words_by_gender"
   ]
  },
  {
   "cell_type": "code",
   "execution_count": 20,
   "id": "05c09ebb",
   "metadata": {},
   "outputs": [
    {
     "data": {
      "text/plain": [
       "(10152,)"
      ]
     },
     "execution_count": 20,
     "metadata": {},
     "output_type": "execute_result"
    }
   ],
   "source": [
    "preferred_words_by_gender.shape"
   ]
  },
  {
   "cell_type": "code",
   "execution_count": 21,
   "id": "6dadbebd",
   "metadata": {},
   "outputs": [
    {
     "data": {
      "text/plain": [
       "array([0, 1, 1, ..., 0, 0, 1], dtype=int32)"
      ]
     },
     "execution_count": 21,
     "metadata": {},
     "output_type": "execute_result"
    }
   ],
   "source": [
    "# 0 beauty\n",
    "# 1 home\n",
    "# 2 both\n",
    "preferred_words_by_cat = np.load(root + \"/preferred_words_by_category.npy\")\n",
    "preferred_words_by_cat"
   ]
  },
  {
   "cell_type": "code",
   "execution_count": 22,
   "id": "7c11c238",
   "metadata": {},
   "outputs": [
    {
     "data": {
      "text/plain": [
       "(array([0, 1, 2], dtype=int32), array([3701, 3823, 2628]))"
      ]
     },
     "execution_count": 22,
     "metadata": {},
     "output_type": "execute_result"
    }
   ],
   "source": [
    "np.unique(preferred_words_by_cat, return_counts=True)"
   ]
  },
  {
   "cell_type": "code",
   "execution_count": 23,
   "id": "c0ed97c9",
   "metadata": {},
   "outputs": [
    {
     "data": {
      "text/plain": [
       "array(['025oz', '04012014i', '08x20', ..., 'zpalett', 'zulera', 'zwave'],\n",
       "      dtype='<U60')"
      ]
     },
     "execution_count": 23,
     "metadata": {},
     "output_type": "execute_result"
    }
   ],
   "source": [
    "words_str = np.load(root + \"/words.npy\")\n",
    "words_str"
   ]
  },
  {
   "cell_type": "code",
   "execution_count": 24,
   "id": "d2b98e0b",
   "metadata": {},
   "outputs": [
    {
     "data": {
      "text/html": [
       "<div>\n",
       "<style scoped>\n",
       "    .dataframe tbody tr th:only-of-type {\n",
       "        vertical-align: middle;\n",
       "    }\n",
       "\n",
       "    .dataframe tbody tr th {\n",
       "        vertical-align: top;\n",
       "    }\n",
       "\n",
       "    .dataframe thead th {\n",
       "        text-align: right;\n",
       "    }\n",
       "</style>\n",
       "<table border=\"1\" class=\"dataframe\">\n",
       "  <thead>\n",
       "    <tr style=\"text-align: right;\">\n",
       "      <th></th>\n",
       "      <th>words</th>\n",
       "      <th>gender</th>\n",
       "      <th>category</th>\n",
       "    </tr>\n",
       "  </thead>\n",
       "  <tbody>\n",
       "    <tr>\n",
       "      <th>0</th>\n",
       "      <td>025oz</td>\n",
       "      <td>1</td>\n",
       "      <td>0</td>\n",
       "    </tr>\n",
       "    <tr>\n",
       "      <th>1</th>\n",
       "      <td>04012014i</td>\n",
       "      <td>0</td>\n",
       "      <td>1</td>\n",
       "    </tr>\n",
       "    <tr>\n",
       "      <th>2</th>\n",
       "      <td>08x20</td>\n",
       "      <td>0</td>\n",
       "      <td>1</td>\n",
       "    </tr>\n",
       "    <tr>\n",
       "      <th>3</th>\n",
       "      <td>1000s</td>\n",
       "      <td>0</td>\n",
       "      <td>1</td>\n",
       "    </tr>\n",
       "    <tr>\n",
       "      <th>4</th>\n",
       "      <td>100lbs</td>\n",
       "      <td>1</td>\n",
       "      <td>1</td>\n",
       "    </tr>\n",
       "    <tr>\n",
       "      <th>...</th>\n",
       "      <td>...</td>\n",
       "      <td>...</td>\n",
       "      <td>...</td>\n",
       "    </tr>\n",
       "    <tr>\n",
       "      <th>10147</th>\n",
       "      <td>zone</td>\n",
       "      <td>0</td>\n",
       "      <td>0</td>\n",
       "    </tr>\n",
       "    <tr>\n",
       "      <th>10148</th>\n",
       "      <td>zone34</td>\n",
       "      <td>1</td>\n",
       "      <td>0</td>\n",
       "    </tr>\n",
       "    <tr>\n",
       "      <th>10149</th>\n",
       "      <td>zpalett</td>\n",
       "      <td>1</td>\n",
       "      <td>0</td>\n",
       "    </tr>\n",
       "    <tr>\n",
       "      <th>10150</th>\n",
       "      <td>zulera</td>\n",
       "      <td>1</td>\n",
       "      <td>0</td>\n",
       "    </tr>\n",
       "    <tr>\n",
       "      <th>10151</th>\n",
       "      <td>zwave</td>\n",
       "      <td>0</td>\n",
       "      <td>1</td>\n",
       "    </tr>\n",
       "  </tbody>\n",
       "</table>\n",
       "<p>10152 rows × 3 columns</p>\n",
       "</div>"
      ],
      "text/plain": [
       "           words  gender  category\n",
       "0          025oz       1         0\n",
       "1      04012014i       0         1\n",
       "2          08x20       0         1\n",
       "3          1000s       0         1\n",
       "4         100lbs       1         1\n",
       "...          ...     ...       ...\n",
       "10147       zone       0         0\n",
       "10148     zone34       1         0\n",
       "10149    zpalett       1         0\n",
       "10150     zulera       1         0\n",
       "10151      zwave       0         1\n",
       "\n",
       "[10152 rows x 3 columns]"
      ]
     },
     "execution_count": 24,
     "metadata": {},
     "output_type": "execute_result"
    }
   ],
   "source": [
    "import pandas as pd\n",
    "df = pd.DataFrame(data={\"words\":words_str, \"gender\":preferred_words_by_gender, \"category\":preferred_words_by_cat})\n",
    "df"
   ]
  },
  {
   "cell_type": "code",
   "execution_count": 25,
   "id": "2d6ba66f",
   "metadata": {},
   "outputs": [],
   "source": [
    "male_beauty = df[(df[\"gender\"] == 0) & (df[\"category\"] == 0)]\n",
    "female_beauty = df[(df[\"gender\"] == 1) & (df[\"category\"] == 0)]\n",
    "\n",
    "male_home = df[(df[\"gender\"] == 0) & (df[\"category\"] == 1)]\n",
    "female_home = df[(df[\"gender\"] == 1) & (df[\"category\"] == 1)]\n",
    "\n",
    "male_both = df[(df[\"gender\"] == 0) & (df[\"category\"] == 2)]\n",
    "female_both = df[(df[\"gender\"] == 1) & (df[\"category\"] == 2)]\n"
   ]
  },
  {
   "cell_type": "code",
   "execution_count": 26,
   "id": "4599f65d",
   "metadata": {},
   "outputs": [
    {
     "name": "stdout",
     "output_type": "stream",
     "text": [
      "male beauty: 1032\n",
      "female beauty: 2233\n",
      "male home: 2830\n",
      "female home: 629\n",
      "male both: 175\n",
      "female both: 78\n"
     ]
    }
   ],
   "source": [
    "print(f\"male beauty: {len(male_beauty)}\")\n",
    "print(f\"female beauty: {len(female_beauty)}\")\n",
    "print(f\"male home: {len(male_home)}\")\n",
    "print(f\"female home: {len(female_home)}\")\n",
    "print(f\"male both: {len(male_both)}\")\n",
    "print(f\"female both: {len(female_both)}\")\n"
   ]
  },
  {
   "cell_type": "code",
   "execution_count": 27,
   "id": "40685c44",
   "metadata": {},
   "outputs": [
    {
     "data": {
      "image/png": "[encoded data removed]",
      "text/plain": [
       "<Figure size 432x288 with 1 Axes>"
      ]
     },
     "metadata": {
      "needs_background": "light"
     },
     "output_type": "display_data"
    }
   ],
   "source": [
    "categories = [\"beauty\", \"home\", \"both\"]\n",
    "counts = {\n",
    "    \"Male\": [len(male_beauty), len(male_home), len(male_both)],\n",
    "    \"Female\": [len(female_beauty), len(female_home), len(female_both)]\n",
    "}\n",
    "\n",
    "x = np.arange(len(categories))  # the label locations\n",
    "width = 0.40  # the width of the bars\n",
    "multiplier = 0\n",
    "\n",
    "fig, ax = plt.subplots(layout='constrained')\n",
    "\n",
    "for attribute, measurement in counts.items():\n",
    "    offset = width * multiplier\n",
    "    rects = ax.bar(x + offset, measurement, width, label=attribute)\n",
    "    ax.bar_label(rects)\n",
    "    multiplier += 1\n",
    "\n",
    "# Add some text for labels, title and custom x-axis tick labels, etc.\n",
    "ax.set_ylabel('Counts')\n",
    "ax.set_title('Number of words by Gender and Category')\n",
    "ax.set_xticks(x + width/2, categories)\n",
    "ax.legend(loc='upper right')\n",
    "\n",
    "\n",
    "plt.show()"
   ]
  },
  {
   "cell_type": "code",
   "execution_count": null,
   "id": "c53fb9b4",
   "metadata": {},
   "outputs": [],
   "source": []
  },
  {
   "cell_type": "code",
   "execution_count": 44,
   "id": "1aabbd99",
   "metadata": {},
   "outputs": [
    {
     "data": {
      "image/png": "[encoded data removed]",
      "text/plain": [
       "<Figure size 432x288 with 1 Axes>"
      ]
     },
     "metadata": {
      "needs_background": "light"
     },
     "output_type": "display_data"
    }
   ],
   "source": [
    "female_beauty = len(df[(df[\"gender\"]==\"female\") & (df[\"Category\"]==\"Beauty\")])\n",
    "male_beauty = len(df[(df[\"gender\"]==\"male\") & (df[\"Category\"]==\"Beauty\")])\n",
    "\n",
    "female_home = len(df[(df[\"gender\"]==\"female\") & (df[\"Category\"]==\"Home and Tools\")])\n",
    "male_home = len(df[(df[\"gender\"]==\"male\") & (df[\"Category\"]==\"Home and Tools\")])\n",
    "\n",
    "categories = [\"Beauty\", \"Home and Tools\"]\n",
    "counts = {\n",
    "    \"Male\": [male_beauty, male_home],\n",
    "    \"Female\": [female_beauty, female_home]\n",
    "}\n",
    "\n",
    "x = np.arange(len(categories))  # the label locations\n",
    "width = 0.40  # the width of the bars\n",
    "multiplier = 0\n",
    "\n",
    "fig, ax = plt.subplots(layout='constrained')\n",
    "\n",
    "for attribute, measurement in counts.items():\n",
    "    offset = width * multiplier\n",
    "    rects = ax.bar(x + offset, measurement, width, label=attribute)\n",
    "    ax.bar_label(rects)\n",
    "    multiplier += 1\n",
    "\n",
    "# Add some text for labels, title and custom x-axis tick labels, etc.\n",
    "ax.set_ylabel('Counts')\n",
    "ax.set_title('Number of reviews by Gender and Category')\n",
    "ax.set_xticks(x + width/2, categories)\n",
    "ax.legend(loc='upper right')\n",
    "\n",
    "\n",
    "plt.show()"
   ]
  },
  {
   "cell_type": "code",
   "execution_count": null,
   "id": "9f0ddaf9",
   "metadata": {},
   "outputs": [],
   "source": []
  },
  {
   "cell_type": "code",
   "execution_count": null,
   "id": "af994c98",
   "metadata": {},
   "outputs": [],
   "source": []
  }
 ],
 "metadata": {
  "kernelspec": {
   "display_name": "coclus",
   "language": "python",
   "name": "coclus"
  },
  "language_info": {
   "codemirror_mode": {
    "name": "ipython",
    "version": 3
   },
   "file_extension": ".py",
   "mimetype": "text/x-python",
   "name": "python",
   "nbconvert_exporter": "python",
   "pygments_lexer": "ipython3",
   "version": "3.8.10"
  }
 },
 "nbformat": 4,
 "nbformat_minor": 5
}
