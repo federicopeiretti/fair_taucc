{
 "cells": [
  {
   "cell_type": "code",
   "execution_count": 1,
   "id": "1a8e921a",
   "metadata": {},
   "outputs": [],
   "source": [
    "import os\n",
    "import numpy as np\n",
    "import pickle\n",
    "import pandas as pd"
   ]
  },
  {
   "cell_type": "code",
   "execution_count": 2,
   "id": "8d47058e",
   "metadata": {},
   "outputs": [
    {
     "data": {
      "text/plain": [
       "'./fair_taucc/datasets/yelp'"
      ]
     },
     "execution_count": 2,
     "metadata": {},
     "output_type": "execute_result"
    }
   ],
   "source": [
    "root = os.getcwd()\n",
    "root"
   ]
  },
  {
   "cell_type": "code",
   "execution_count": 3,
   "id": "cb3e6668",
   "metadata": {},
   "outputs": [],
   "source": [
    "matrix = np.load(root + \"/matrix.npy\").astype(int)\n",
    "Sx = np.load(root + \"/gender.npy\").astype(int)\n",
    "genres = np.load(root + \"/restaurant_type.npy\").astype(int)"
   ]
  },
  {
   "cell_type": "code",
   "execution_count": 4,
   "id": "b89d3712",
   "metadata": {},
   "outputs": [
    {
     "data": {
      "text/plain": [
       "array([17, 16, 17, 17, 15,  1, 17,  6, 17, 17, 17,  8, 17, 17,  1, 17, 17,\n",
       "       17,  2, 17, 17, 17,  2, 17, 17, 17, 19, 10,  2,  2, 15, 17, 17, 17,\n",
       "       17,  2, 14, 15, 17, 17, 17, 17,  5, 17,  9, 17, 17, 17,  7, 17, 17,\n",
       "        2, 17, 17, 17, 17, 17, 17, 17, 17, 17, 17, 17, 17, 17, 17, 17, 16,\n",
       "       17, 17, 17, 12,  1, 17,  1, 17, 17, 17, 17, 17, 17, 17, 17, 17, 17,\n",
       "       17, 17,  4, 17, 17,  1, 17, 17, 17, 17, 17, 17, 12, 17, 17, 17, 17,\n",
       "       17, 17, 17, 17, 17,  6, 10, 16, 17,  9, 17, 17, 17, 17, 17, 17,  9,\n",
       "       17, 18, 17, 17,  2, 17, 17, 17, 17,  2, 17, 20, 17, 19, 17, 17, 17,\n",
       "       17, 17, 17, 17, 17, 17, 17, 17,  1, 17,  1, 17, 17,  2, 17, 17, 17,\n",
       "       17,  2, 17, 17, 17, 17, 17, 19,  1,  2, 17, 17, 17, 17, 17,  2, 17,\n",
       "       17, 17, 17,  9, 17, 17, 17, 17, 17, 17, 17, 17, 17, 17, 17, 15, 15,\n",
       "       17, 17, 17, 17, 19, 17, 19,  1, 17, 17, 17, 17, 17, 17, 17, 17, 17,\n",
       "       17, 17, 12, 17, 17, 17, 17, 17, 20, 17,  6, 17, 17, 17, 17, 17, 17,\n",
       "       17, 17, 17, 17, 17, 17, 17, 17, 17,  9, 11, 17, 17, 17, 17, 19,  6,\n",
       "       17, 17, 17, 17, 17, 17, 17, 16, 17,  6, 17, 17, 17, 17, 20, 17, 17,\n",
       "       17, 17, 17, 20, 12, 17,  2, 17,  6, 20, 17, 17, 17, 19, 20, 17, 17,\n",
       "       17, 17, 17,  6, 17, 17, 17, 17, 17, 17, 17, 17,  2, 11, 20, 20, 15,\n",
       "       17, 17,  6, 17,  3, 17,  2, 17, 17,  8, 17, 17, 17, 17,  6,  0, 17,\n",
       "       17, 17,  2, 17, 15, 17, 17, 17, 17, 17, 17, 17, 17,  2,  2, 13, 17,\n",
       "       20,  2, 17, 17, 17, 21, 17, 17,  6,  6])"
      ]
     },
     "execution_count": 4,
     "metadata": {},
     "output_type": "execute_result"
    }
   ],
   "source": [
    "genres"
   ]
  },
  {
   "cell_type": "code",
   "execution_count": 5,
   "id": "22364721",
   "metadata": {},
   "outputs": [
    {
     "data": {
      "text/plain": [
       "(1441, 333)"
      ]
     },
     "execution_count": 5,
     "metadata": {},
     "output_type": "execute_result"
    }
   ],
   "source": [
    "matrix.shape"
   ]
  },
  {
   "cell_type": "code",
   "execution_count": 6,
   "id": "5bdeb00a",
   "metadata": {},
   "outputs": [
    {
     "data": {
      "text/plain": [
       "(array([0, 1]), array([545, 896]))"
      ]
     },
     "execution_count": 6,
     "metadata": {},
     "output_type": "execute_result"
    }
   ],
   "source": [
    "np.unique(Sx, return_counts=True)"
   ]
  },
  {
   "cell_type": "code",
   "execution_count": 7,
   "id": "fef07393",
   "metadata": {},
   "outputs": [
    {
     "data": {
      "text/plain": [
       "array([ 0,  1,  2,  3,  4,  5,  6,  7,  8,  9, 10, 11, 12, 13, 14, 15, 16,\n",
       "       17, 18, 19, 20, 21])"
      ]
     },
     "execution_count": 7,
     "metadata": {},
     "output_type": "execute_result"
    }
   ],
   "source": [
    "unique_genres = np.unique(genres)\n",
    "unique_genres"
   ]
  },
  {
   "cell_type": "code",
   "execution_count": 8,
   "id": "c561c9cc",
   "metadata": {},
   "outputs": [
    {
     "data": {
      "text/plain": [
       "{'restaurant': 17,\n",
       " 'pub': 16,\n",
       " 'park': 15,\n",
       " 'bakery': 1,\n",
       " 'coffee': 6,\n",
       " 'grocery': 8,\n",
       " 'bar': 2,\n",
       " 'sandwich': 19,\n",
       " 'ice_cream': 10,\n",
       " 'night_club': 14,\n",
       " 'cake': 5,\n",
       " 'hamburger': 9,\n",
       " 'event_venue': 7,\n",
       " 'market': 12,\n",
       " 'brasserie': 4,\n",
       " 'salad': 18,\n",
       " 'steak_house': 20,\n",
       " 'juice': 11,\n",
       " 'bistro': 3,\n",
       " 'bagel': 0,\n",
       " 'museum': 13,\n",
       " 'yogurt': 21}"
      ]
     },
     "execution_count": 8,
     "metadata": {},
     "output_type": "execute_result"
    }
   ],
   "source": [
    "type_str = np.load(root + \"/restaurant_type_str.npy\", allow_pickle=True)\n",
    "dict_genres = dict(zip(type_str, genres))\n",
    "dict_genres"
   ]
  },
  {
   "cell_type": "code",
   "execution_count": 9,
   "id": "e4afc9dc",
   "metadata": {},
   "outputs": [
    {
     "data": {
      "text/plain": [
       "['restaurant',\n",
       " 'pub',\n",
       " 'park',\n",
       " 'bakery',\n",
       " 'coffee',\n",
       " 'grocery',\n",
       " 'bar',\n",
       " 'sandwich',\n",
       " 'ice_cream',\n",
       " 'night_club',\n",
       " 'cake',\n",
       " 'hamburger',\n",
       " 'event_venue',\n",
       " 'market',\n",
       " 'brasserie',\n",
       " 'salad',\n",
       " 'steak_house',\n",
       " 'juice',\n",
       " 'bistro',\n",
       " 'bagel',\n",
       " 'museum',\n",
       " 'yogurt']"
      ]
     },
     "execution_count": 9,
     "metadata": {},
     "output_type": "execute_result"
    }
   ],
   "source": [
    "genre_names = list(dict_genres.keys())\n",
    "genre_names"
   ]
  },
  {
   "cell_type": "markdown",
   "id": "79bce2b8",
   "metadata": {},
   "source": [
    "## Stats per gender"
   ]
  },
  {
   "cell_type": "code",
   "execution_count": 10,
   "id": "18ba3ff2",
   "metadata": {},
   "outputs": [],
   "source": [
    "gender_ratings = {gender: {int(genre): [] for genre in unique_genres} for gender in [0, 1]}\n",
    "\n",
    "for i, gender in enumerate(Sx):\n",
    "    for j, genre in enumerate(genres):\n",
    "        if matrix[i, j] != 0:\n",
    "            gender_ratings[gender][genre].append(matrix[i, j])\n"
   ]
  },
  {
   "cell_type": "code",
   "execution_count": 11,
   "id": "01c6e597",
   "metadata": {},
   "outputs": [],
   "source": [
    "ratings_mean = {gender: {int(genre): 0 for genre in unique_genres} for gender in [0,1]}"
   ]
  },
  {
   "cell_type": "code",
   "execution_count": 12,
   "id": "351b10ff",
   "metadata": {},
   "outputs": [
    {
     "name": "stderr",
     "output_type": "stream",
     "text": [
      "./.local/lib/python3.8/site-packages/numpy/core/fromnumeric.py:3464: RuntimeWarning: Mean of empty slice.\n",
      "  return _methods._mean(a, axis=axis, dtype=dtype,\n",
      "./.local/lib/python3.8/site-packages/numpy/core/_methods.py:192: RuntimeWarning: invalid value encountered in scalar divide\n",
      "  ret = ret.dtype.type(ret / rcount)\n"
     ]
    }
   ],
   "source": [
    "for gender in gender_ratings:\n",
    "    for genre in gender_ratings[gender]:\n",
    "        ratings_mean[gender][genre] = np.mean(gender_ratings[gender][genre])"
   ]
  },
  {
   "cell_type": "code",
   "execution_count": 16,
   "id": "df8875e3",
   "metadata": {},
   "outputs": [
    {
     "data": {
      "text/plain": [
       "<Figure size 432x288 with 0 Axes>"
      ]
     },
     "metadata": {},
     "output_type": "display_data"
    },
    {
     "data": {
      "image/png": "[encoded data removed]",
      "text/plain": [
       "<Figure size 432x288 with 1 Axes>"
      ]
     },
     "metadata": {
      "needs_background": "light"
     },
     "output_type": "display_data"
    }
   ],
   "source": [
    "import matplotlib.pyplot as plt\n",
    "\n",
    "# genre_names\n",
    "male_counts = [ratings_mean[0][genre] for genre in unique_genres]\n",
    "female_counts = [ratings_mean[1][genre] for genre in unique_genres]\n",
    "\n",
    "x = np.arange(len(unique_genres))\n",
    "width = 0.35\n",
    "\n",
    "plt.figure()\n",
    "fig, ax = plt.subplots()\n",
    "ax.bar(x - width/2, male_counts, width, label='Male')\n",
    "ax.bar(x + width/2, female_counts, width, label='Female')\n",
    "\n",
    "ax.set_xlabel('Category')\n",
    "ax.set_ylabel('Average Ratings')\n",
    "ax.set_title('Yelp - Average Ratings by Gender and Category')\n",
    "ax.set_xticks(x)\n",
    "ax.set_xticklabels(genre_names)\n",
    "plt.xticks(rotation=90)\n",
    "ax.legend()\n",
    "plt.show()"
   ]
  },
  {
   "cell_type": "code",
   "execution_count": null,
   "id": "7335d102",
   "metadata": {},
   "outputs": [],
   "source": []
  }
 ],
 "metadata": {
  "kernelspec": {
   "display_name": "Python 3 (ipykernel)",
   "language": "python",
   "name": "python3"
  },
  "language_info": {
   "codemirror_mode": {
    "name": "ipython",
    "version": 3
   },
   "file_extension": ".py",
   "mimetype": "text/x-python",
   "name": "python",
   "nbconvert_exporter": "python",
   "pygments_lexer": "ipython3",
   "version": "3.8.10"
  }
 },
 "nbformat": 4,
 "nbformat_minor": 5
}
