{
 "cells": [
  {
   "cell_type": "code",
   "execution_count": 1,
   "metadata": {},
   "outputs": [],
   "source": [
    "import numpy as np\n",
    "import pandas as pd\n",
    "import os\n",
    "import pandas as pd\n",
    "import matplotlib.pyplot as plt"
   ]
  },
  {
   "cell_type": "code",
   "execution_count": 2,
   "metadata": {},
   "outputs": [],
   "source": [
    "root = os.getcwd()\n",
    "dataset = root + \"/YelpData.csv\""
   ]
  },
  {
   "cell_type": "code",
   "execution_count": 3,
   "metadata": {},
   "outputs": [
    {
     "data": {
      "text/plain": [
       "'./fair_taucc/datasets/yelp'"
      ]
     },
     "execution_count": 3,
     "metadata": {},
     "output_type": "execute_result"
    }
   ],
   "source": [
    "root"
   ]
  },
  {
   "cell_type": "code",
   "execution_count": 4,
   "metadata": {},
   "outputs": [
    {
     "name": "stdout",
     "output_type": "stream",
     "text": [
      "Windows-1252\n"
     ]
    }
   ],
   "source": [
    "import chardet\n",
    "with open(dataset, 'rb') as f:\n",
    "    result = chardet.detect(f.read())\n",
    "    encoding = result['encoding']\n",
    "    print(encoding)"
   ]
  },
  {
   "cell_type": "code",
   "execution_count": 5,
   "metadata": {},
   "outputs": [],
   "source": [
    "df = pd.read_csv(dataset, encoding=encoding)"
   ]
  },
  {
   "cell_type": "code",
   "execution_count": 6,
   "metadata": {},
   "outputs": [
    {
     "data": {
      "text/plain": [
       "(2399, 23)"
      ]
     },
     "execution_count": 6,
     "metadata": {},
     "output_type": "execute_result"
    }
   ],
   "source": [
    "df.shape"
   ]
  },
  {
   "cell_type": "code",
   "execution_count": 7,
   "metadata": {},
   "outputs": [
    {
     "name": "stdout",
     "output_type": "stream",
     "text": [
      "<class 'pandas.core.frame.DataFrame'>\n",
      "RangeIndex: 2399 entries, 0 to 2398\n",
      "Data columns (total 23 columns):\n",
      " #   Column              Non-Null Count  Dtype  \n",
      "---  ------              --------------  -----  \n",
      " 0   ReviewID            2399 non-null   int64  \n",
      " 1   ReviewerName        2399 non-null   object \n",
      " 2   FirstName           2399 non-null   object \n",
      " 3   Location            2399 non-null   object \n",
      " 4   CheckedIn           2399 non-null   int64  \n",
      " 5   PicturePresent      2399 non-null   int64  \n",
      " 6   Friends             2399 non-null   int64  \n",
      " 7   Reviews             2399 non-null   int64  \n",
      " 8   Bar_Restaurant      2399 non-null   object \n",
      " 9   Rating              2399 non-null   int64  \n",
      " 10  CITY                2399 non-null   object \n",
      " 11  YelpElite           2399 non-null   int64  \n",
      " 12  Useful              2399 non-null   int64  \n",
      " 13  Month_5             2399 non-null   int64  \n",
      " 14  Month_4             2399 non-null   int64  \n",
      " 15  Month_3             2399 non-null   int64  \n",
      " 16  Month_2             2399 non-null   int64  \n",
      " 17  Month_1             2399 non-null   int64  \n",
      " 18  ReviewWordcount     2399 non-null   int64  \n",
      " 19  gender              2399 non-null   object \n",
      " 20  gender_probability  2399 non-null   float64\n",
      " 21  male                2399 non-null   int64  \n",
      " 22  female              2399 non-null   int64  \n",
      "dtypes: float64(1), int64(16), object(6)\n",
      "memory usage: 431.2+ KB\n"
     ]
    }
   ],
   "source": [
    "df.info()"
   ]
  },
  {
   "cell_type": "code",
   "execution_count": 19,
   "metadata": {},
   "outputs": [
    {
     "name": "stdout",
     "output_type": "stream",
     "text": [
      "   ReviewID  ReviewerName  FirstName          Location  CheckedIn  \\\n",
      "0         1  Gwendolyn P.  Gwendolyn  Philadelphia, PA          0   \n",
      "1         2       Anna H.       Anna   Little Rock, AR          0   \n",
      "2         3    Melissa K.    Melissa         Miami, FL          0   \n",
      "3         4      Maria B.      Maria         Miami, FL          1   \n",
      "4         5       Adam S.       Adam         Miami, FL          0   \n",
      "5         6   Michelle L.   Michelle         Miami, FL          0   \n",
      "6         7       Todd O.       Todd         Miami, FL          0   \n",
      "7         8       Jill J.       Jill       Orlando, FL          0   \n",
      "8         9       Adam B.       Adam     Hollywood, FL          1   \n",
      "9        10       Ryan T.       Ryan        Denver, CO          0   \n",
      "\n",
      "   PicturePresent  Friends  Reviews                Bar_Restaurant  Rating  \\\n",
      "0               0       21      189              Buena Vista Deli       4   \n",
      "1               0       12       34   Tropical Chinese Restaurant       4   \n",
      "2               0        2        9  Latin American Bakery & Cafe       5   \n",
      "3               0        8        6                    The Mighty       4   \n",
      "4               1        8        7           Kon Chau Restaurant       5   \n",
      "5               0       14       19  Casola’s Pizzeria & Sub Shop       1   \n",
      "6               0       32        2                   Latin House       2   \n",
      "7               1      104      118                 Bianco Gelato       5   \n",
      "8               1      157       40                     Starbucks       5   \n",
      "9               0       12       38       Daily Bread Marketplace       3   \n",
      "\n",
      "   ... Month_5  Month_4  Month_3  Month_2  Month_1  ReviewWordcount  gender  \\\n",
      "0  ...       0        0        0        0        1               37  female   \n",
      "1  ...       0        1        0        0        0               55  female   \n",
      "2  ...       0        0        0        0        0              101  female   \n",
      "3  ...       0        0        0        0        1               22  female   \n",
      "4  ...       0        0        1        0        0              117    male   \n",
      "5  ...       0        0        0        0        0               31  female   \n",
      "6  ...       0        1        0        0        0               69    male   \n",
      "7  ...       1        0        0        0        0               44  female   \n",
      "8  ...       0        1        0        0        0               13    male   \n",
      "9  ...       0        0        0        0        0               31    male   \n",
      "\n",
      "   gender_probability  male female  \n",
      "0                1.00     0      1  \n",
      "1                1.00     0      1  \n",
      "2                1.00     0      1  \n",
      "3                0.99     0      1  \n",
      "4                1.00     1      0  \n",
      "5                1.00     0      1  \n",
      "6                1.00     1      0  \n",
      "7                1.00     0      1  \n",
      "8                1.00     1      0  \n",
      "9                0.99     1      0  \n",
      "\n",
      "[10 rows x 23 columns]\n"
     ]
    }
   ],
   "source": [
    "print(df.head(10))"
   ]
  },
  {
   "cell_type": "code",
   "execution_count": 29,
   "metadata": {},
   "outputs": [],
   "source": [
    "restaurants = np.unique(df[\"Bar_Restaurant\"].to_numpy(), return_counts=True)[0]\n",
    "reviewerName = np.unique(df[\"ReviewerName\"].to_numpy(), return_counts=True)[0]"
   ]
  },
  {
   "cell_type": "code",
   "execution_count": 73,
   "metadata": {},
   "outputs": [],
   "source": [
    "num_restaurant = restaurants.shape[0]"
   ]
  },
  {
   "cell_type": "code",
   "execution_count": 71,
   "metadata": {},
   "outputs": [],
   "source": [
    "num_reviewer = reviewerName.shape[0]"
   ]
  },
  {
   "cell_type": "code",
   "execution_count": 59,
   "metadata": {},
   "outputs": [],
   "source": [
    "gender = []\n",
    "\n",
    "for name in reviewerName:\n",
    "    data = df[df[\"ReviewerName\"] == name]\n",
    "    sex = data[\"gender\"].to_numpy()[0]\n",
    "    gender.append(sex)"
   ]
  },
  {
   "cell_type": "code",
   "execution_count": 66,
   "metadata": {},
   "outputs": [
    {
     "data": {
      "text/plain": [
       "(1441,)"
      ]
     },
     "execution_count": 66,
     "metadata": {},
     "output_type": "execute_result"
    }
   ],
   "source": [
    "gender = np.array(gender)\n",
    "gender = np.where(gender == 'female', 1, 0)"
   ]
  },
  {
   "cell_type": "code",
   "execution_count": 67,
   "metadata": {},
   "outputs": [],
   "source": [
    "np.save(f\"{root}/gender.npy\", gender)"
   ]
  },
  {
   "cell_type": "code",
   "execution_count": 70,
   "metadata": {},
   "outputs": [],
   "source": [
    "np.save(f\"{root}/restaurants.npy\", restaurants)"
   ]
  },
  {
   "cell_type": "code",
   "execution_count": 69,
   "metadata": {},
   "outputs": [],
   "source": [
    "np.save(f\"{root}/reviewerName.npy\", reviewerName)"
   ]
  },
  {
   "cell_type": "markdown",
   "metadata": {},
   "source": [
    "# Create matrix"
   ]
  },
  {
   "cell_type": "code",
   "execution_count": 108,
   "metadata": {},
   "outputs": [],
   "source": [
    "matrix = np.zeros((num_reviewer, num_restaurant), dtype=int)"
   ]
  },
  {
   "cell_type": "code",
   "execution_count": 109,
   "metadata": {},
   "outputs": [],
   "source": [
    "for index, row in df.iterrows():\n",
    "    name = row[\"ReviewerName\"]\n",
    "    id_row = np.where(reviewerName == name)[0]\n",
    "    restaurant = row[\"Bar_Restaurant\"]\n",
    "    id_col = np.where(restaurants == restaurant)[0]\n",
    "    rating = row[\"Rating\"]\n",
    "    matrix[id_row, id_col] = rating\n"
   ]
  },
  {
   "cell_type": "code",
   "execution_count": 110,
   "metadata": {},
   "outputs": [
    {
     "data": {
      "text/plain": [
       "(array([0, 1, 2, 3, 4, 5]),\n",
       " array([477770,    157,    150,    206,    594,    976]))"
      ]
     },
     "execution_count": 110,
     "metadata": {},
     "output_type": "execute_result"
    }
   ],
   "source": [
    "np.unique(matrix, return_counts=True)"
   ]
  },
  {
   "cell_type": "code",
   "execution_count": 111,
   "metadata": {},
   "outputs": [],
   "source": [
    "# 2399 rows = ratings"
   ]
  },
  {
   "cell_type": "code",
   "execution_count": 112,
   "metadata": {},
   "outputs": [
    {
     "data": {
      "text/plain": [
       "(array([1, 2, 3, 4, 5]), array([ 166,  188,  234,  710, 1101]))"
      ]
     },
     "execution_count": 112,
     "metadata": {},
     "output_type": "execute_result"
    }
   ],
   "source": [
    "np.unique(df[\"Rating\"].to_numpy(), return_counts=True)"
   ]
  },
  {
   "cell_type": "code",
   "execution_count": 113,
   "metadata": {},
   "outputs": [],
   "source": [
    "np.save(f\"{root}/matrix.npy\", matrix)"
   ]
  },
  {
   "cell_type": "markdown",
   "metadata": {},
   "source": [
    "## Rating Distribution by Gender\n",
    "\n",
    "The box plot shows the distribution of ratings given by male and female reviewers, highlighting the median, quartiles, and potential outliers.\n",
    "\n",
    "This helps to identify any differences in average ratings between genders."
   ]
  },
  {
   "cell_type": "code",
   "execution_count": 21,
   "metadata": {},
   "outputs": [
    {
     "data": {
      "image/png": "[encoded data removed]",
      "text/plain": [
       "<Figure size 720x432 with 1 Axes>"
      ]
     },
     "metadata": {},
     "output_type": "display_data"
    }
   ],
   "source": [
    "import matplotlib.pyplot as plt\n",
    "import seaborn as sns\n",
    "\n",
    "# Set the style for seaborn\n",
    "sns.set(style=\"whitegrid\")\n",
    "\n",
    "# Create a box plot for rating distribution by gender\n",
    "plt.figure(figsize=(10, 6))\n",
    "sns.boxplot(x='gender', y='Rating', data=df)\n",
    "plt.title('Rating Distribution by Gender')\n",
    "plt.xlabel('Gender')\n",
    "plt.ylabel('Rating')\n",
    "plt.legend()\n",
    "plt.show()"
   ]
  },
  {
   "cell_type": "markdown",
   "metadata": {},
   "source": [
    "## Average Rating by Gender\n",
    "\n",
    "The bar chart display the average rating for male and female reviewers.\n",
    "\n",
    "This helps to provide a clear comparison of how each gender rates businesses on average."
   ]
  },
  {
   "cell_type": "code",
   "execution_count": 24,
   "metadata": {},
   "outputs": [
    {
     "data": {
      "image/png": "[encoded data removed]",
      "text/plain": [
       "<Figure size 576x360 with 1 Axes>"
      ]
     },
     "metadata": {},
     "output_type": "display_data"
    }
   ],
   "source": [
    "# Calculate average ratings by gender\n",
    "average_ratings = df.groupby('gender')['Rating'].mean().reset_index()\n",
    "\n",
    "# Create a bar plot for average ratings by gender\n",
    "plt.figure(figsize=(8, 5))\n",
    "sns.barplot(x='gender', y='Rating', data=average_ratings)\n",
    "plt.title('Average Rating by Gender')\n",
    "plt.xlabel('Gender')\n",
    "plt.ylabel('Average Rating')\n",
    "plt.ylim(0, 5)  # Ratings are on a scale from 1 to 5\n",
    "plt.legend()\n",
    "plt.show()"
   ]
  },
  {
   "cell_type": "code",
   "execution_count": 35,
   "metadata": {},
   "outputs": [
    {
     "data": {
      "text/plain": [
       "(array([0, 1]), array([545, 896]))"
      ]
     },
     "execution_count": 35,
     "metadata": {},
     "output_type": "execute_result"
    }
   ],
   "source": [
    "sx = np.load(f\"{root}/gender.npy\")\n",
    "np.unique(sx, return_counts=True)"
   ]
  },
  {
   "cell_type": "code",
   "execution_count": 29,
   "metadata": {},
   "outputs": [
    {
     "data": {
      "text/plain": [
       "array(['female', 'male', 'male', 'male', 'male', 'male', 'female',\n",
       "       'female', 'female', 'female'], dtype='<U6')"
      ]
     },
     "execution_count": 29,
     "metadata": {},
     "output_type": "execute_result"
    }
   ],
   "source": [
    "sx[:10]"
   ]
  },
  {
   "cell_type": "code",
   "execution_count": 30,
   "metadata": {},
   "outputs": [
    {
     "data": {
      "text/plain": [
       "array([1, 0, 0, 0, 0, 0, 1, 1, 1, 1])"
      ]
     },
     "execution_count": 30,
     "metadata": {},
     "output_type": "execute_result"
    }
   ],
   "source": [
    "sensitive = np.where(sx == 'female', 1, 0)\n",
    "sensitive[:10]"
   ]
  },
  {
   "cell_type": "code",
   "execution_count": 34,
   "metadata": {},
   "outputs": [],
   "source": [
    "np.save(f\"{root}/gender.npy\", sensitive)"
   ]
  },
  {
   "cell_type": "code",
   "execution_count": 33,
   "metadata": {},
   "outputs": [
    {
     "data": {
      "text/plain": [
       "(1441,)"
      ]
     },
     "execution_count": 33,
     "metadata": {},
     "output_type": "execute_result"
    }
   ],
   "source": [
    "sx.shape"
   ]
  },
  {
   "cell_type": "code",
   "execution_count": 39,
   "metadata": {},
   "outputs": [
    {
     "data": {
      "text/plain": [
       "'./fair_taucc/datasets/yelp'"
      ]
     },
     "execution_count": 39,
     "metadata": {},
     "output_type": "execute_result"
    }
   ],
   "source": [
    "root"
   ]
  },
  {
   "cell_type": "code",
   "execution_count": 41,
   "metadata": {},
   "outputs": [
    {
     "data": {
      "text/plain": [
       "array(['100 Montaditos', '180° @ The DRB', '3 Chefs And A Chicken',\n",
       "       'A-Mari-Mix Fresh Mex Fusion', 'AD Barnes Park',\n",
       "       'Ali’s Sweet Treats', 'Andiamo', 'Angelina’s Coffee & Juice',\n",
       "       'Antigua Guatemala Restaurante', 'Aoki Teppanyaki',\n",
       "       'Arbetter’s Hot Dogs', 'Asia Grocery', 'Asian Thai Kitchen',\n",
       "       'Asian Thai Kitchen 2', 'Atelier Monnier', 'Azul Restaurant',\n",
       "       'Bajareque Cafeteria Restaurant', 'Bali Café', 'Ball & Chain',\n",
       "       'Bangkok City Thai & Seafood Restaurant', 'BarMeli',\n",
       "       'Batch Gastropub', 'Beaudevin', 'Beehive Juice Bar',\n",
       "       'Benny’s Seafood Restaurant', 'Berries in the Grove',\n",
       "       'Best Sub & Sandwich Shop', 'Bianco Gelato', 'Bin No. 18',\n",
       "       'Blackbird Ordinary', 'Blanche Park', 'Blue Collar',\n",
       "       'Bocaito Spanish Cuisine', 'Bocce', 'Bonding',\n",
       "       'BrewskiS South Miami', 'Brick House', 'Brickell Key Park',\n",
       "       'Bryan In The Kitchen', 'Buena Vista Bistro', 'Buena Vista Deli',\n",
       "       'Bunbury', 'Bunnie Cakes', 'Buns & Buns', 'Burger & Beer Joint',\n",
       "       'CVI.CHE 105', 'Cafe Bistro', 'Cafe Versailles',\n",
       "       'Cafeina Wynwood Lounge', 'Café Bastille',\n",
       "       'Canton Palace Chinese Restaurant', 'Cardon y el Tirano',\n",
       "       'Caribe Cafe Restaurant', 'Carne Asada Tortilleria Nicas',\n",
       "       'Carrabba’s', 'Casa Juan Restaurant',\n",
       "       'Casa Juancho Spanish Restaurant', 'Casabe 305 Bistro',\n",
       "       'Casola’s Pizzeria & Sub Shop', 'Cerro Negro',\n",
       "       'Chayito’s Fritanga', 'China Express', 'China Steak House 3',\n",
       "       'Chinese Guy', 'Chipotle Mexican Grill', 'Choices Kitchen',\n",
       "       'Chuck Wagon Restaurant', 'Churchill’s', 'CinéBistro',\n",
       "       'City Hall Restaurant', 'Coco Baleadas',\n",
       "       'Coconut Grove Saturday Organic Market', 'CraveClean',\n",
       "       'Crazy About You', 'Crumb on Parchment', 'DB Bistro Moderne',\n",
       "       'Daily Bread Marketplace', 'Delices De France',\n",
       "       'Delicias de España', 'Delirio Fresh Co.', 'Dim Ssäm à gogo',\n",
       "       'Doggi’s Venezuelan Cuisine', 'Don Burrito', 'Duffy’s Tavern',\n",
       "       'D’oro Caffe & Market', 'Earls Kitchen + Bar',\n",
       "       'East Thai & Noodle House', 'Edge Steak & Bar', 'El Atlakat',\n",
       "       'El Atlakat Restaurant', 'El Brazo Fuerte Bakery',\n",
       "       'El Carajo International Tapas & Wine', 'El Chalán',\n",
       "       'El Cristo Restaurant & Catering', 'El Exquisito Restaurant',\n",
       "       'El Floridita Seafood Restaurant', 'El Novillo Restaurant',\n",
       "       'El Nuevo Siglo Supermarket', 'El Palacio De Los Jugos',\n",
       "       'El Palacio de los Jugos',\n",
       "       'El Rancho Grande Mexican Restaurant Kendall',\n",
       "       'El Rey De Las Fritas', 'El Rincon Asturiano',\n",
       "       'El Rinconcito Latino', 'El Taquito', 'El Toro Loco Churrascaria',\n",
       "       'Embarcadero 41 Fusion', 'Eternity Coffee Roasters',\n",
       "       'Fabulous Ice Cream & Cafe', 'Fado Irish Pub & Restaurant',\n",
       "       'Fiorito', 'Five Guys Burgers and Fries',\n",
       "       'Flanigan’s Seafood Bar & Grill', 'Fooq’s', 'Frankie’s Pizza',\n",
       "       'Fratelli Milano', 'Fresco California Bistro',\n",
       "       'Fritanga Cana Brava', 'Fuddruckers', 'GRILLIT',\n",
       "       'Giardino Gourmet Salads', 'Gigi', 'Gourmet Gourmet', 'Gramps',\n",
       "       'Graziano’s Restaurant', 'Gyroville', 'Gyu-Kaku Japanese BBQ',\n",
       "       'Hannya', 'Happy Wine in The Grove', 'Harry’s Pizzeria',\n",
       "       'Hereford Grill', 'Hoy Como Ayer', 'Hungry Bear Sub Shop',\n",
       "       'Hy-Vong Vietnamese Cuisine', 'Il Bambino Ristorante',\n",
       "       'Il Gabbiano', 'Islas Canarias Restaurant',\n",
       "       'Jacalito Taqueria Mexicana', 'Jaguar Ceviche Spoon Bar',\n",
       "       'Jamaica Kitchen',\n",
       "       'Jamon Iberico Pata Negra Restaurant Tapas & Wine Bar',\n",
       "       'Jardim de Portugal', 'Jimmy’z Kitchen Pinecrest',\n",
       "       'Jimmy’z Kitchen Wynwood', 'Joanna’s Marketplace',\n",
       "       'Kam Wah Restaurant', 'Karla Bakery', 'Kon Chau Restaurant',\n",
       "       'Ku-Va', 'Kush', 'La Cabana Paisa Grill', 'La Carreta',\n",
       "       'La Carreta Restaurant', 'La Crepe Bistro', 'La Gamba Restaurant',\n",
       "       'La Mar by Gastón Acurio', 'La Moon Restaurant',\n",
       "       'La Nonna Italian Restaurant', 'La Patagonia Argentina', 'La Rosa',\n",
       "       'La Sandwicherie Brickell', 'La Suiza Bakery', 'Lagniappe',\n",
       "       'Lan Pan Asian Cafe', 'Latin American Bakery & Cafe',\n",
       "       'Latin Cafe 2000', 'Latin House', 'Latinlite by Fat Busters',\n",
       "       'Lekoke Wines & Bites', 'Lemoni Café', 'Leo’s Pizza',\n",
       "       'Lime Fresh Mexican Grill', 'Little Bread', 'LoKal',\n",
       "       'Lola’s Gourmet', 'Los Gallegos Restaurant', 'Los Magueyes',\n",
       "       'Lotus Garden', 'Luis Galindo’s Latin American',\n",
       "       'Lulu in the Grove', 'MAO Colombian Fast Food',\n",
       "       'Madrid Restaurant Tapas Y Vinos', 'Madrono Restaurant',\n",
       "       'Mandolin Aegean Bistro', 'Maria’s Greek Restaurant',\n",
       "       'Marlins Park', 'Maximo Gomez Park / Domino Park',\n",
       "       'Mi Rinconcito Mexicano', 'Michael’s Genuine Food & Drink',\n",
       "       'Midtown Oyster Bar', 'Mignonette', 'Moe’z Express',\n",
       "       'Morgan’s Restaurant', 'Morro Castle',\n",
       "       'Moulin Rose Cake & Bakery Shop', 'Moye', 'Mr. Yum',\n",
       "       'Ms. Cheezious Fresh Made Grilled Cheese - Food Truck',\n",
       "       'Ms. Cheezious Restaurant', 'My Ceviche', 'NAOE', 'NIU Kitchen',\n",
       "       'NOA Cafe', 'Neighborhood Bistro', 'Ni.Do. Caffe',\n",
       "       'Nikko By Sunshine', 'Norman Produce', 'Off The Grille Kendall',\n",
       "       'Old Lisbon Restaurants - Coral Way',\n",
       "       'Oriental Bakery & Grocery Co', 'Osteria Vecchio Piemonte',\n",
       "       'PDQ Miami: Flagler Street', 'PM Fish & Steak House',\n",
       "       'Palatino Jamaican Restaurant', 'Panther Coffee',\n",
       "       'Papo Llega Y Pon', 'Paseo Catracho', 'Pauloluigi To Go',\n",
       "       'Peacock Garden Cafe', 'Pekin Restaurant',\n",
       "       'Perricone’s Marketplace & Cafe', 'Pinolandia', 'Pizza Johny’s',\n",
       "       'Pizzarium - A Slice of Rome', 'Plate', 'Pollos Y Jarras',\n",
       "       'Power Pizza', 'Prohibition Restaurant and Speakeasy',\n",
       "       'Proof Pizza & Pasta', 'Pueblito Viejo No 2',\n",
       "       'ROK BRGR burger bar + gastropub', 'Raw South Juice Co.',\n",
       "       'Rice House of Kabob', 'Rincon Antioqueno Restaurant',\n",
       "       'Rincon Criollo Restaurant', 'Rincon Escondido Tapas',\n",
       "       'Roasters’ n Toasters', 'Romeo’s Cafe', 'Royal Thai Restaurant',\n",
       "       'Sakura Sushi & Bar', 'Salsa Fiesta', 'Salumeria 104',\n",
       "       'Salvatore D Finest Italian Cuisine', 'San Pocho',\n",
       "       'Sarussi Cafeteria', 'Scully’s Tavern', 'Secreto Restaurant',\n",
       "       'Sedici Café Grill', 'Sergio’s', 'Shaddai Fine Lebanese Cuisine',\n",
       "       'Shinju Japanese Buffet', 'Shokudo', 'Shorty’s Bar-B-Q',\n",
       "       'Siam Bistro', 'Siam Palace', 'Smart Bites Cafe', 'Smoothie Spot',\n",
       "       'Soya e Pomodoro', 'Sparky’s Roadside Barbecue', 'Spice N Curry',\n",
       "       'Splitsville', 'Sports Grill Sunset', 'Stanzione 87', 'Starbucks',\n",
       "       'Steak Brasil Churrascaria', 'Stoupsy’s of Athens',\n",
       "       'Strada In The Grove', 'SuViche', 'Subs on the Run',\n",
       "       'Sugarcane Raw Bar Grill', 'Super Subs', 'Sushi 2 Mee Cafe',\n",
       "       'Sushi Cafe & Shilla Korean BBQ', 'Sushi Ko', 'Suviche',\n",
       "       'Sweat Records', 'Sweet Dogs', 'Taco Rico Tex Mex Cafe',\n",
       "       'Tacos and Tattoos', 'Tamarina', 'Tani Thai Restaurant',\n",
       "       'Taqueria El Carnal', 'Taqueria Viva México',\n",
       "       'Taquerias El Mexicano', 'Taurus', 'Ten Fruits', 'Texas Roadhouse',\n",
       "       'Texas de Brazil', 'The Barnacle Historic State Park',\n",
       "       'The Big Cheese Of Miami', 'The Big Tomato',\n",
       "       'The Bookstore In the Grove', 'The Capital Grille',\n",
       "       'The Cheese Course', 'The Cheesecake Factory', 'The Corner',\n",
       "       'The Fish House', 'The Last Carrot', 'The Middle East Best Food',\n",
       "       'The Mighty', 'The Original Crab House',\n",
       "       'The River Seafood & Oyster Bar', 'The Sushi Bar', 'Tinta y Café',\n",
       "       'Toasted Bagelry & Deli', 'Tokyo Blue Miami',\n",
       "       'Toro Toro Restaurant', 'Toscana Divino', 'Town Kitchen & Bar',\n",
       "       'Tropical Chinese Restaurant', 'Tropical Park', 'Truluck’s',\n",
       "       'Tuto’s Place', 'Tutto Pasta', 'Tutto Pizza Beer House',\n",
       "       'VERO Italian', 'Vapiano', 'Vegan & Juice',\n",
       "       'Versailles Restaurant', 'Vinos In the Grove',\n",
       "       'Vintage Liquor & Wine Bar', 'Vizcaya Museum and Gardens',\n",
       "       'WHISK Gourmet Food & Catering', 'Wolfgang’s Steakhouse',\n",
       "       'Wood Tavern', 'World of Beer', 'Wynwood Kitchen & Bar',\n",
       "       'Xixón Spanish Restaurant', 'YUZU Frozen Yogurt and Crêpes',\n",
       "       'Yambo Restaurant', 'Zuma', 'eCafé', 'specialTEA Lounge'],\n",
       "      dtype=object)"
      ]
     },
     "execution_count": 41,
     "metadata": {},
     "output_type": "execute_result"
    }
   ],
   "source": [
    "restaurants = np.load(f\"{root}/restaurants.npy\", allow_pickle=True)\n",
    "restaurants"
   ]
  },
  {
   "cell_type": "code",
   "execution_count": 43,
   "metadata": {},
   "outputs": [],
   "source": [
    "df_rest = pd.DataFrame(data={\"restaurant\": restaurants})\n",
    "df_rest.to_csv(f\"{root}/restaurants.csv\", index=False)"
   ]
  },
  {
   "cell_type": "markdown",
   "metadata": {},
   "source": [
    "## True labels\n",
    "\n",
    "Type (restaurant, bar, coffee...) and cousine (american, cuban, spanish...) of restaurants from Google Maps"
   ]
  },
  {
   "cell_type": "code",
   "execution_count": 5,
   "metadata": {},
   "outputs": [
    {
     "data": {
      "text/html": [
       "<div>\n",
       "<style scoped>\n",
       "    .dataframe tbody tr th:only-of-type {\n",
       "        vertical-align: middle;\n",
       "    }\n",
       "\n",
       "    .dataframe tbody tr th {\n",
       "        vertical-align: top;\n",
       "    }\n",
       "\n",
       "    .dataframe thead th {\n",
       "        text-align: right;\n",
       "    }\n",
       "</style>\n",
       "<table border=\"1\" class=\"dataframe\">\n",
       "  <thead>\n",
       "    <tr style=\"text-align: right;\">\n",
       "      <th></th>\n",
       "      <th>restaurant</th>\n",
       "      <th>type</th>\n",
       "      <th>cousine</th>\n",
       "    </tr>\n",
       "  </thead>\n",
       "  <tbody>\n",
       "    <tr>\n",
       "      <th>0</th>\n",
       "      <td>100 Montaditos</td>\n",
       "      <td>restaurant</td>\n",
       "      <td>spanish</td>\n",
       "    </tr>\n",
       "    <tr>\n",
       "      <th>1</th>\n",
       "      <td>180° @ The DRB</td>\n",
       "      <td>pub</td>\n",
       "      <td>-</td>\n",
       "    </tr>\n",
       "    <tr>\n",
       "      <th>2</th>\n",
       "      <td>3 Chefs And A Chicken</td>\n",
       "      <td>restaurant</td>\n",
       "      <td>takeout</td>\n",
       "    </tr>\n",
       "    <tr>\n",
       "      <th>3</th>\n",
       "      <td>A-Mari-Mix Fresh Mex Fusion</td>\n",
       "      <td>restaurant</td>\n",
       "      <td>mexican</td>\n",
       "    </tr>\n",
       "    <tr>\n",
       "      <th>4</th>\n",
       "      <td>AD Barnes Park</td>\n",
       "      <td>park</td>\n",
       "      <td>-</td>\n",
       "    </tr>\n",
       "    <tr>\n",
       "      <th>...</th>\n",
       "      <td>...</td>\n",
       "      <td>...</td>\n",
       "      <td>...</td>\n",
       "    </tr>\n",
       "    <tr>\n",
       "      <th>328</th>\n",
       "      <td>YUZU Frozen Yogurt and Crêpes</td>\n",
       "      <td>yogurt</td>\n",
       "      <td>-</td>\n",
       "    </tr>\n",
       "    <tr>\n",
       "      <th>329</th>\n",
       "      <td>Yambo Restaurant</td>\n",
       "      <td>restaurant</td>\n",
       "      <td>nicaraguan</td>\n",
       "    </tr>\n",
       "    <tr>\n",
       "      <th>330</th>\n",
       "      <td>Zuma</td>\n",
       "      <td>restaurant</td>\n",
       "      <td>japanese</td>\n",
       "    </tr>\n",
       "    <tr>\n",
       "      <th>331</th>\n",
       "      <td>eCafé</td>\n",
       "      <td>coffee</td>\n",
       "      <td>-</td>\n",
       "    </tr>\n",
       "    <tr>\n",
       "      <th>332</th>\n",
       "      <td>specialTEA Lounge</td>\n",
       "      <td>coffee</td>\n",
       "      <td>-</td>\n",
       "    </tr>\n",
       "  </tbody>\n",
       "</table>\n",
       "<p>333 rows × 3 columns</p>\n",
       "</div>"
      ],
      "text/plain": [
       "                        restaurant        type     cousine\n",
       "0                   100 Montaditos  restaurant     spanish\n",
       "1                   180° @ The DRB         pub           -\n",
       "2            3 Chefs And A Chicken  restaurant     takeout\n",
       "3      A-Mari-Mix Fresh Mex Fusion  restaurant     mexican\n",
       "4                   AD Barnes Park        park           -\n",
       "..                             ...         ...         ...\n",
       "328  YUZU Frozen Yogurt and Crêpes      yogurt           -\n",
       "329               Yambo Restaurant  restaurant  nicaraguan\n",
       "330                           Zuma  restaurant    japanese\n",
       "331                          eCafé      coffee           -\n",
       "332              specialTEA Lounge      coffee           -\n",
       "\n",
       "[333 rows x 3 columns]"
      ]
     },
     "execution_count": 5,
     "metadata": {},
     "output_type": "execute_result"
    }
   ],
   "source": [
    "labels = pd.read_csv(root + \"/restaurants.csv\", sep=\";\")\n",
    "labels"
   ]
  },
  {
   "cell_type": "code",
   "execution_count": 6,
   "metadata": {},
   "outputs": [],
   "source": [
    "labels['combined'] = labels.apply(lambda row: f\"{row['cousine']}_{row['type']}\" if row['cousine'] != '-' else row['type'], axis=1)"
   ]
  },
  {
   "cell_type": "code",
   "execution_count": 7,
   "metadata": {},
   "outputs": [
    {
     "data": {
      "text/html": [
       "<div>\n",
       "<style scoped>\n",
       "    .dataframe tbody tr th:only-of-type {\n",
       "        vertical-align: middle;\n",
       "    }\n",
       "\n",
       "    .dataframe tbody tr th {\n",
       "        vertical-align: top;\n",
       "    }\n",
       "\n",
       "    .dataframe thead th {\n",
       "        text-align: right;\n",
       "    }\n",
       "</style>\n",
       "<table border=\"1\" class=\"dataframe\">\n",
       "  <thead>\n",
       "    <tr style=\"text-align: right;\">\n",
       "      <th></th>\n",
       "      <th>restaurant</th>\n",
       "      <th>type</th>\n",
       "      <th>cousine</th>\n",
       "      <th>combined</th>\n",
       "    </tr>\n",
       "  </thead>\n",
       "  <tbody>\n",
       "    <tr>\n",
       "      <th>0</th>\n",
       "      <td>100 Montaditos</td>\n",
       "      <td>restaurant</td>\n",
       "      <td>spanish</td>\n",
       "      <td>spanish_restaurant</td>\n",
       "    </tr>\n",
       "    <tr>\n",
       "      <th>1</th>\n",
       "      <td>180° @ The DRB</td>\n",
       "      <td>pub</td>\n",
       "      <td>-</td>\n",
       "      <td>pub</td>\n",
       "    </tr>\n",
       "    <tr>\n",
       "      <th>2</th>\n",
       "      <td>3 Chefs And A Chicken</td>\n",
       "      <td>restaurant</td>\n",
       "      <td>takeout</td>\n",
       "      <td>takeout_restaurant</td>\n",
       "    </tr>\n",
       "    <tr>\n",
       "      <th>3</th>\n",
       "      <td>A-Mari-Mix Fresh Mex Fusion</td>\n",
       "      <td>restaurant</td>\n",
       "      <td>mexican</td>\n",
       "      <td>mexican_restaurant</td>\n",
       "    </tr>\n",
       "    <tr>\n",
       "      <th>4</th>\n",
       "      <td>AD Barnes Park</td>\n",
       "      <td>park</td>\n",
       "      <td>-</td>\n",
       "      <td>park</td>\n",
       "    </tr>\n",
       "    <tr>\n",
       "      <th>...</th>\n",
       "      <td>...</td>\n",
       "      <td>...</td>\n",
       "      <td>...</td>\n",
       "      <td>...</td>\n",
       "    </tr>\n",
       "    <tr>\n",
       "      <th>328</th>\n",
       "      <td>YUZU Frozen Yogurt and Crêpes</td>\n",
       "      <td>yogurt</td>\n",
       "      <td>-</td>\n",
       "      <td>yogurt</td>\n",
       "    </tr>\n",
       "    <tr>\n",
       "      <th>329</th>\n",
       "      <td>Yambo Restaurant</td>\n",
       "      <td>restaurant</td>\n",
       "      <td>nicaraguan</td>\n",
       "      <td>nicaraguan_restaurant</td>\n",
       "    </tr>\n",
       "    <tr>\n",
       "      <th>330</th>\n",
       "      <td>Zuma</td>\n",
       "      <td>restaurant</td>\n",
       "      <td>japanese</td>\n",
       "      <td>japanese_restaurant</td>\n",
       "    </tr>\n",
       "    <tr>\n",
       "      <th>331</th>\n",
       "      <td>eCafé</td>\n",
       "      <td>coffee</td>\n",
       "      <td>-</td>\n",
       "      <td>coffee</td>\n",
       "    </tr>\n",
       "    <tr>\n",
       "      <th>332</th>\n",
       "      <td>specialTEA Lounge</td>\n",
       "      <td>coffee</td>\n",
       "      <td>-</td>\n",
       "      <td>coffee</td>\n",
       "    </tr>\n",
       "  </tbody>\n",
       "</table>\n",
       "<p>333 rows × 4 columns</p>\n",
       "</div>"
      ],
      "text/plain": [
       "                        restaurant        type     cousine  \\\n",
       "0                   100 Montaditos  restaurant     spanish   \n",
       "1                   180° @ The DRB         pub           -   \n",
       "2            3 Chefs And A Chicken  restaurant     takeout   \n",
       "3      A-Mari-Mix Fresh Mex Fusion  restaurant     mexican   \n",
       "4                   AD Barnes Park        park           -   \n",
       "..                             ...         ...         ...   \n",
       "328  YUZU Frozen Yogurt and Crêpes      yogurt           -   \n",
       "329               Yambo Restaurant  restaurant  nicaraguan   \n",
       "330                           Zuma  restaurant    japanese   \n",
       "331                          eCafé      coffee           -   \n",
       "332              specialTEA Lounge      coffee           -   \n",
       "\n",
       "                  combined  \n",
       "0       spanish_restaurant  \n",
       "1                      pub  \n",
       "2       takeout_restaurant  \n",
       "3       mexican_restaurant  \n",
       "4                     park  \n",
       "..                     ...  \n",
       "328                 yogurt  \n",
       "329  nicaraguan_restaurant  \n",
       "330    japanese_restaurant  \n",
       "331                 coffee  \n",
       "332                 coffee  \n",
       "\n",
       "[333 rows x 4 columns]"
      ]
     },
     "execution_count": 7,
     "metadata": {},
     "output_type": "execute_result"
    }
   ],
   "source": [
    "labels"
   ]
  },
  {
   "cell_type": "code",
   "execution_count": 8,
   "metadata": {},
   "outputs": [
    {
     "data": {
      "text/plain": [
       "(array(['american_restaurant', 'argentinian_restaurant', 'art_museum',\n",
       "        'asian_restaurant', 'asturian_restaurant', 'bagel', 'bakery',\n",
       "        'bar', 'bistro', 'brasserie', 'brazilian_restaurant',\n",
       "        'brunch_restaurant', 'cake', 'chicken_restaurant',\n",
       "        'chinese_restaurant', 'coffee', 'colombian_restaurant',\n",
       "        'cuban_restaurant', 'event_venue', 'farmers_market',\n",
       "        'fine_dining_restaurant', 'french_restaurant', 'gourmet_grocery',\n",
       "        'greek_restaurant', 'grocery', 'guatemalan_restaurant',\n",
       "        'hamburger', 'health_food_restaurant', 'honduran_restaurant',\n",
       "        'hot_dog_restaurant', 'ice_cream', 'indian_market',\n",
       "        'indonesian_restaurant', 'italian_restaurant',\n",
       "        'jamaican_restaurant', 'japanese_restaurant', 'juice',\n",
       "        'korean_restaurant', 'latin_american_restaurant',\n",
       "        'lebanese_restaurant', 'live_music_bar', 'market',\n",
       "        'mediterranean_restaurant', 'mexican_restaurant',\n",
       "        'middle_eastern_restaurant', 'nicaraguan_restaurant', 'night_club',\n",
       "        'park', 'peruvian_restaurant', 'pizza_restaurant',\n",
       "        'portuguese_restaurant', 'pub', 'puerto_rican_restaurant',\n",
       "        'restaurant', 'salad', 'salvadoran_restaurant', 'sandwich',\n",
       "        'seafood_restaurant', 'south_american_restaurant',\n",
       "        'spanish_restaurant', 'steak_house', 'tacos_restaurant',\n",
       "        'takeout_restaurant', 'tapas_bar', 'tapas_restaurant',\n",
       "        'thai_restaurant', 'vegan_restaurant', 'venezuelan_restaurant',\n",
       "        'vietnamese_restaurant', 'wine_bar', 'yogurt'], dtype=object),\n",
       " array([11,  4,  1,  5,  1,  1,  9, 12,  1,  1,  1,  1,  1,  1,  9, 11,  5,\n",
       "        21,  1,  1,  1,  5,  1,  4,  1,  1,  5,  4,  1,  2,  2,  1,  1, 20,\n",
       "         2, 12,  2,  1,  3,  1,  1,  2,  3, 14,  2,  7,  1,  7,  3, 15,  2,\n",
       "         4,  2, 35,  1,  2,  7, 10,  1, 11,  9,  1,  1,  3,  1, 11,  2,  2,\n",
       "         1,  3,  1]))"
      ]
     },
     "execution_count": 8,
     "metadata": {},
     "output_type": "execute_result"
    }
   ],
   "source": [
    "np.unique(labels[\"combined\"].to_numpy(), return_counts=True)"
   ]
  },
  {
   "cell_type": "code",
   "execution_count": 14,
   "metadata": {},
   "outputs": [
    {
     "data": {
      "text/plain": [
       "(22,)"
      ]
     },
     "execution_count": 14,
     "metadata": {},
     "output_type": "execute_result"
    }
   ],
   "source": [
    "types = np.unique(labels[\"type\"].to_numpy())\n",
    "types.shape"
   ]
  },
  {
   "cell_type": "code",
   "execution_count": 19,
   "metadata": {},
   "outputs": [],
   "source": [
    "restaurant_type = labels[\"type\"].to_numpy()\n",
    "np.save(f\"{root}/restaurant_type_str.npy\", restaurant_type)\n",
    "\n",
    "restaurant_cousine = labels[\"combined\"].to_numpy()\n",
    "np.save(f\"{root}/restaurant_type_cousine_str.npy\", restaurant_cousine)"
   ]
  },
  {
   "cell_type": "code",
   "execution_count": 15,
   "metadata": {},
   "outputs": [
    {
     "data": {
      "text/plain": [
       "(333,)"
      ]
     },
     "execution_count": 15,
     "metadata": {},
     "output_type": "execute_result"
    }
   ],
   "source": [
    "restaurant_type.shape"
   ]
  },
  {
   "cell_type": "code",
   "execution_count": 20,
   "metadata": {},
   "outputs": [
    {
     "name": "stdout",
     "output_type": "stream",
     "text": [
      "[17 16 17 17 15  1 17  6 17 17 17  8 17 17  1 17 17 17  2 17 17 17  2 17\n",
      " 17 17 19 10  2  2 15 17 17 17 17  2 14 15 17 17 17 17  5 17  9 17 17 17\n",
      "  7 17 17  2 17 17 17 17 17 17 17 17 17 17 17 17 17 17 17 16 17 17 17 12\n",
      "  1 17  1 17 17 17 17 17 17 17 17 17 17 17 17  4 17 17  1 17 17 17 17 17\n",
      " 17 12 17 17 17 17 17 17 17 17 17  6 10 16 17  9 17 17 17 17 17 17  9 17\n",
      " 18 17 17  2 17 17 17 17  2 17 20 17 19 17 17 17 17 17 17 17 17 17 17 17\n",
      "  1 17  1 17 17  2 17 17 17 17  2 17 17 17 17 17 19  1  2 17 17 17 17 17\n",
      "  2 17 17 17 17  9 17 17 17 17 17 17 17 17 17 17 17 15 15 17 17 17 17 19\n",
      " 17 19  1 17 17 17 17 17 17 17 17 17 17 17 12 17 17 17 17 17 20 17  6 17\n",
      " 17 17 17 17 17 17 17 17 17 17 17 17 17 17  9 11 17 17 17 17 19  6 17 17\n",
      " 17 17 17 17 17 16 17  6 17 17 17 17 20 17 17 17 17 17 20 12 17  2 17  6\n",
      " 20 17 17 17 19 20 17 17 17 17 17  6 17 17 17 17 17 17 17 17  2 11 20 20\n",
      " 15 17 17  6 17  3 17  2 17 17  8 17 17 17 17  6  0 17 17 17  2 17 15 17\n",
      " 17 17 17 17 17 17 17  2  2 13 17 20  2 17 17 17 21 17 17  6  6]\n"
     ]
    }
   ],
   "source": [
    "indices = np.searchsorted(types, restaurant_type)\n",
    "np.save(f\"{root}/restaurant_type.npy\", indices)\n",
    "print(indices)"
   ]
  },
  {
   "cell_type": "code",
   "execution_count": 17,
   "metadata": {},
   "outputs": [
    {
     "data": {
      "text/plain": [
       "array(['bagel', 'bakery', 'bar', 'bistro', 'brasserie', 'cake', 'coffee',\n",
       "       'event_venue', 'grocery', 'hamburger', 'ice_cream', 'juice',\n",
       "       'market', 'museum', 'night_club', 'park', 'pub', 'restaurant',\n",
       "       'salad', 'sandwich', 'steak_house', 'yogurt'], dtype=object)"
      ]
     },
     "execution_count": 17,
     "metadata": {},
     "output_type": "execute_result"
    }
   ],
   "source": [
    "types"
   ]
  },
  {
   "cell_type": "code",
   "execution_count": 18,
   "metadata": {},
   "outputs": [
    {
     "data": {
      "text/plain": [
       "array(['restaurant', 'pub', 'restaurant', 'restaurant', 'park', 'bakery',\n",
       "       'restaurant', 'coffee', 'restaurant', 'restaurant', 'restaurant',\n",
       "       'grocery', 'restaurant', 'restaurant', 'bakery', 'restaurant',\n",
       "       'restaurant', 'restaurant', 'bar', 'restaurant', 'restaurant',\n",
       "       'restaurant', 'bar', 'restaurant', 'restaurant', 'restaurant',\n",
       "       'sandwich', 'ice_cream', 'bar', 'bar', 'park', 'restaurant',\n",
       "       'restaurant', 'restaurant', 'restaurant', 'bar', 'night_club',\n",
       "       'park', 'restaurant', 'restaurant', 'restaurant', 'restaurant',\n",
       "       'cake', 'restaurant', 'hamburger', 'restaurant', 'restaurant',\n",
       "       'restaurant', 'event_venue', 'restaurant', 'restaurant', 'bar',\n",
       "       'restaurant', 'restaurant', 'restaurant', 'restaurant',\n",
       "       'restaurant', 'restaurant', 'restaurant', 'restaurant',\n",
       "       'restaurant', 'restaurant', 'restaurant', 'restaurant',\n",
       "       'restaurant', 'restaurant', 'restaurant', 'pub', 'restaurant',\n",
       "       'restaurant', 'restaurant', 'market', 'bakery', 'restaurant',\n",
       "       'bakery', 'restaurant', 'restaurant', 'restaurant', 'restaurant',\n",
       "       'restaurant', 'restaurant', 'restaurant', 'restaurant',\n",
       "       'restaurant', 'restaurant', 'restaurant', 'restaurant',\n",
       "       'brasserie', 'restaurant', 'restaurant', 'bakery', 'restaurant',\n",
       "       'restaurant', 'restaurant', 'restaurant', 'restaurant',\n",
       "       'restaurant', 'market', 'restaurant', 'restaurant', 'restaurant',\n",
       "       'restaurant', 'restaurant', 'restaurant', 'restaurant',\n",
       "       'restaurant', 'restaurant', 'coffee', 'ice_cream', 'pub',\n",
       "       'restaurant', 'hamburger', 'restaurant', 'restaurant',\n",
       "       'restaurant', 'restaurant', 'restaurant', 'restaurant',\n",
       "       'hamburger', 'restaurant', 'salad', 'restaurant', 'restaurant',\n",
       "       'bar', 'restaurant', 'restaurant', 'restaurant', 'restaurant',\n",
       "       'bar', 'restaurant', 'steak_house', 'restaurant', 'sandwich',\n",
       "       'restaurant', 'restaurant', 'restaurant', 'restaurant',\n",
       "       'restaurant', 'restaurant', 'restaurant', 'restaurant',\n",
       "       'restaurant', 'restaurant', 'restaurant', 'bakery', 'restaurant',\n",
       "       'bakery', 'restaurant', 'restaurant', 'bar', 'restaurant',\n",
       "       'restaurant', 'restaurant', 'restaurant', 'bar', 'restaurant',\n",
       "       'restaurant', 'restaurant', 'restaurant', 'restaurant', 'sandwich',\n",
       "       'bakery', 'bar', 'restaurant', 'restaurant', 'restaurant',\n",
       "       'restaurant', 'restaurant', 'bar', 'restaurant', 'restaurant',\n",
       "       'restaurant', 'restaurant', 'hamburger', 'restaurant',\n",
       "       'restaurant', 'restaurant', 'restaurant', 'restaurant',\n",
       "       'restaurant', 'restaurant', 'restaurant', 'restaurant',\n",
       "       'restaurant', 'restaurant', 'park', 'park', 'restaurant',\n",
       "       'restaurant', 'restaurant', 'restaurant', 'sandwich', 'restaurant',\n",
       "       'sandwich', 'bakery', 'restaurant', 'restaurant', 'restaurant',\n",
       "       'restaurant', 'restaurant', 'restaurant', 'restaurant',\n",
       "       'restaurant', 'restaurant', 'restaurant', 'restaurant', 'market',\n",
       "       'restaurant', 'restaurant', 'restaurant', 'restaurant',\n",
       "       'restaurant', 'steak_house', 'restaurant', 'coffee', 'restaurant',\n",
       "       'restaurant', 'restaurant', 'restaurant', 'restaurant',\n",
       "       'restaurant', 'restaurant', 'restaurant', 'restaurant',\n",
       "       'restaurant', 'restaurant', 'restaurant', 'restaurant',\n",
       "       'restaurant', 'restaurant', 'hamburger', 'juice', 'restaurant',\n",
       "       'restaurant', 'restaurant', 'restaurant', 'sandwich', 'coffee',\n",
       "       'restaurant', 'restaurant', 'restaurant', 'restaurant',\n",
       "       'restaurant', 'restaurant', 'restaurant', 'pub', 'restaurant',\n",
       "       'coffee', 'restaurant', 'restaurant', 'restaurant', 'restaurant',\n",
       "       'steak_house', 'restaurant', 'restaurant', 'restaurant',\n",
       "       'restaurant', 'restaurant', 'steak_house', 'market', 'restaurant',\n",
       "       'bar', 'restaurant', 'coffee', 'steak_house', 'restaurant',\n",
       "       'restaurant', 'restaurant', 'sandwich', 'steak_house',\n",
       "       'restaurant', 'restaurant', 'restaurant', 'restaurant',\n",
       "       'restaurant', 'coffee', 'restaurant', 'restaurant', 'restaurant',\n",
       "       'restaurant', 'restaurant', 'restaurant', 'restaurant',\n",
       "       'restaurant', 'bar', 'juice', 'steak_house', 'steak_house', 'park',\n",
       "       'restaurant', 'restaurant', 'coffee', 'restaurant', 'bistro',\n",
       "       'restaurant', 'bar', 'restaurant', 'restaurant', 'grocery',\n",
       "       'restaurant', 'restaurant', 'restaurant', 'restaurant', 'coffee',\n",
       "       'bagel', 'restaurant', 'restaurant', 'restaurant', 'bar',\n",
       "       'restaurant', 'park', 'restaurant', 'restaurant', 'restaurant',\n",
       "       'restaurant', 'restaurant', 'restaurant', 'restaurant',\n",
       "       'restaurant', 'bar', 'bar', 'museum', 'restaurant', 'steak_house',\n",
       "       'bar', 'restaurant', 'restaurant', 'restaurant', 'yogurt',\n",
       "       'restaurant', 'restaurant', 'coffee', 'coffee'], dtype=object)"
      ]
     },
     "execution_count": 18,
     "metadata": {},
     "output_type": "execute_result"
    }
   ],
   "source": [
    "restaurant_type"
   ]
  },
  {
   "cell_type": "code",
   "execution_count": null,
   "metadata": {},
   "outputs": [],
   "source": []
  }
 ],
 "metadata": {
  "kernelspec": {
   "display_name": "coclus",
   "language": "python",
   "name": "coclus"
  },
  "language_info": {
   "codemirror_mode": {
    "name": "ipython",
    "version": 3
   },
   "file_extension": ".py",
   "mimetype": "text/x-python",
   "name": "python",
   "nbconvert_exporter": "python",
   "pygments_lexer": "ipython3",
   "version": "3.8.10"
  }
 },
 "nbformat": 4,
 "nbformat_minor": 2
}
