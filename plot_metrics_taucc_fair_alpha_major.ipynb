{
 "cells": [
  {
   "cell_type": "code",
   "execution_count": 1,
   "id": "cabfc1bd",
   "metadata": {},
   "outputs": [],
   "source": [
    "import os\n",
    "import pandas as pd\n",
    "import numpy as np\n",
    "import matplotlib.pyplot as plt"
   ]
  },
  {
   "cell_type": "code",
   "execution_count": 2,
   "id": "24e6f7a9",
   "metadata": {},
   "outputs": [
    {
     "data": {
      "text/plain": [
       "'./fair_taucc'"
      ]
     },
     "execution_count": 2,
     "metadata": {},
     "output_type": "execute_result"
    }
   ],
   "source": [
    "root = os.getcwd()\n",
    "root "
   ]
  },
  {
   "cell_type": "code",
   "execution_count": 3,
   "id": "0099e343",
   "metadata": {},
   "outputs": [],
   "source": [
    "dataset = \"movielens-1m\"\n",
    "sensitive = \"gender\"\n",
    "alpha = 1.0"
   ]
  },
  {
   "cell_type": "code",
   "execution_count": 4,
   "id": "69418ad2",
   "metadata": {},
   "outputs": [
    {
     "data": {
      "text/html": [
       "<div>\n",
       "<style scoped>\n",
       "    .dataframe tbody tr th:only-of-type {\n",
       "        vertical-align: middle;\n",
       "    }\n",
       "\n",
       "    .dataframe tbody tr th {\n",
       "        vertical-align: top;\n",
       "    }\n",
       "\n",
       "    .dataframe thead th {\n",
       "        text-align: right;\n",
       "    }\n",
       "</style>\n",
       "<table border=\"1\" class=\"dataframe\">\n",
       "  <thead>\n",
       "    <tr style=\"text-align: right;\">\n",
       "      <th></th>\n",
       "      <th>fair_major</th>\n",
       "      <th>fair_minor</th>\n",
       "      <th>tau_x_mean</th>\n",
       "      <th>tau_y_mean</th>\n",
       "      <th>NMI_true_labels_mean</th>\n",
       "      <th>AMI_true_labels_mean</th>\n",
       "      <th>ARI_true_labels_mean</th>\n",
       "      <th>NMI_rows_mean</th>\n",
       "      <th>AMI_rows_mean</th>\n",
       "      <th>ARI_rows_mean</th>\n",
       "      <th>...</th>\n",
       "      <th>NMI_rows_var</th>\n",
       "      <th>AMI_rows_var</th>\n",
       "      <th>ARI_rows_var</th>\n",
       "      <th>NMI_cols_var</th>\n",
       "      <th>AMI_cols_var</th>\n",
       "      <th>ARI_cols_var</th>\n",
       "      <th>balance_chierichetti_var</th>\n",
       "      <th>balance_bera_var</th>\n",
       "      <th>KL_fairness_error_var</th>\n",
       "      <th>time_var</th>\n",
       "    </tr>\n",
       "  </thead>\n",
       "  <tbody>\n",
       "    <tr>\n",
       "      <th>110</th>\n",
       "      <td>1.0</td>\n",
       "      <td>0.0</td>\n",
       "      <td>0.111630</td>\n",
       "      <td>0.110607</td>\n",
       "      <td>0.116889</td>\n",
       "      <td>0.114917</td>\n",
       "      <td>0.102512</td>\n",
       "      <td>0.677707</td>\n",
       "      <td>0.677661</td>\n",
       "      <td>0.733491</td>\n",
       "      <td>...</td>\n",
       "      <td>0.024470</td>\n",
       "      <td>0.024481</td>\n",
       "      <td>0.034612</td>\n",
       "      <td>0.024940</td>\n",
       "      <td>0.024957</td>\n",
       "      <td>0.030029</td>\n",
       "      <td>4.931726e-04</td>\n",
       "      <td>0.002113</td>\n",
       "      <td>4.404785e-05</td>\n",
       "      <td>2418.112476</td>\n",
       "    </tr>\n",
       "    <tr>\n",
       "      <th>111</th>\n",
       "      <td>1.0</td>\n",
       "      <td>0.1</td>\n",
       "      <td>0.106110</td>\n",
       "      <td>0.105168</td>\n",
       "      <td>0.126499</td>\n",
       "      <td>0.124440</td>\n",
       "      <td>0.108950</td>\n",
       "      <td>0.638921</td>\n",
       "      <td>0.638867</td>\n",
       "      <td>0.686942</td>\n",
       "      <td>...</td>\n",
       "      <td>0.020141</td>\n",
       "      <td>0.020151</td>\n",
       "      <td>0.034580</td>\n",
       "      <td>0.018500</td>\n",
       "      <td>0.018514</td>\n",
       "      <td>0.021217</td>\n",
       "      <td>4.016613e-03</td>\n",
       "      <td>0.020524</td>\n",
       "      <td>9.459046e-04</td>\n",
       "      <td>1637.982667</td>\n",
       "    </tr>\n",
       "    <tr>\n",
       "      <th>112</th>\n",
       "      <td>1.0</td>\n",
       "      <td>0.2</td>\n",
       "      <td>0.101809</td>\n",
       "      <td>0.099417</td>\n",
       "      <td>0.121240</td>\n",
       "      <td>0.118905</td>\n",
       "      <td>0.095307</td>\n",
       "      <td>0.560552</td>\n",
       "      <td>0.560480</td>\n",
       "      <td>0.593565</td>\n",
       "      <td>...</td>\n",
       "      <td>0.032511</td>\n",
       "      <td>0.032526</td>\n",
       "      <td>0.052039</td>\n",
       "      <td>0.027189</td>\n",
       "      <td>0.027209</td>\n",
       "      <td>0.032304</td>\n",
       "      <td>1.924494e-03</td>\n",
       "      <td>0.008817</td>\n",
       "      <td>1.541756e-04</td>\n",
       "      <td>1033.204918</td>\n",
       "    </tr>\n",
       "    <tr>\n",
       "      <th>113</th>\n",
       "      <td>1.0</td>\n",
       "      <td>0.3</td>\n",
       "      <td>0.110575</td>\n",
       "      <td>0.111940</td>\n",
       "      <td>0.122319</td>\n",
       "      <td>0.120495</td>\n",
       "      <td>0.110735</td>\n",
       "      <td>0.713102</td>\n",
       "      <td>0.713065</td>\n",
       "      <td>0.777796</td>\n",
       "      <td>...</td>\n",
       "      <td>0.007065</td>\n",
       "      <td>0.007068</td>\n",
       "      <td>0.010695</td>\n",
       "      <td>0.006142</td>\n",
       "      <td>0.006147</td>\n",
       "      <td>0.006894</td>\n",
       "      <td>6.255552e-04</td>\n",
       "      <td>0.002862</td>\n",
       "      <td>2.512370e-04</td>\n",
       "      <td>3227.662039</td>\n",
       "    </tr>\n",
       "    <tr>\n",
       "      <th>114</th>\n",
       "      <td>1.0</td>\n",
       "      <td>0.4</td>\n",
       "      <td>0.108991</td>\n",
       "      <td>0.107981</td>\n",
       "      <td>0.115088</td>\n",
       "      <td>0.113116</td>\n",
       "      <td>0.099038</td>\n",
       "      <td>0.652160</td>\n",
       "      <td>0.652109</td>\n",
       "      <td>0.706476</td>\n",
       "      <td>...</td>\n",
       "      <td>0.026274</td>\n",
       "      <td>0.026286</td>\n",
       "      <td>0.040755</td>\n",
       "      <td>0.026612</td>\n",
       "      <td>0.026631</td>\n",
       "      <td>0.031590</td>\n",
       "      <td>1.324141e-03</td>\n",
       "      <td>0.006221</td>\n",
       "      <td>1.756902e-04</td>\n",
       "      <td>775.718988</td>\n",
       "    </tr>\n",
       "    <tr>\n",
       "      <th>115</th>\n",
       "      <td>1.0</td>\n",
       "      <td>0.5</td>\n",
       "      <td>0.110396</td>\n",
       "      <td>0.109000</td>\n",
       "      <td>0.112919</td>\n",
       "      <td>0.110931</td>\n",
       "      <td>0.098209</td>\n",
       "      <td>0.674994</td>\n",
       "      <td>0.674948</td>\n",
       "      <td>0.735967</td>\n",
       "      <td>...</td>\n",
       "      <td>0.017462</td>\n",
       "      <td>0.017470</td>\n",
       "      <td>0.025157</td>\n",
       "      <td>0.019590</td>\n",
       "      <td>0.019604</td>\n",
       "      <td>0.021299</td>\n",
       "      <td>2.690543e-04</td>\n",
       "      <td>0.001120</td>\n",
       "      <td>1.378539e-05</td>\n",
       "      <td>1379.062302</td>\n",
       "    </tr>\n",
       "    <tr>\n",
       "      <th>116</th>\n",
       "      <td>1.0</td>\n",
       "      <td>0.6</td>\n",
       "      <td>0.098336</td>\n",
       "      <td>0.099441</td>\n",
       "      <td>0.118727</td>\n",
       "      <td>0.116613</td>\n",
       "      <td>0.105999</td>\n",
       "      <td>0.567669</td>\n",
       "      <td>0.567600</td>\n",
       "      <td>0.621907</td>\n",
       "      <td>...</td>\n",
       "      <td>0.050733</td>\n",
       "      <td>0.050755</td>\n",
       "      <td>0.062144</td>\n",
       "      <td>0.026566</td>\n",
       "      <td>0.026581</td>\n",
       "      <td>0.022667</td>\n",
       "      <td>1.940769e-03</td>\n",
       "      <td>0.008809</td>\n",
       "      <td>6.751974e-04</td>\n",
       "      <td>34146.235952</td>\n",
       "    </tr>\n",
       "    <tr>\n",
       "      <th>117</th>\n",
       "      <td>1.0</td>\n",
       "      <td>0.7</td>\n",
       "      <td>0.106991</td>\n",
       "      <td>0.105056</td>\n",
       "      <td>0.112522</td>\n",
       "      <td>0.110521</td>\n",
       "      <td>0.100468</td>\n",
       "      <td>0.683600</td>\n",
       "      <td>0.683557</td>\n",
       "      <td>0.752718</td>\n",
       "      <td>...</td>\n",
       "      <td>0.004841</td>\n",
       "      <td>0.004844</td>\n",
       "      <td>0.007199</td>\n",
       "      <td>0.006403</td>\n",
       "      <td>0.006409</td>\n",
       "      <td>0.004845</td>\n",
       "      <td>4.588145e-04</td>\n",
       "      <td>0.001939</td>\n",
       "      <td>2.928952e-05</td>\n",
       "      <td>3806.363392</td>\n",
       "    </tr>\n",
       "    <tr>\n",
       "      <th>118</th>\n",
       "      <td>1.0</td>\n",
       "      <td>0.8</td>\n",
       "      <td>0.090258</td>\n",
       "      <td>0.102550</td>\n",
       "      <td>0.118275</td>\n",
       "      <td>0.116199</td>\n",
       "      <td>0.100320</td>\n",
       "      <td>0.542959</td>\n",
       "      <td>0.542873</td>\n",
       "      <td>0.563583</td>\n",
       "      <td>...</td>\n",
       "      <td>0.036987</td>\n",
       "      <td>0.037010</td>\n",
       "      <td>0.063429</td>\n",
       "      <td>0.031118</td>\n",
       "      <td>0.031140</td>\n",
       "      <td>0.036986</td>\n",
       "      <td>1.497374e-04</td>\n",
       "      <td>0.002818</td>\n",
       "      <td>1.324896e-04</td>\n",
       "      <td>17904.026055</td>\n",
       "    </tr>\n",
       "    <tr>\n",
       "      <th>119</th>\n",
       "      <td>1.0</td>\n",
       "      <td>0.9</td>\n",
       "      <td>0.066038</td>\n",
       "      <td>0.087720</td>\n",
       "      <td>0.110980</td>\n",
       "      <td>0.108496</td>\n",
       "      <td>0.089863</td>\n",
       "      <td>0.380173</td>\n",
       "      <td>0.380024</td>\n",
       "      <td>0.361879</td>\n",
       "      <td>...</td>\n",
       "      <td>0.032562</td>\n",
       "      <td>0.032585</td>\n",
       "      <td>0.057353</td>\n",
       "      <td>0.030905</td>\n",
       "      <td>0.030928</td>\n",
       "      <td>0.034361</td>\n",
       "      <td>3.081778e-07</td>\n",
       "      <td>0.006355</td>\n",
       "      <td>3.029491e-04</td>\n",
       "      <td>32644.274811</td>\n",
       "    </tr>\n",
       "    <tr>\n",
       "      <th>120</th>\n",
       "      <td>1.0</td>\n",
       "      <td>1.0</td>\n",
       "      <td>0.021163</td>\n",
       "      <td>0.087773</td>\n",
       "      <td>0.092784</td>\n",
       "      <td>0.089955</td>\n",
       "      <td>0.069511</td>\n",
       "      <td>0.242199</td>\n",
       "      <td>0.241821</td>\n",
       "      <td>0.115419</td>\n",
       "      <td>...</td>\n",
       "      <td>0.003013</td>\n",
       "      <td>0.003016</td>\n",
       "      <td>0.000576</td>\n",
       "      <td>0.013408</td>\n",
       "      <td>0.013419</td>\n",
       "      <td>0.019072</td>\n",
       "      <td>2.273213e-07</td>\n",
       "      <td>0.000009</td>\n",
       "      <td>1.274921e-09</td>\n",
       "      <td>9294.851772</td>\n",
       "    </tr>\n",
       "  </tbody>\n",
       "</table>\n",
       "<p>11 rows × 47 columns</p>\n",
       "</div>"
      ],
      "text/plain": [
       "     fair_major  fair_minor  tau_x_mean  tau_y_mean  NMI_true_labels_mean  \\\n",
       "110         1.0         0.0    0.111630    0.110607              0.116889   \n",
       "111         1.0         0.1    0.106110    0.105168              0.126499   \n",
       "112         1.0         0.2    0.101809    0.099417              0.121240   \n",
       "113         1.0         0.3    0.110575    0.111940              0.122319   \n",
       "114         1.0         0.4    0.108991    0.107981              0.115088   \n",
       "115         1.0         0.5    0.110396    0.109000              0.112919   \n",
       "116         1.0         0.6    0.098336    0.099441              0.118727   \n",
       "117         1.0         0.7    0.106991    0.105056              0.112522   \n",
       "118         1.0         0.8    0.090258    0.102550              0.118275   \n",
       "119         1.0         0.9    0.066038    0.087720              0.110980   \n",
       "120         1.0         1.0    0.021163    0.087773              0.092784   \n",
       "\n",
       "     AMI_true_labels_mean  ARI_true_labels_mean  NMI_rows_mean  AMI_rows_mean  \\\n",
       "110              0.114917              0.102512       0.677707       0.677661   \n",
       "111              0.124440              0.108950       0.638921       0.638867   \n",
       "112              0.118905              0.095307       0.560552       0.560480   \n",
       "113              0.120495              0.110735       0.713102       0.713065   \n",
       "114              0.113116              0.099038       0.652160       0.652109   \n",
       "115              0.110931              0.098209       0.674994       0.674948   \n",
       "116              0.116613              0.105999       0.567669       0.567600   \n",
       "117              0.110521              0.100468       0.683600       0.683557   \n",
       "118              0.116199              0.100320       0.542959       0.542873   \n",
       "119              0.108496              0.089863       0.380173       0.380024   \n",
       "120              0.089955              0.069511       0.242199       0.241821   \n",
       "\n",
       "     ARI_rows_mean  ...  NMI_rows_var  AMI_rows_var  ARI_rows_var  \\\n",
       "110       0.733491  ...      0.024470      0.024481      0.034612   \n",
       "111       0.686942  ...      0.020141      0.020151      0.034580   \n",
       "112       0.593565  ...      0.032511      0.032526      0.052039   \n",
       "113       0.777796  ...      0.007065      0.007068      0.010695   \n",
       "114       0.706476  ...      0.026274      0.026286      0.040755   \n",
       "115       0.735967  ...      0.017462      0.017470      0.025157   \n",
       "116       0.621907  ...      0.050733      0.050755      0.062144   \n",
       "117       0.752718  ...      0.004841      0.004844      0.007199   \n",
       "118       0.563583  ...      0.036987      0.037010      0.063429   \n",
       "119       0.361879  ...      0.032562      0.032585      0.057353   \n",
       "120       0.115419  ...      0.003013      0.003016      0.000576   \n",
       "\n",
       "     NMI_cols_var  AMI_cols_var  ARI_cols_var  balance_chierichetti_var  \\\n",
       "110      0.024940      0.024957      0.030029              4.931726e-04   \n",
       "111      0.018500      0.018514      0.021217              4.016613e-03   \n",
       "112      0.027189      0.027209      0.032304              1.924494e-03   \n",
       "113      0.006142      0.006147      0.006894              6.255552e-04   \n",
       "114      0.026612      0.026631      0.031590              1.324141e-03   \n",
       "115      0.019590      0.019604      0.021299              2.690543e-04   \n",
       "116      0.026566      0.026581      0.022667              1.940769e-03   \n",
       "117      0.006403      0.006409      0.004845              4.588145e-04   \n",
       "118      0.031118      0.031140      0.036986              1.497374e-04   \n",
       "119      0.030905      0.030928      0.034361              3.081778e-07   \n",
       "120      0.013408      0.013419      0.019072              2.273213e-07   \n",
       "\n",
       "     balance_bera_var  KL_fairness_error_var      time_var  \n",
       "110          0.002113           4.404785e-05   2418.112476  \n",
       "111          0.020524           9.459046e-04   1637.982667  \n",
       "112          0.008817           1.541756e-04   1033.204918  \n",
       "113          0.002862           2.512370e-04   3227.662039  \n",
       "114          0.006221           1.756902e-04    775.718988  \n",
       "115          0.001120           1.378539e-05   1379.062302  \n",
       "116          0.008809           6.751974e-04  34146.235952  \n",
       "117          0.001939           2.928952e-05   3806.363392  \n",
       "118          0.002818           1.324896e-04  17904.026055  \n",
       "119          0.006355           3.029491e-04  32644.274811  \n",
       "120          0.000009           1.274921e-09   9294.851772  \n",
       "\n",
       "[11 rows x 47 columns]"
      ]
     },
     "execution_count": 4,
     "metadata": {},
     "output_type": "execute_result"
    }
   ],
   "source": [
    "df = pd.read_csv(root + f\"/results/{dataset}/{sensitive}/taucc_fair/init_random/aggregated.csv\")\n",
    "df = df[df[\"fair_major\"] == alpha]\n",
    "df"
   ]
  },
  {
   "cell_type": "code",
   "execution_count": 5,
   "id": "2bf6e07c",
   "metadata": {},
   "outputs": [
    {
     "data": {
      "text/html": [
       "<div>\n",
       "<style scoped>\n",
       "    .dataframe tbody tr th:only-of-type {\n",
       "        vertical-align: middle;\n",
       "    }\n",
       "\n",
       "    .dataframe tbody tr th {\n",
       "        vertical-align: top;\n",
       "    }\n",
       "\n",
       "    .dataframe thead th {\n",
       "        text-align: right;\n",
       "    }\n",
       "</style>\n",
       "<table border=\"1\" class=\"dataframe\">\n",
       "  <thead>\n",
       "    <tr style=\"text-align: right;\">\n",
       "      <th></th>\n",
       "      <th>tau_x_mean</th>\n",
       "      <th>tau_x_std</th>\n",
       "      <th>tau_x_var</th>\n",
       "      <th>tau_y_mean</th>\n",
       "      <th>tau_y_std</th>\n",
       "      <th>tau_y_var</th>\n",
       "      <th>NMI_mean</th>\n",
       "      <th>NMI_std</th>\n",
       "      <th>NMI_var</th>\n",
       "      <th>AMI_mean</th>\n",
       "      <th>...</th>\n",
       "      <th>balance_chierichetti_var</th>\n",
       "      <th>balance_bera_mean</th>\n",
       "      <th>balance_bera_std</th>\n",
       "      <th>balance_bera_var</th>\n",
       "      <th>KL_fairness_error_mean</th>\n",
       "      <th>KL_fairness_error_std</th>\n",
       "      <th>KL_fairness_error_var</th>\n",
       "      <th>time_mean</th>\n",
       "      <th>time_std</th>\n",
       "      <th>time_var</th>\n",
       "    </tr>\n",
       "  </thead>\n",
       "  <tbody>\n",
       "    <tr>\n",
       "      <th>0</th>\n",
       "      <td>0.113785</td>\n",
       "      <td>0.008894</td>\n",
       "      <td>0.000079</td>\n",
       "      <td>0.110683</td>\n",
       "      <td>0.012225</td>\n",
       "      <td>0.000149</td>\n",
       "      <td>0.115085</td>\n",
       "      <td>0.011243</td>\n",
       "      <td>0.000126</td>\n",
       "      <td>0.112922</td>\n",
       "      <td>...</td>\n",
       "      <td>0.000584</td>\n",
       "      <td>0.786248</td>\n",
       "      <td>0.053321</td>\n",
       "      <td>0.002843</td>\n",
       "      <td>0.019257</td>\n",
       "      <td>0.009754</td>\n",
       "      <td>0.000095</td>\n",
       "      <td>3.617867</td>\n",
       "      <td>1.277285</td>\n",
       "      <td>1.631457</td>\n",
       "    </tr>\n",
       "  </tbody>\n",
       "</table>\n",
       "<p>1 rows × 27 columns</p>\n",
       "</div>"
      ],
      "text/plain": [
       "   tau_x_mean  tau_x_std  tau_x_var  tau_y_mean  tau_y_std  tau_y_var  \\\n",
       "0    0.113785   0.008894   0.000079    0.110683   0.012225   0.000149   \n",
       "\n",
       "   NMI_mean   NMI_std   NMI_var  AMI_mean  ...  balance_chierichetti_var  \\\n",
       "0  0.115085  0.011243  0.000126  0.112922  ...                  0.000584   \n",
       "\n",
       "   balance_bera_mean  balance_bera_std  balance_bera_var  \\\n",
       "0           0.786248          0.053321          0.002843   \n",
       "\n",
       "   KL_fairness_error_mean  KL_fairness_error_std  KL_fairness_error_var  \\\n",
       "0                0.019257               0.009754               0.000095   \n",
       "\n",
       "   time_mean  time_std  time_var  \n",
       "0   3.617867  1.277285  1.631457  \n",
       "\n",
       "[1 rows x 27 columns]"
      ]
     },
     "execution_count": 5,
     "metadata": {},
     "output_type": "execute_result"
    }
   ],
   "source": [
    "df_vanilla = pd.read_csv(root + f\"/results/{dataset}/{sensitive}/taucc_vanilla/init_random/results_aggregated.csv\")\n",
    "df_vanilla"
   ]
  },
  {
   "cell_type": "code",
   "execution_count": 6,
   "id": "c95643d6",
   "metadata": {},
   "outputs": [
    {
     "data": {
      "text/plain": [
       "array([1.])"
      ]
     },
     "execution_count": 6,
     "metadata": {},
     "output_type": "execute_result"
    }
   ],
   "source": [
    "values = np.unique(df[\"fair_major\"])\n",
    "values"
   ]
  },
  {
   "cell_type": "code",
   "execution_count": 7,
   "id": "b7236d5e",
   "metadata": {},
   "outputs": [],
   "source": [
    "def create_path(path):\n",
    "    if not os.path.exists(path):\n",
    "        os.makedirs(path)"
   ]
  },
  {
   "cell_type": "code",
   "execution_count": 8,
   "id": "640d7a9a",
   "metadata": {},
   "outputs": [
    {
     "data": {
      "text/plain": [
       "'./fair_taucc/plots/paper'"
      ]
     },
     "execution_count": 8,
     "metadata": {},
     "output_type": "execute_result"
    }
   ],
   "source": [
    "plot_path = root + f\"/plots/paper\"\n",
    "#create_path(plot_path)\n",
    "plot_path"
   ]
  },
  {
   "cell_type": "markdown",
   "id": "3821abd5",
   "metadata": {},
   "source": [
    "## Plot of Results (only balance, ARI e taus)"
   ]
  },
  {
   "cell_type": "code",
   "execution_count": 9,
   "id": "dd5b7f49",
   "metadata": {},
   "outputs": [
    {
     "data": {
      "text/plain": [
       "array([0. , 0.1, 0.2, 0.3, 0.4, 0.5, 0.6, 0.7, 0.8, 0.9, 1. ])"
      ]
     },
     "execution_count": 9,
     "metadata": {},
     "output_type": "execute_result"
    }
   ],
   "source": [
    "x = np.array(df[\"fair_minor\"].values)\n",
    "x"
   ]
  },
  {
   "cell_type": "markdown",
   "id": "4b1fa57f",
   "metadata": {},
   "source": [
    "Balance"
   ]
  },
  {
   "cell_type": "code",
   "execution_count": 10,
   "id": "3d353f9d",
   "metadata": {},
   "outputs": [
    {
     "data": {
      "image/png": "[encoded data removed]",
      "text/plain": [
       "<Figure size 432x288 with 1 Axes>"
      ]
     },
     "metadata": {
      "needs_background": "light"
     },
     "output_type": "display_data"
    }
   ],
   "source": [
    "# Vanilla TauCC\n",
    "vanilla_bera_mean = np.full(len(x), df_vanilla[\"balance_bera_mean\"].values[0])\n",
    "vanilla_bera_std = np.full(len(x), df_vanilla[\"balance_bera_std\"].values[0])\n",
    "\n",
    "# Fair TauCC\n",
    "balance_bera_mean = np.array(df[\"balance_bera_mean\"].values)\n",
    "balance_bera_std = np.array(df[\"balance_bera_std\"].values)\n",
    "\n",
    "plt.plot(x, balance_bera_mean, label='fair')\n",
    "plt.fill_between(x, balance_bera_mean - balance_bera_std, balance_bera_mean + balance_bera_std, alpha=0.2, color='g')\n",
    "plt.plot(x, vanilla_bera_mean, label='vanilla')\n",
    "plt.fill_between(x, vanilla_bera_mean - vanilla_bera_std, vanilla_bera_mean + vanilla_bera_std, alpha=0.2)\n",
    "plt.ylim(0.0, 1.0)\n",
    "plt.xlim(0.0, 1.0)\n",
    "plt.legend()\n",
    "plt.xlabel('$\\\\alpha$ minority group')\n",
    "plt.ylabel('balance')\n",
    "plt.title(f'Balance [Bera et al.] \\n $\\\\alpha$ majority group = {alpha}')\n",
    "plt.grid(True)\n",
    "plt.tight_layout()\n",
    "#plt.show()\n",
    "plt.savefig(plot_path + f\"/{dataset}_fairness.png\", dpi=300)"
   ]
  },
  {
   "cell_type": "markdown",
   "id": "80890db8",
   "metadata": {},
   "source": [
    "ARI w.r.t. true labels"
   ]
  },
  {
   "cell_type": "code",
   "execution_count": 16,
   "id": "60734bc3",
   "metadata": {},
   "outputs": [
    {
     "data": {
      "image/png": "[encoded data removed]",
      "text/plain": [
       "<Figure size 432x288 with 1 Axes>"
      ]
     },
     "metadata": {
      "needs_background": "light"
     },
     "output_type": "display_data"
    }
   ],
   "source": [
    "vanilla_ARI_mean = np.full(len(x), df_vanilla[\"ARI_mean\"].values[0])\n",
    "vanilla_ARI_std = np.full(len(x), df_vanilla[\"ARI_std\"].values[0])\n",
    "\n",
    "ARI_mean = np.array(df[\"ARI_true_labels_mean\"].values)\n",
    "ARI_std = np.array(df[\"ARI_true_labels_std\"].values)\n",
    "\n",
    "plt.plot(x, ARI_mean, label='fair')\n",
    "plt.fill_between(x, ARI_mean - ARI_std, ARI_mean + ARI_std, alpha=0.2, color='g')\n",
    "plt.plot(x, vanilla_ARI_mean, label='vanilla')\n",
    "plt.fill_between(x, vanilla_ARI_mean - vanilla_ARI_std, vanilla_ARI_mean + vanilla_ARI_std, alpha=0.2)\n",
    "plt.ylim(0.0, 0.15)\n",
    "plt.xlim(0.0, 1.0)\n",
    "plt.legend()\n",
    "plt.xlabel('$\\\\alpha$ minority group')\n",
    "plt.ylabel('ARI')\n",
    "plt.title(f'ARI w.r.t. true labels \\n $\\\\alpha$ majority group = {alpha}')\n",
    "plt.grid(True)\n",
    "plt.tight_layout()\n",
    "#plt.show()\n",
    "plt.savefig(plot_path + f\"/{dataset}_ARI_true.png\", dpi=300)"
   ]
  },
  {
   "cell_type": "markdown",
   "id": "9263e3db",
   "metadata": {},
   "source": [
    "ARI w.r.t. vanilla TauCC"
   ]
  },
  {
   "cell_type": "code",
   "execution_count": 12,
   "id": "5c93ab62",
   "metadata": {},
   "outputs": [
    {
     "data": {
      "image/png": "[encoded data removed]",
      "text/plain": [
       "<Figure size 432x288 with 1 Axes>"
      ]
     },
     "metadata": {
      "needs_background": "light"
     },
     "output_type": "display_data"
    }
   ],
   "source": [
    "ARIrows_mean = np.array(df[\"ARI_rows_mean\"].values)\n",
    "ARIrows_std = np.array(df[\"ARI_rows_std\"].values)\n",
    "ARI_mean = np.array(df[\"ARI_cols_mean\"].values)\n",
    "ARI_std = np.array(df[\"ARI_cols_std\"].values)\n",
    "\n",
    "plt.plot(x, ARIrows_mean, label='ARI w.r.t. rows', color=\"green\")\n",
    "plt.fill_between(x, ARIrows_mean - ARIrows_std, ARIrows_mean + ARIrows_std, alpha=0.2, color=\"green\")\n",
    "plt.plot(x, ARI_mean, label='ARI w.r.t. cols')\n",
    "plt.fill_between(x, ARI_mean - ARI_std, ARI_mean + ARI_std, alpha=0.2)\n",
    "plt.ylim(-1.0, 1.0)\n",
    "plt.xlim(0.0, 1.0)\n",
    "plt.legend()\n",
    "plt.xlabel('$\\\\alpha$ minority group')\n",
    "plt.ylabel('ARI')\n",
    "plt.title(f'ARI w.r.t. $\\\\tau$CC rows and columns \\n $\\\\alpha$ majority group = {alpha}')\n",
    "plt.grid(True)\n",
    "plt.tight_layout()\n",
    "#plt.show()\n",
    "plt.savefig(plot_path + f\"/{dataset}_ARI.png\", dpi=300)"
   ]
  },
  {
   "cell_type": "markdown",
   "id": "75974274",
   "metadata": {},
   "source": [
    "tau x and tau y"
   ]
  },
  {
   "cell_type": "code",
   "execution_count": 13,
   "id": "a02edb13",
   "metadata": {},
   "outputs": [],
   "source": [
    "vanilla_taux_mean = np.full(len(x), df_vanilla[\"tau_x_mean\"].values[0])\n",
    "vanilla_taux_std = np.full(len(x), df_vanilla[\"tau_x_std\"].values[0])\n",
    "vanilla_tauy_mean = np.full(len(x), df_vanilla[\"tau_y_mean\"].values[0])\n",
    "vanilla_tauy_std = np.full(len(x), df_vanilla[\"tau_y_std\"].values[0])\n",
    "\n",
    "taux_mean = np.array(df[\"tau_x_mean\"].values)\n",
    "taux_std = np.array(df[\"tau_x_std\"].values)\n",
    "tauy_mean = np.array(df[\"tau_y_mean\"].values)\n",
    "tauy_std = np.array(df[\"tau_y_std\"].values)"
   ]
  },
  {
   "cell_type": "code",
   "execution_count": 14,
   "id": "230e03b4",
   "metadata": {},
   "outputs": [
    {
     "data": {
      "image/png": "[encoded data removed]",
      "text/plain": [
       "<Figure size 432x288 with 1 Axes>"
      ]
     },
     "metadata": {
      "needs_background": "light"
     },
     "output_type": "display_data"
    }
   ],
   "source": [
    "# fair\n",
    "plt.plot(x, taux_mean, label='tau x (fair)')\n",
    "plt.fill_between(x, taux_mean - taux_std, taux_mean + taux_std, alpha=0.2)\n",
    "plt.plot(x, tauy_mean, label='tau y (fair)')\n",
    "plt.fill_between(x, tauy_mean - tauy_std, tauy_mean + tauy_std, alpha=0.2)\n",
    "\n",
    "# vanilla\n",
    "plt.plot(x, vanilla_taux_mean, label='tau x (vanilla)')\n",
    "plt.fill_between(x, vanilla_taux_mean - vanilla_taux_std, vanilla_taux_mean + vanilla_taux_std, alpha=0.2)\n",
    "plt.plot(x, vanilla_tauy_mean, label='tau y (vanilla)')\n",
    "plt.fill_between(x, vanilla_tauy_mean - vanilla_tauy_std, vanilla_tauy_mean + vanilla_tauy_std, alpha=0.2) \n",
    "\n",
    "plt.legend()\n",
    "plt.xlabel('$\\\\alpha$ minority group')\n",
    "plt.ylabel('tau_x, tau_y')\n",
    "plt.title(f'tau_x and tau_y \\n $\\\\alpha$ majority group = {alpha}')\n",
    "\n",
    "plt.xlim(0.0, 1.0)\n",
    "\n",
    "plt.grid(True)\n",
    "plt.tight_layout()\n",
    "#plt.show()\n",
    "plt.savefig(plot_path + f\"/{dataset}_tau.png\", dpi=300)"
   ]
  },
  {
   "cell_type": "code",
   "execution_count": null,
   "id": "a72da3dc",
   "metadata": {},
   "outputs": [],
   "source": []
  },
  {
   "cell_type": "code",
   "execution_count": null,
   "id": "3ca30c98",
   "metadata": {},
   "outputs": [],
   "source": []
  },
  {
   "cell_type": "code",
   "execution_count": null,
   "id": "130eed4c",
   "metadata": {},
   "outputs": [],
   "source": []
  },
  {
   "cell_type": "code",
   "execution_count": null,
   "id": "391f4821",
   "metadata": {},
   "outputs": [],
   "source": []
  },
  {
   "cell_type": "code",
   "execution_count": null,
   "id": "79e39dd0",
   "metadata": {},
   "outputs": [],
   "source": []
  },
  {
   "cell_type": "code",
   "execution_count": null,
   "id": "f4c0a718",
   "metadata": {},
   "outputs": [],
   "source": []
  },
  {
   "cell_type": "code",
   "execution_count": null,
   "id": "b034ef1e",
   "metadata": {},
   "outputs": [],
   "source": []
  },
  {
   "cell_type": "code",
   "execution_count": null,
   "id": "ef239e86",
   "metadata": {},
   "outputs": [],
   "source": []
  }
 ],
 "metadata": {
  "kernelspec": {
   "display_name": "coclus",
   "language": "python",
   "name": "coclus"
  },
  "language_info": {
   "codemirror_mode": {
    "name": "ipython",
    "version": 3
   },
   "file_extension": ".py",
   "mimetype": "text/x-python",
   "name": "python",
   "nbconvert_exporter": "python",
   "pygments_lexer": "ipython3",
   "version": "3.8.10"
  }
 },
 "nbformat": 4,
 "nbformat_minor": 5
}
