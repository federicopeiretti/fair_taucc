{
 "cells": [
  {
   "cell_type": "code",
   "id": "fa0eed65",
   "metadata": {
    "ExecuteTime": {
     "end_time": "2025-03-16T13:34:00.487236Z",
     "start_time": "2025-03-16T13:33:59.913243Z"
    }
   },
   "source": [
    "import pickle\n",
    "import os\n",
    "import numpy as np\n",
    "import pandas as pd\n",
    "from scipy.sparse import coo_matrix"
   ],
   "outputs": [],
   "execution_count": 1
  },
  {
   "cell_type": "code",
   "id": "a7c00274",
   "metadata": {
    "ExecuteTime": {
     "end_time": "2025-03-16T13:34:01.900857Z",
     "start_time": "2025-03-16T13:34:01.895604Z"
    }
   },
   "source": [
    "def create_path(path):\n",
    "    if not os.path.exists(path):\n",
    "        os.mkdir(path)\n",
    "        print(\"Folder %s created!\" % path)\n",
    "    else:\n",
    "        print(\"Folder %s already exists\" % path)"
   ],
   "outputs": [],
   "execution_count": 2
  },
  {
   "metadata": {
    "ExecuteTime": {
     "end_time": "2025-03-16T13:34:02.791657Z",
     "start_time": "2025-03-16T13:34:02.785607Z"
    }
   },
   "cell_type": "code",
   "source": [
    "current_path = os.getcwd()\n",
    "while not os.path.exists(os.path.join(current_path, '.git')):\n",
    "    current_path = os.path.dirname(current_path)"
   ],
   "id": "7f4739ba550f3d21",
   "outputs": [],
   "execution_count": 3
  },
  {
   "cell_type": "code",
   "id": "fb05a4e1",
   "metadata": {
    "ExecuteTime": {
     "end_time": "2025-03-16T13:34:04.326514Z",
     "start_time": "2025-03-16T13:34:04.285488Z"
    }
   },
   "source": [
    "DATASET = \"amazon\"\n",
    "SENSITIVE = \"gender\"\n",
    "\n",
    "dataset_path = f\"{current_path}/datasets/{DATASET}\"\n",
    "\n",
    "V = np.load(dataset_path + \"/matrix.npy\").astype(float)\n",
    "Sx = np.load(dataset_path + f\"/{SENSITIVE}.npy\")\n",
    "V.shape"
   ],
   "outputs": [
    {
     "data": {
      "text/plain": [
       "(705, 10152)"
      ]
     },
     "execution_count": 4,
     "metadata": {},
     "output_type": "execute_result"
    }
   ],
   "execution_count": 4
  },
  {
   "cell_type": "code",
   "id": "d4d64e69",
   "metadata": {
    "ExecuteTime": {
     "end_time": "2025-03-16T13:47:01.043296Z",
     "start_time": "2025-03-16T13:47:01.029678Z"
    }
   },
   "source": "root = os.getcwd()",
   "outputs": [],
   "execution_count": 12
  },
  {
   "cell_type": "markdown",
   "id": "c9bde0c7",
   "metadata": {},
   "source": [
    "### file: f\"{DATASET}_blocks_topk_user_{SENSITIVE}.pkl\""
   ]
  },
  {
   "cell_type": "code",
   "execution_count": 6,
   "id": "21ee93ee",
   "metadata": {},
   "outputs": [
    {
     "name": "stdout",
     "output_type": "stream",
     "text": [
      "  (0, 0)\t5.0\n",
      "  (0, 47)\t5.0\n",
      "  (0, 144)\t5.0\n",
      "  (0, 253)\t4.0\n",
      "  (0, 513)\t5.0\n",
      "  (0, 517)\t4.0\n",
      "  (0, 574)\t4.0\n",
      "  (0, 580)\t4.0\n",
      "  (0, 581)\t5.0\n",
      "  (0, 593)\t4.0\n",
      "  (0, 639)\t3.0\n",
      "  (0, 689)\t3.0\n",
      "  (0, 708)\t3.0\n",
      "  (0, 740)\t4.0\n",
      "  (0, 853)\t3.0\n",
      "  (0, 858)\t4.0\n",
      "  (0, 877)\t4.0\n",
      "  (0, 957)\t5.0\n",
      "  (0, 963)\t5.0\n",
      "  (0, 964)\t5.0\n",
      "  (0, 970)\t5.0\n",
      "  (0, 1025)\t4.0\n",
      "  (0, 1104)\t5.0\n",
      "  (0, 1107)\t3.0\n",
      "  (0, 1117)\t4.0\n",
      "  :\t:\n",
      "  (6039, 3107)\t5.0\n",
      "  (6039, 3115)\t3.0\n",
      "  (6039, 3130)\t4.0\n",
      "  (6039, 3132)\t2.0\n",
      "  (6039, 3133)\t4.0\n",
      "  (6039, 3157)\t1.0\n",
      "  (6039, 3186)\t3.0\n",
      "  (6039, 3189)\t3.0\n",
      "  (6039, 3190)\t3.0\n",
      "  (6039, 3192)\t2.0\n",
      "  (6039, 3217)\t3.0\n",
      "  (6039, 3238)\t4.0\n",
      "  (6039, 3271)\t4.0\n",
      "  (6039, 3272)\t4.0\n",
      "  (6039, 3288)\t5.0\n",
      "  (6039, 3291)\t1.0\n",
      "  (6039, 3309)\t4.0\n",
      "  (6039, 3313)\t4.0\n",
      "  (6039, 3318)\t2.0\n",
      "  (6039, 3429)\t4.0\n",
      "  (6039, 3441)\t4.0\n",
      "  (6039, 3461)\t4.0\n",
      "  (6039, 3493)\t4.0\n",
      "  (6039, 3508)\t4.0\n",
      "  (6039, 3575)\t5.0\n"
     ]
    }
   ],
   "source": [
    "print(coo_matrix(V))"
   ]
  },
  {
   "cell_type": "code",
   "execution_count": 7,
   "id": "759c2d7a",
   "metadata": {},
   "outputs": [],
   "source": [
    "row_id_tuple, col_id_tuple = np.where(V != 0)\n",
    "items = V[row_id_tuple, col_id_tuple]\n",
    "sensitive_row_tuple = np.where(Sx[row_id_tuple] == 1, False, True)"
   ]
  },
  {
   "cell_type": "code",
   "execution_count": 8,
   "id": "eed3fac7",
   "metadata": {},
   "outputs": [
    {
     "data": {
      "text/plain": [
       "array([    0,     1,     2, ..., 13230, 13231, 13232])"
      ]
     },
     "execution_count": 8,
     "metadata": {},
     "output_type": "execute_result"
    }
   ],
   "source": [
    "sensitive_str = np.where(Sx == 0, \"M\", \"F\")\n",
    "row_id = np.arange(V.shape[0])\n",
    "row_id"
   ]
  },
  {
   "cell_type": "code",
   "execution_count": 9,
   "id": "58ad5847",
   "metadata": {},
   "outputs": [
    {
     "data": {
      "text/plain": [
       "array([   0,    1,    2, ..., 1847, 1848, 1849])"
      ]
     },
     "execution_count": 9,
     "metadata": {},
     "output_type": "execute_result"
    }
   ],
   "source": [
    "col_id = np.arange(V.shape[1])\n",
    "col_id"
   ]
  },
  {
   "cell_type": "code",
   "execution_count": 10,
   "id": "55ea0b54",
   "metadata": {},
   "outputs": [],
   "source": [
    "data = {\n",
    "    \"data\": pd.DataFrame({\n",
    "        \"user_id\": row_id_tuple,\n",
    "        \"movie_id\": col_id_tuple,\n",
    "        \"user_gender\": sensitive_row_tuple, #True, False\n",
    "        \"user_rating\": V[row_id_tuple,col_id_tuple].astype(float)\n",
    "    }),\n",
    "    \"data_users\": pd.DataFrame({\n",
    "        \"userid\": row_id,\n",
    "        \"gender\": sensitive_str\n",
    "    }),\n",
    "    \"data_movies\": None,\n",
    "    \"blocks\": [{\n",
    "        \"X_train\": coo_matrix(V),\n",
    "        \"X_test\": coo_matrix(V)\n",
    "    }]\n",
    "}"
   ]
  },
  {
   "cell_type": "code",
   "execution_count": 11,
   "id": "2cb21883",
   "metadata": {},
   "outputs": [
    {
     "data": {
      "text/html": [
       "<div>\n",
       "<style scoped>\n",
       "    .dataframe tbody tr th:only-of-type {\n",
       "        vertical-align: middle;\n",
       "    }\n",
       "\n",
       "    .dataframe tbody tr th {\n",
       "        vertical-align: top;\n",
       "    }\n",
       "\n",
       "    .dataframe thead th {\n",
       "        text-align: right;\n",
       "    }\n",
       "</style>\n",
       "<table border=\"1\" class=\"dataframe\">\n",
       "  <thead>\n",
       "    <tr style=\"text-align: right;\">\n",
       "      <th></th>\n",
       "      <th>user_id</th>\n",
       "      <th>movie_id</th>\n",
       "      <th>user_gender</th>\n",
       "      <th>user_rating</th>\n",
       "    </tr>\n",
       "  </thead>\n",
       "  <tbody>\n",
       "    <tr>\n",
       "      <th>0</th>\n",
       "      <td>0</td>\n",
       "      <td>0</td>\n",
       "      <td>True</td>\n",
       "      <td>34.333332</td>\n",
       "    </tr>\n",
       "    <tr>\n",
       "      <th>1</th>\n",
       "      <td>0</td>\n",
       "      <td>1</td>\n",
       "      <td>True</td>\n",
       "      <td>26.000000</td>\n",
       "    </tr>\n",
       "    <tr>\n",
       "      <th>2</th>\n",
       "      <td>0</td>\n",
       "      <td>2</td>\n",
       "      <td>True</td>\n",
       "      <td>22.000000</td>\n",
       "    </tr>\n",
       "    <tr>\n",
       "      <th>3</th>\n",
       "      <td>0</td>\n",
       "      <td>3</td>\n",
       "      <td>True</td>\n",
       "      <td>26.666666</td>\n",
       "    </tr>\n",
       "    <tr>\n",
       "      <th>4</th>\n",
       "      <td>0</td>\n",
       "      <td>4</td>\n",
       "      <td>True</td>\n",
       "      <td>31.333334</td>\n",
       "    </tr>\n",
       "    <tr>\n",
       "      <th>...</th>\n",
       "      <td>...</td>\n",
       "      <td>...</td>\n",
       "      <td>...</td>\n",
       "      <td>...</td>\n",
       "    </tr>\n",
       "    <tr>\n",
       "      <th>24479659</th>\n",
       "      <td>13232</td>\n",
       "      <td>1845</td>\n",
       "      <td>True</td>\n",
       "      <td>98.666664</td>\n",
       "    </tr>\n",
       "    <tr>\n",
       "      <th>24479660</th>\n",
       "      <td>13232</td>\n",
       "      <td>1846</td>\n",
       "      <td>True</td>\n",
       "      <td>110.333336</td>\n",
       "    </tr>\n",
       "    <tr>\n",
       "      <th>24479661</th>\n",
       "      <td>13232</td>\n",
       "      <td>1847</td>\n",
       "      <td>True</td>\n",
       "      <td>117.000000</td>\n",
       "    </tr>\n",
       "    <tr>\n",
       "      <th>24479662</th>\n",
       "      <td>13232</td>\n",
       "      <td>1848</td>\n",
       "      <td>True</td>\n",
       "      <td>108.333336</td>\n",
       "    </tr>\n",
       "    <tr>\n",
       "      <th>24479663</th>\n",
       "      <td>13232</td>\n",
       "      <td>1849</td>\n",
       "      <td>True</td>\n",
       "      <td>130.666672</td>\n",
       "    </tr>\n",
       "  </tbody>\n",
       "</table>\n",
       "<p>24479664 rows × 4 columns</p>\n",
       "</div>"
      ],
      "text/plain": [
       "          user_id  movie_id  user_gender  user_rating\n",
       "0               0         0         True    34.333332\n",
       "1               0         1         True    26.000000\n",
       "2               0         2         True    22.000000\n",
       "3               0         3         True    26.666666\n",
       "4               0         4         True    31.333334\n",
       "...           ...       ...          ...          ...\n",
       "24479659    13232      1845         True    98.666664\n",
       "24479660    13232      1846         True   110.333336\n",
       "24479661    13232      1847         True   117.000000\n",
       "24479662    13232      1848         True   108.333336\n",
       "24479663    13232      1849         True   130.666672\n",
       "\n",
       "[24479664 rows x 4 columns]"
      ]
     },
     "execution_count": 11,
     "metadata": {},
     "output_type": "execute_result"
    }
   ],
   "source": [
    "data[\"data\"]"
   ]
  },
  {
   "cell_type": "code",
   "execution_count": 12,
   "id": "1917071f",
   "metadata": {},
   "outputs": [
    {
     "data": {
      "text/html": [
       "<div>\n",
       "<style scoped>\n",
       "    .dataframe tbody tr th:only-of-type {\n",
       "        vertical-align: middle;\n",
       "    }\n",
       "\n",
       "    .dataframe tbody tr th {\n",
       "        vertical-align: top;\n",
       "    }\n",
       "\n",
       "    .dataframe thead th {\n",
       "        text-align: right;\n",
       "    }\n",
       "</style>\n",
       "<table border=\"1\" class=\"dataframe\">\n",
       "  <thead>\n",
       "    <tr style=\"text-align: right;\">\n",
       "      <th></th>\n",
       "      <th>userid</th>\n",
       "      <th>gender</th>\n",
       "    </tr>\n",
       "  </thead>\n",
       "  <tbody>\n",
       "    <tr>\n",
       "      <th>0</th>\n",
       "      <td>0</td>\n",
       "      <td>M</td>\n",
       "    </tr>\n",
       "    <tr>\n",
       "      <th>1</th>\n",
       "      <td>1</td>\n",
       "      <td>M</td>\n",
       "    </tr>\n",
       "    <tr>\n",
       "      <th>2</th>\n",
       "      <td>2</td>\n",
       "      <td>M</td>\n",
       "    </tr>\n",
       "    <tr>\n",
       "      <th>3</th>\n",
       "      <td>3</td>\n",
       "      <td>M</td>\n",
       "    </tr>\n",
       "    <tr>\n",
       "      <th>4</th>\n",
       "      <td>4</td>\n",
       "      <td>F</td>\n",
       "    </tr>\n",
       "    <tr>\n",
       "      <th>...</th>\n",
       "      <td>...</td>\n",
       "      <td>...</td>\n",
       "    </tr>\n",
       "    <tr>\n",
       "      <th>13228</th>\n",
       "      <td>13228</td>\n",
       "      <td>M</td>\n",
       "    </tr>\n",
       "    <tr>\n",
       "      <th>13229</th>\n",
       "      <td>13229</td>\n",
       "      <td>F</td>\n",
       "    </tr>\n",
       "    <tr>\n",
       "      <th>13230</th>\n",
       "      <td>13230</td>\n",
       "      <td>M</td>\n",
       "    </tr>\n",
       "    <tr>\n",
       "      <th>13231</th>\n",
       "      <td>13231</td>\n",
       "      <td>M</td>\n",
       "    </tr>\n",
       "    <tr>\n",
       "      <th>13232</th>\n",
       "      <td>13232</td>\n",
       "      <td>M</td>\n",
       "    </tr>\n",
       "  </tbody>\n",
       "</table>\n",
       "<p>13233 rows × 2 columns</p>\n",
       "</div>"
      ],
      "text/plain": [
       "       userid gender\n",
       "0           0      M\n",
       "1           1      M\n",
       "2           2      M\n",
       "3           3      M\n",
       "4           4      F\n",
       "...       ...    ...\n",
       "13228   13228      M\n",
       "13229   13229      F\n",
       "13230   13230      M\n",
       "13231   13231      M\n",
       "13232   13232      M\n",
       "\n",
       "[13233 rows x 2 columns]"
      ]
     },
     "execution_count": 12,
     "metadata": {},
     "output_type": "execute_result"
    }
   ],
   "source": [
    "data[\"data_users\"]"
   ]
  },
  {
   "cell_type": "code",
   "execution_count": 13,
   "id": "6181cdbe",
   "metadata": {},
   "outputs": [
    {
     "data": {
      "text/plain": [
       "[{'X_train': <13233x1850 sparse matrix of type '<class 'numpy.float64'>'\n",
       "  \twith 24479664 stored elements in COOrdinate format>,\n",
       "  'X_test': <13233x1850 sparse matrix of type '<class 'numpy.float64'>'\n",
       "  \twith 24479664 stored elements in COOrdinate format>}]"
      ]
     },
     "execution_count": 13,
     "metadata": {},
     "output_type": "execute_result"
    }
   ],
   "source": [
    "data[\"blocks\"]"
   ]
  },
  {
   "cell_type": "code",
   "execution_count": 14,
   "id": "8d774ddf",
   "metadata": {},
   "outputs": [
    {
     "name": "stdout",
     "output_type": "stream",
     "text": [
      "Folder ./fair_taucc/algorithms/C-Fairness-RecSys/reproducibility_study/Frisch_et_al/data/lfw already exists\n"
     ]
    }
   ],
   "source": [
    "save_path = f\"{root}/reproducibility_study/Frisch_et_al/data/{DATASET}\"\n",
    "create_path(save_path)"
   ]
  },
  {
   "cell_type": "code",
   "execution_count": 15,
   "id": "e5709206",
   "metadata": {},
   "outputs": [],
   "source": [
    "with open(f\"{save_path}/{DATASET}_blocks_topk_{SENSITIVE}.pkl\", \"wb\") as data_file:\n",
    "    pickle.dump(data, data_file, protocol=pickle.HIGHEST_PROTOCOL)"
   ]
  },
  {
   "cell_type": "code",
   "execution_count": 16,
   "id": "030a792e",
   "metadata": {},
   "outputs": [
    {
     "data": {
      "text/plain": [
       "array([    0,     1,     2, ..., 13230, 13231, 13232])"
      ]
     },
     "execution_count": 16,
     "metadata": {},
     "output_type": "execute_result"
    }
   ],
   "source": [
    "row_id"
   ]
  },
  {
   "cell_type": "code",
   "execution_count": 17,
   "id": "8be38c75",
   "metadata": {},
   "outputs": [],
   "source": [
    "data_extra = {\n",
    "    \"users_map\": {str(value).encode(): value for value in row_id},\n",
    "    \"items_map\": {str(value).encode(): value for value in col_id}\n",
    "}"
   ]
  },
  {
   "cell_type": "code",
   "execution_count": 18,
   "id": "44597c31",
   "metadata": {},
   "outputs": [],
   "source": [
    "with open(f\"{save_path}/{DATASET}_extra_data_{SENSITIVE}.pkl\", \"wb\") as extra_file:\n",
    "    pickle.dump(data_extra, extra_file, protocol=pickle.HIGHEST_PROTOCOL)"
   ]
  },
  {
   "cell_type": "code",
   "execution_count": 19,
   "id": "a755be0f",
   "metadata": {},
   "outputs": [
    {
     "name": "stdout",
     "output_type": "stream",
     "text": [
      "<class 'pandas.core.frame.DataFrame'>\n",
      "RangeIndex: 24479664 entries, 0 to 24479663\n",
      "Data columns (total 4 columns):\n",
      " #   Column       Dtype  \n",
      "---  ------       -----  \n",
      " 0   user_id      int64  \n",
      " 1   movie_id     int64  \n",
      " 2   user_gender  bool   \n",
      " 3   user_rating  float64\n",
      "dtypes: bool(1), float64(1), int64(2)\n",
      "memory usage: 583.6 MB\n"
     ]
    }
   ],
   "source": [
    "data[\"data\"].info()"
   ]
  },
  {
   "cell_type": "code",
   "execution_count": null,
   "id": "63f3b406",
   "metadata": {},
   "outputs": [],
   "source": []
  }
 ],
 "metadata": {
  "kernelspec": {
   "display_name": "Python 3 (ipykernel)",
   "language": "python",
   "name": "python3"
  },
  "language_info": {
   "codemirror_mode": {
    "name": "ipython",
    "version": 3
   },
   "file_extension": ".py",
   "mimetype": "text/x-python",
   "name": "python",
   "nbconvert_exporter": "python",
   "pygments_lexer": "ipython3",
   "version": "3.8.10"
  }
 },
 "nbformat": 4,
 "nbformat_minor": 5
}
