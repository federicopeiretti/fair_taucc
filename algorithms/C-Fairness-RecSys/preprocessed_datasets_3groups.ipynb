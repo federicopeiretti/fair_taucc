{
 "cells": [
  {
   "cell_type": "code",
   "execution_count": 1,
   "id": "fa0eed65",
   "metadata": {},
   "outputs": [],
   "source": [
    "import pickle\n",
    "import os\n",
    "import numpy as np\n",
    "import pandas as pd\n",
    "from scipy.sparse import coo_matrix"
   ]
  },
  {
   "cell_type": "code",
   "execution_count": 2,
   "id": "a7c00274",
   "metadata": {},
   "outputs": [],
   "source": [
    "def create_path(path):\n",
    "    if not os.path.exists(path):\n",
    "        os.mkdir(path)\n",
    "        print(\"Folder %s created!\" % path)\n",
    "    else:\n",
    "        print(\"Folder %s already exists\" % path)"
   ]
  },
  {
   "cell_type": "code",
   "execution_count": 3,
   "id": "fb05a4e1",
   "metadata": {},
   "outputs": [
    {
     "data": {
      "text/plain": [
       "(6040, 3706)"
      ]
     },
     "execution_count": 3,
     "metadata": {},
     "output_type": "execute_result"
    }
   ],
   "source": [
    "DATASET = \"movielens-1m\"\n",
    "SENSITIVE = \"age\"\n",
    "\n",
    "if \"movielens\" in DATASET:\n",
    "    dataset_path = f\"./fair_taucc/datasets/movielens/{DATASET}\"\n",
    "else:\n",
    "    dataset_path = f\"./fair_taucc/datasets/{DATASET}\"\n",
    "\n",
    "V = np.load(dataset_path + \"/matrix.npy\").astype(float)\n",
    "Sx = np.load(dataset_path + f\"/{SENSITIVE}.npy\")\n",
    "V.shape"
   ]
  },
  {
   "cell_type": "code",
   "execution_count": 4,
   "id": "db92b77b",
   "metadata": {},
   "outputs": [
    {
     "data": {
      "text/plain": [
       "array([[5., 0., 0., ..., 0., 0., 0.],\n",
       "       [0., 0., 0., ..., 0., 0., 0.],\n",
       "       [0., 0., 0., ..., 0., 0., 0.],\n",
       "       ...,\n",
       "       [0., 0., 0., ..., 0., 0., 0.],\n",
       "       [0., 0., 0., ..., 0., 0., 0.],\n",
       "       [3., 0., 0., ..., 0., 0., 0.]])"
      ]
     },
     "execution_count": 4,
     "metadata": {},
     "output_type": "execute_result"
    }
   ],
   "source": [
    "V"
   ]
  },
  {
   "cell_type": "code",
   "execution_count": 5,
   "id": "d4d64e69",
   "metadata": {},
   "outputs": [
    {
     "data": {
      "text/plain": [
       "'./fair_taucc/algorithms/C-Fairness-RecSys'"
      ]
     },
     "execution_count": 5,
     "metadata": {},
     "output_type": "execute_result"
    }
   ],
   "source": [
    "root = os.getcwd()\n",
    "root"
   ]
  },
  {
   "cell_type": "markdown",
   "id": "c9bde0c7",
   "metadata": {},
   "source": [
    "### file: f\"{DATASET}_blocks_topk_user_{SENSITIVE}.pkl\""
   ]
  },
  {
   "cell_type": "code",
   "execution_count": 6,
   "id": "21ee93ee",
   "metadata": {},
   "outputs": [
    {
     "name": "stdout",
     "output_type": "stream",
     "text": [
      "  (0, 0)\t5.0\n",
      "  (0, 47)\t5.0\n",
      "  (0, 144)\t5.0\n",
      "  (0, 253)\t4.0\n",
      "  (0, 513)\t5.0\n",
      "  (0, 517)\t4.0\n",
      "  (0, 574)\t4.0\n",
      "  (0, 580)\t4.0\n",
      "  (0, 581)\t5.0\n",
      "  (0, 593)\t4.0\n",
      "  (0, 639)\t3.0\n",
      "  (0, 689)\t3.0\n",
      "  (0, 708)\t3.0\n",
      "  (0, 740)\t4.0\n",
      "  (0, 853)\t3.0\n",
      "  (0, 858)\t4.0\n",
      "  (0, 877)\t4.0\n",
      "  (0, 957)\t5.0\n",
      "  (0, 963)\t5.0\n",
      "  (0, 964)\t5.0\n",
      "  (0, 970)\t5.0\n",
      "  (0, 1025)\t4.0\n",
      "  (0, 1104)\t5.0\n",
      "  (0, 1107)\t3.0\n",
      "  (0, 1117)\t4.0\n",
      "  :\t:\n",
      "  (6039, 3107)\t5.0\n",
      "  (6039, 3115)\t3.0\n",
      "  (6039, 3130)\t4.0\n",
      "  (6039, 3132)\t2.0\n",
      "  (6039, 3133)\t4.0\n",
      "  (6039, 3157)\t1.0\n",
      "  (6039, 3186)\t3.0\n",
      "  (6039, 3189)\t3.0\n",
      "  (6039, 3190)\t3.0\n",
      "  (6039, 3192)\t2.0\n",
      "  (6039, 3217)\t3.0\n",
      "  (6039, 3238)\t4.0\n",
      "  (6039, 3271)\t4.0\n",
      "  (6039, 3272)\t4.0\n",
      "  (6039, 3288)\t5.0\n",
      "  (6039, 3291)\t1.0\n",
      "  (6039, 3309)\t4.0\n",
      "  (6039, 3313)\t4.0\n",
      "  (6039, 3318)\t2.0\n",
      "  (6039, 3429)\t4.0\n",
      "  (6039, 3441)\t4.0\n",
      "  (6039, 3461)\t4.0\n",
      "  (6039, 3493)\t4.0\n",
      "  (6039, 3508)\t4.0\n",
      "  (6039, 3575)\t5.0\n"
     ]
    }
   ],
   "source": [
    "print(coo_matrix(V))"
   ]
  },
  {
   "cell_type": "code",
   "execution_count": 7,
   "id": "ae2f5a75",
   "metadata": {},
   "outputs": [],
   "source": [
    "row_id_tuple, col_id_tuple = np.where(V != 0)\n",
    "items = V[row_id_tuple, col_id_tuple]"
   ]
  },
  {
   "cell_type": "code",
   "execution_count": 8,
   "id": "89ae5ca9",
   "metadata": {},
   "outputs": [],
   "source": [
    "sensitive_row_tuple_0 = np.where(Sx[row_id_tuple] == 0, True, False)\n",
    "sensitive_row_tuple_1 = np.where(Sx[row_id_tuple] == 1, True, False)\n",
    "sensitive_row_tuple_2 = np.where(Sx[row_id_tuple] == 2, True, False)"
   ]
  },
  {
   "cell_type": "code",
   "execution_count": 14,
   "id": "9ace109e",
   "metadata": {},
   "outputs": [
    {
     "data": {
      "text/plain": [
       "array(['<35', '>=50', '<35', ..., '>=50', '<50', '<35'], dtype='<U4')"
      ]
     },
     "execution_count": 14,
     "metadata": {},
     "output_type": "execute_result"
    }
   ],
   "source": [
    "sensitive_str = np.where(Sx == 0, \"<35\", np.where(Sx == 1, \"<50\", \">=50\"))\n",
    "sensitive_str"
   ]
  },
  {
   "cell_type": "code",
   "execution_count": 7,
   "id": "759c2d7a",
   "metadata": {},
   "outputs": [],
   "source": [
    "#sensitive_row_tuple = np.where(Sx[row_id_tuple] == 1, False, True)\\\n",
    "#sensitive_str = np.where(Sx == 0, \"M\", \"F\")"
   ]
  },
  {
   "cell_type": "code",
   "execution_count": 10,
   "id": "eed3fac7",
   "metadata": {},
   "outputs": [
    {
     "data": {
      "text/plain": [
       "array([   0,    1,    2, ..., 6037, 6038, 6039])"
      ]
     },
     "execution_count": 10,
     "metadata": {},
     "output_type": "execute_result"
    }
   ],
   "source": [
    "row_id = np.arange(V.shape[0])\n",
    "row_id"
   ]
  },
  {
   "cell_type": "code",
   "execution_count": 11,
   "id": "58ad5847",
   "metadata": {},
   "outputs": [
    {
     "data": {
      "text/plain": [
       "array([   0,    1,    2, ..., 3703, 3704, 3705])"
      ]
     },
     "execution_count": 11,
     "metadata": {},
     "output_type": "execute_result"
    }
   ],
   "source": [
    "col_id = np.arange(V.shape[1])\n",
    "col_id"
   ]
  },
  {
   "cell_type": "code",
   "execution_count": 16,
   "id": "55ea0b54",
   "metadata": {},
   "outputs": [],
   "source": [
    "data = {\n",
    "    \"data\": pd.DataFrame({\n",
    "        \"user_id\": row_id_tuple,\n",
    "        \"movie_id\": col_id_tuple,\n",
    "        \"user_age_0\": sensitive_row_tuple_0,\n",
    "        \"user_age_1\": sensitive_row_tuple_1,\n",
    "        \"user_age_2\": sensitive_row_tuple_2,\n",
    "        \"user_rating\": V[row_id_tuple,col_id_tuple].astype(float)\n",
    "    }),\n",
    "    \"data_users\": pd.DataFrame({\n",
    "        \"userid\": row_id,\n",
    "        \"age\": sensitive_str\n",
    "    }),\n",
    "    \"data_movies\": None,\n",
    "    \"blocks\": [{\n",
    "        \"X_train\": coo_matrix(V),\n",
    "        \"X_test\": coo_matrix(V)\n",
    "    }]\n",
    "}"
   ]
  },
  {
   "cell_type": "code",
   "execution_count": 17,
   "id": "2cb21883",
   "metadata": {},
   "outputs": [
    {
     "data": {
      "text/html": [
       "<div>\n",
       "<style scoped>\n",
       "    .dataframe tbody tr th:only-of-type {\n",
       "        vertical-align: middle;\n",
       "    }\n",
       "\n",
       "    .dataframe tbody tr th {\n",
       "        vertical-align: top;\n",
       "    }\n",
       "\n",
       "    .dataframe thead th {\n",
       "        text-align: right;\n",
       "    }\n",
       "</style>\n",
       "<table border=\"1\" class=\"dataframe\">\n",
       "  <thead>\n",
       "    <tr style=\"text-align: right;\">\n",
       "      <th></th>\n",
       "      <th>user_id</th>\n",
       "      <th>movie_id</th>\n",
       "      <th>user_age_0</th>\n",
       "      <th>user_age_1</th>\n",
       "      <th>user_age_2</th>\n",
       "      <th>user_rating</th>\n",
       "    </tr>\n",
       "  </thead>\n",
       "  <tbody>\n",
       "    <tr>\n",
       "      <th>0</th>\n",
       "      <td>0</td>\n",
       "      <td>0</td>\n",
       "      <td>True</td>\n",
       "      <td>False</td>\n",
       "      <td>False</td>\n",
       "      <td>5.0</td>\n",
       "    </tr>\n",
       "    <tr>\n",
       "      <th>1</th>\n",
       "      <td>0</td>\n",
       "      <td>47</td>\n",
       "      <td>True</td>\n",
       "      <td>False</td>\n",
       "      <td>False</td>\n",
       "      <td>5.0</td>\n",
       "    </tr>\n",
       "    <tr>\n",
       "      <th>2</th>\n",
       "      <td>0</td>\n",
       "      <td>144</td>\n",
       "      <td>True</td>\n",
       "      <td>False</td>\n",
       "      <td>False</td>\n",
       "      <td>5.0</td>\n",
       "    </tr>\n",
       "    <tr>\n",
       "      <th>3</th>\n",
       "      <td>0</td>\n",
       "      <td>253</td>\n",
       "      <td>True</td>\n",
       "      <td>False</td>\n",
       "      <td>False</td>\n",
       "      <td>4.0</td>\n",
       "    </tr>\n",
       "    <tr>\n",
       "      <th>4</th>\n",
       "      <td>0</td>\n",
       "      <td>513</td>\n",
       "      <td>True</td>\n",
       "      <td>False</td>\n",
       "      <td>False</td>\n",
       "      <td>5.0</td>\n",
       "    </tr>\n",
       "    <tr>\n",
       "      <th>...</th>\n",
       "      <td>...</td>\n",
       "      <td>...</td>\n",
       "      <td>...</td>\n",
       "      <td>...</td>\n",
       "      <td>...</td>\n",
       "      <td>...</td>\n",
       "    </tr>\n",
       "    <tr>\n",
       "      <th>1000204</th>\n",
       "      <td>6039</td>\n",
       "      <td>3441</td>\n",
       "      <td>True</td>\n",
       "      <td>False</td>\n",
       "      <td>False</td>\n",
       "      <td>4.0</td>\n",
       "    </tr>\n",
       "    <tr>\n",
       "      <th>1000205</th>\n",
       "      <td>6039</td>\n",
       "      <td>3461</td>\n",
       "      <td>True</td>\n",
       "      <td>False</td>\n",
       "      <td>False</td>\n",
       "      <td>4.0</td>\n",
       "    </tr>\n",
       "    <tr>\n",
       "      <th>1000206</th>\n",
       "      <td>6039</td>\n",
       "      <td>3493</td>\n",
       "      <td>True</td>\n",
       "      <td>False</td>\n",
       "      <td>False</td>\n",
       "      <td>4.0</td>\n",
       "    </tr>\n",
       "    <tr>\n",
       "      <th>1000207</th>\n",
       "      <td>6039</td>\n",
       "      <td>3508</td>\n",
       "      <td>True</td>\n",
       "      <td>False</td>\n",
       "      <td>False</td>\n",
       "      <td>4.0</td>\n",
       "    </tr>\n",
       "    <tr>\n",
       "      <th>1000208</th>\n",
       "      <td>6039</td>\n",
       "      <td>3575</td>\n",
       "      <td>True</td>\n",
       "      <td>False</td>\n",
       "      <td>False</td>\n",
       "      <td>5.0</td>\n",
       "    </tr>\n",
       "  </tbody>\n",
       "</table>\n",
       "<p>1000209 rows × 6 columns</p>\n",
       "</div>"
      ],
      "text/plain": [
       "         user_id  movie_id  user_age_0  user_age_1  user_age_2  user_rating\n",
       "0              0         0        True       False       False          5.0\n",
       "1              0        47        True       False       False          5.0\n",
       "2              0       144        True       False       False          5.0\n",
       "3              0       253        True       False       False          4.0\n",
       "4              0       513        True       False       False          5.0\n",
       "...          ...       ...         ...         ...         ...          ...\n",
       "1000204     6039      3441        True       False       False          4.0\n",
       "1000205     6039      3461        True       False       False          4.0\n",
       "1000206     6039      3493        True       False       False          4.0\n",
       "1000207     6039      3508        True       False       False          4.0\n",
       "1000208     6039      3575        True       False       False          5.0\n",
       "\n",
       "[1000209 rows x 6 columns]"
      ]
     },
     "execution_count": 17,
     "metadata": {},
     "output_type": "execute_result"
    }
   ],
   "source": [
    "data[\"data\"]"
   ]
  },
  {
   "cell_type": "code",
   "execution_count": 18,
   "id": "1917071f",
   "metadata": {},
   "outputs": [
    {
     "data": {
      "text/html": [
       "<div>\n",
       "<style scoped>\n",
       "    .dataframe tbody tr th:only-of-type {\n",
       "        vertical-align: middle;\n",
       "    }\n",
       "\n",
       "    .dataframe tbody tr th {\n",
       "        vertical-align: top;\n",
       "    }\n",
       "\n",
       "    .dataframe thead th {\n",
       "        text-align: right;\n",
       "    }\n",
       "</style>\n",
       "<table border=\"1\" class=\"dataframe\">\n",
       "  <thead>\n",
       "    <tr style=\"text-align: right;\">\n",
       "      <th></th>\n",
       "      <th>userid</th>\n",
       "      <th>age</th>\n",
       "    </tr>\n",
       "  </thead>\n",
       "  <tbody>\n",
       "    <tr>\n",
       "      <th>0</th>\n",
       "      <td>0</td>\n",
       "      <td>&lt;35</td>\n",
       "    </tr>\n",
       "    <tr>\n",
       "      <th>1</th>\n",
       "      <td>1</td>\n",
       "      <td>&gt;=50</td>\n",
       "    </tr>\n",
       "    <tr>\n",
       "      <th>2</th>\n",
       "      <td>2</td>\n",
       "      <td>&lt;35</td>\n",
       "    </tr>\n",
       "    <tr>\n",
       "      <th>3</th>\n",
       "      <td>3</td>\n",
       "      <td>&lt;50</td>\n",
       "    </tr>\n",
       "    <tr>\n",
       "      <th>4</th>\n",
       "      <td>4</td>\n",
       "      <td>&lt;35</td>\n",
       "    </tr>\n",
       "    <tr>\n",
       "      <th>...</th>\n",
       "      <td>...</td>\n",
       "      <td>...</td>\n",
       "    </tr>\n",
       "    <tr>\n",
       "      <th>6035</th>\n",
       "      <td>6035</td>\n",
       "      <td>&lt;35</td>\n",
       "    </tr>\n",
       "    <tr>\n",
       "      <th>6036</th>\n",
       "      <td>6036</td>\n",
       "      <td>&lt;50</td>\n",
       "    </tr>\n",
       "    <tr>\n",
       "      <th>6037</th>\n",
       "      <td>6037</td>\n",
       "      <td>&gt;=50</td>\n",
       "    </tr>\n",
       "    <tr>\n",
       "      <th>6038</th>\n",
       "      <td>6038</td>\n",
       "      <td>&lt;50</td>\n",
       "    </tr>\n",
       "    <tr>\n",
       "      <th>6039</th>\n",
       "      <td>6039</td>\n",
       "      <td>&lt;35</td>\n",
       "    </tr>\n",
       "  </tbody>\n",
       "</table>\n",
       "<p>6040 rows × 2 columns</p>\n",
       "</div>"
      ],
      "text/plain": [
       "      userid   age\n",
       "0          0   <35\n",
       "1          1  >=50\n",
       "2          2   <35\n",
       "3          3   <50\n",
       "4          4   <35\n",
       "...      ...   ...\n",
       "6035    6035   <35\n",
       "6036    6036   <50\n",
       "6037    6037  >=50\n",
       "6038    6038   <50\n",
       "6039    6039   <35\n",
       "\n",
       "[6040 rows x 2 columns]"
      ]
     },
     "execution_count": 18,
     "metadata": {},
     "output_type": "execute_result"
    }
   ],
   "source": [
    "data[\"data_users\"]"
   ]
  },
  {
   "cell_type": "code",
   "execution_count": 19,
   "id": "6181cdbe",
   "metadata": {},
   "outputs": [
    {
     "data": {
      "text/plain": [
       "[{'X_train': <6040x3706 sparse matrix of type '<class 'numpy.float64'>'\n",
       "  \twith 1000209 stored elements in COOrdinate format>,\n",
       "  'X_test': <6040x3706 sparse matrix of type '<class 'numpy.float64'>'\n",
       "  \twith 1000209 stored elements in COOrdinate format>}]"
      ]
     },
     "execution_count": 19,
     "metadata": {},
     "output_type": "execute_result"
    }
   ],
   "source": [
    "data[\"blocks\"]"
   ]
  },
  {
   "cell_type": "code",
   "execution_count": 20,
   "id": "8d774ddf",
   "metadata": {},
   "outputs": [
    {
     "name": "stdout",
     "output_type": "stream",
     "text": [
      "Folder ./fair_taucc/algorithms/C-Fairness-RecSys/reproducibility_study/Frisch_et_al/data/movielens_1m_age created!\n"
     ]
    }
   ],
   "source": [
    "save_path = f\"{root}/reproducibility_study/Frisch_et_al/data/movielens_1m_age\"\n",
    "create_path(save_path)"
   ]
  },
  {
   "cell_type": "code",
   "execution_count": 21,
   "id": "e5709206",
   "metadata": {},
   "outputs": [],
   "source": [
    "with open(f\"{save_path}/{DATASET}_blocks_topk_{SENSITIVE}.pkl\", \"wb\") as data_file:\n",
    "    pickle.dump(data, data_file, protocol=pickle.HIGHEST_PROTOCOL)"
   ]
  },
  {
   "cell_type": "code",
   "execution_count": 22,
   "id": "030a792e",
   "metadata": {},
   "outputs": [
    {
     "data": {
      "text/plain": [
       "array([   0,    1,    2, ..., 6037, 6038, 6039])"
      ]
     },
     "execution_count": 22,
     "metadata": {},
     "output_type": "execute_result"
    }
   ],
   "source": [
    "row_id"
   ]
  },
  {
   "cell_type": "code",
   "execution_count": 23,
   "id": "8be38c75",
   "metadata": {},
   "outputs": [],
   "source": [
    "data_extra = {\n",
    "    \"users_map\": {str(value).encode(): value for value in row_id},\n",
    "    \"items_map\": {str(value).encode(): value for value in col_id}\n",
    "}"
   ]
  },
  {
   "cell_type": "code",
   "execution_count": 24,
   "id": "44597c31",
   "metadata": {},
   "outputs": [],
   "source": [
    "with open(f\"{save_path}/{DATASET}_extra_data_{SENSITIVE}.pkl\", \"wb\") as extra_file:\n",
    "    pickle.dump(data_extra, extra_file, protocol=pickle.HIGHEST_PROTOCOL)"
   ]
  },
  {
   "cell_type": "code",
   "execution_count": 25,
   "id": "a755be0f",
   "metadata": {},
   "outputs": [
    {
     "name": "stdout",
     "output_type": "stream",
     "text": [
      "<class 'pandas.core.frame.DataFrame'>\n",
      "RangeIndex: 1000209 entries, 0 to 1000208\n",
      "Data columns (total 6 columns):\n",
      " #   Column       Non-Null Count    Dtype  \n",
      "---  ------       --------------    -----  \n",
      " 0   user_id      1000209 non-null  int64  \n",
      " 1   movie_id     1000209 non-null  int64  \n",
      " 2   user_age_0   1000209 non-null  bool   \n",
      " 3   user_age_1   1000209 non-null  bool   \n",
      " 4   user_age_2   1000209 non-null  bool   \n",
      " 5   user_rating  1000209 non-null  float64\n",
      "dtypes: bool(3), float64(1), int64(2)\n",
      "memory usage: 25.8 MB\n"
     ]
    }
   ],
   "source": [
    "data[\"data\"].info()"
   ]
  },
  {
   "cell_type": "code",
   "execution_count": null,
   "id": "63f3b406",
   "metadata": {},
   "outputs": [],
   "source": []
  }
 ],
 "metadata": {
  "kernelspec": {
   "display_name": "frisch-preproc",
   "language": "python",
   "name": "frisch-preproc"
  },
  "language_info": {
   "codemirror_mode": {
    "name": "ipython",
    "version": 3
   },
   "file_extension": ".py",
   "mimetype": "text/x-python",
   "name": "python",
   "nbconvert_exporter": "python",
   "pygments_lexer": "ipython3",
   "version": "3.8.10"
  }
 },
 "nbformat": 4,
 "nbformat_minor": 5
}
